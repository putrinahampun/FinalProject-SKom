{
  "nbformat": 4,
  "nbformat_minor": 0,
  "metadata": {
    "colab": {
      "provenance": [],
      "collapsed_sections": [
        "vrEc5LW7pXE9",
        "qKp8gKkOxqN8",
        "r9FFKFgGxN-U",
        "HeImImlQS9Hy"
      ],
      "gpuType": "T4",
      "authorship_tag": "ABX9TyO9MKzlVwdZF5jelrzSefs+",
      "include_colab_link": true
    },
    "kernelspec": {
      "name": "python3",
      "display_name": "Python 3"
    },
    "language_info": {
      "name": "python"
    },
    "accelerator": "GPU"
  },
  "cells": [
    {
      "cell_type": "markdown",
      "metadata": {
        "id": "view-in-github",
        "colab_type": "text"
      },
      "source": [
        "<a href=\"https://colab.research.google.com/github/putrinahampun/FinalProject-SKom/blob/main/CNN/Model1.ipynb\" target=\"_parent\"><img src=\"https://colab.research.google.com/assets/colab-badge.svg\" alt=\"Open In Colab\"/></a>"
      ]
    },
    {
      "cell_type": "markdown",
      "source": [
        "## LOAD DATASET"
      ],
      "metadata": {
        "id": "vrEc5LW7pXE9"
      }
    },
    {
      "cell_type": "markdown",
      "source": [
        "Menghubungkan google colab dengan google drive agar bisa mengakses data yang tersimpan didalam gdrive."
      ],
      "metadata": {
        "id": "Gpr4hJjkp-vU"
      }
    },
    {
      "cell_type": "code",
      "execution_count": 81,
      "metadata": {
        "colab": {
          "base_uri": "https://localhost:8080/"
        },
        "id": "_n2HRo2jounT",
        "outputId": "252732d8-ab1b-4391-db73-ed7f083d718c"
      },
      "outputs": [
        {
          "output_type": "stream",
          "name": "stdout",
          "text": [
            "Drive already mounted at /content/drive; to attempt to forcibly remount, call drive.mount(\"/content/drive\", force_remount=True).\n"
          ]
        }
      ],
      "source": [
        "from google.colab import drive\n",
        "drive.mount('/content/drive')"
      ]
    },
    {
      "cell_type": "markdown",
      "source": [
        "Keterangan:\n",
        "* zip_file merupakan variabel yang menyimpan path yang mengarah pada dataset yang masih berbentuk zip.\n",
        "* dataset merupakan variabel yang menyimpan path yang mengarah pada folder dataset, tempat hasil ekstraksi file zip dilakukan"
      ],
      "metadata": {
        "id": "JWTQxruNqIxZ"
      }
    },
    {
      "cell_type": "code",
      "source": [
        "zip_file = '/content/drive/MyDrive/TA/dataset.zip'\n",
        "dataset = '/content/drive/MyDrive/TA'"
      ],
      "metadata": {
        "id": "-qgXgqhVpjA8"
      },
      "execution_count": 82,
      "outputs": []
    },
    {
      "cell_type": "code",
      "source": [],
      "metadata": {
        "id": "eXgUfqW2ZjZB"
      },
      "execution_count": null,
      "outputs": []
    },
    {
      "cell_type": "markdown",
      "source": [
        "Melakukan ekstraksi file zip dan menyimpan kedalam folder path di variabel dataset"
      ],
      "metadata": {
        "id": "CgvfLrrgqjxD"
      }
    },
    {
      "cell_type": "code",
      "source": [
        "import zipfile\n",
        "with zipfile.ZipFile(zip_file, 'r') as zip_ref:\n",
        "    zip_ref.extractall(dataset)"
      ],
      "metadata": {
        "id": "rU99YLFOpyaZ"
      },
      "execution_count": null,
      "outputs": []
    },
    {
      "cell_type": "markdown",
      "source": [
        "## PRE-PROCESSING DATA"
      ],
      "metadata": {
        "id": "5V13mtN_q-XZ"
      }
    },
    {
      "cell_type": "markdown",
      "source": [
        "### Segmentation Using K-Means Clustering"
      ],
      "metadata": {
        "id": "qKp8gKkOxqN8"
      }
    },
    {
      "cell_type": "markdown",
      "source": [
        "Mendefenisikan libraries yang dibutuhkan"
      ],
      "metadata": {
        "id": "oS3kVVg5ytd8"
      }
    },
    {
      "cell_type": "code",
      "source": [
        "import cv2\n",
        "import numpy as np\n",
        "from google.colab import files\n",
        "import os"
      ],
      "metadata": {
        "id": "6JJS-hdzybYj"
      },
      "execution_count": null,
      "outputs": []
    },
    {
      "cell_type": "markdown",
      "source": [
        "**Penggunaan Teknik Equalization**: Menggunakan Equalization Histogram untuk meningkatkan kontras dalam gambar dengan mendistribusikan intensitas piksel secara merata.Gambar akan dikonversi terlebih dahulu kedalam bentuk HSV (Hue, Saturation, Value) agar fungsi equalizeHist dapat diterapkan. Setelahnya, format gambar akan dikembalikan kedalam bentuk BGR"
      ],
      "metadata": {
        "id": "N-5iYt2OzAXQ"
      }
    },
    {
      "cell_type": "code",
      "source": [
        "def equalize_rgb_image(image):\n",
        "    hsi_image = cv2.cvtColor(image, cv2.COLOR_BGR2HSV)\n",
        "    hsi_image[:, :, 2] = cv2.equalizeHist(hsi_image[:, :, 2])\n",
        "    equalized_image = cv2.cvtColor(hsi_image, cv2.COLOR_HSV2BGR)\n",
        "    return equalized_image"
      ],
      "metadata": {
        "id": "cpqmE1nlywyi"
      },
      "execution_count": null,
      "outputs": []
    },
    {
      "cell_type": "markdown",
      "source": [
        "Penggunaan teknik Unsharp Mask: mengaplikasikan efek \"unsharp mask\" pada gambar untuk meningkatkan kejelasan yang lebih baik dan tepi objek pada gambar yang lebih terdefinisi."
      ],
      "metadata": {
        "id": "jKIA7jO803zP"
      }
    },
    {
      "cell_type": "code",
      "source": [
        "def apply_unsharp_mask(image):\n",
        "    blurred = cv2.GaussianBlur(image, (5, 5), 0)\n",
        "    unsharp_mask = cv2.addWeighted(image, 1.5, blurred, -0.5, 0)\n",
        "    return unsharp_mask"
      ],
      "metadata": {
        "id": "b_rc_yIe0Spr"
      },
      "execution_count": null,
      "outputs": []
    },
    {
      "cell_type": "markdown",
      "source": [
        "Menerapkan K-Means Clustering untuk segmentasi konjungtiva mata pada gambar melalui saluran merah (red_channel) pada gambar."
      ],
      "metadata": {
        "id": "9_f5oRY32d9Z"
      }
    },
    {
      "cell_type": "code",
      "source": [
        "def apply_kmeans_clustering_red(image, k=2):\n",
        "\n",
        "    red_channel = image[:, :, 2]\n",
        "    red_pixels = red_channel.reshape((-1, 1))\n",
        "    red_pixels = np.float32(red_pixels)\n",
        "\n",
        "    criteria = (cv2.TERM_CRITERIA_EPS + cv2.TERM_CRITERIA_MAX_ITER, 100, 0.2)\n",
        "    _, labels, centers = cv2.kmeans(red_pixels, k, None, criteria, 10, cv2.KMEANS_RANDOM_CENTERS)\n",
        "\n",
        "    centers = np.uint8(centers)\n",
        "\n",
        "    segmented_red_channel = centers[labels.flatten()]\n",
        "    segmented_red_channel = segmented_red_channel.reshape(red_channel.shape)\n",
        "\n",
        "    _, binary_mask = cv2.threshold(segmented_red_channel, 0, 255, cv2.THRESH_BINARY + cv2.THRESH_OTSU)\n",
        "\n",
        "    binary_mask = cv2.morphologyEx(binary_mask, cv2.MORPH_OPEN, np.ones((5, 5), np.uint8))\n",
        "    binary_mask = cv2.morphologyEx(binary_mask, cv2.MORPH_CLOSE, np.ones((15, 15), np.uint8))\n",
        "\n",
        "    return binary_mask"
      ],
      "metadata": {
        "id": "oTCiC4-81i-8"
      },
      "execution_count": null,
      "outputs": []
    },
    {
      "cell_type": "markdown",
      "source": [
        "Mengaplikasikan operasi bitwise AND antara gambar asli (original_image) dan masker biner (binary_mask) untuk mengekstrak piksel dari gambar asli yang sesuai dengan area yang diidentifikasi oleh masker biner."
      ],
      "metadata": {
        "id": "ncza3iUN3i4M"
      }
    },
    {
      "cell_type": "code",
      "source": [
        "def apply_convolution(original_image, binary_mask):\n",
        "    conjunctiva_pixels = cv2.bitwise_and(original_image, original_image, mask=binary_mask)\n",
        "    return conjunctiva_pixels"
      ],
      "metadata": {
        "id": "Gl_mUaAw3deO"
      },
      "execution_count": null,
      "outputs": []
    },
    {
      "cell_type": "code",
      "source": [
        "def process_images(image_directory, output_directory):\n",
        "    for category in os.listdir(image_directory):\n",
        "        category_path = os.path.join(image_directory, category)\n",
        "        if os.path.isdir(category_path):\n",
        "            output_category_path = os.path.join(output_directory, category)\n",
        "            os.makedirs(output_category_path, exist_ok=True)\n",
        "\n",
        "            for file_name in os.listdir(category_path):\n",
        "                if file_name.lower().endswith(('.jpg', '.jpeg', '.png')):\n",
        "                    image_path = os.path.join(category_path, file_name)\n",
        "\n",
        "                    # Read the image\n",
        "                    original_image = cv2.imread(image_path)\n",
        "\n",
        "                    # Step 1: Equalization of the image in RGB\n",
        "                    equalized_image = equalize_rgb_image(original_image)\n",
        "\n",
        "                    # Step 2: Filter Unsharp Masking\n",
        "                    unsharp_mask_image = apply_unsharp_mask(equalized_image)\n",
        "\n",
        "                    # Step 3: Red Channel Mask\n",
        "                    red_channel_mask = apply_kmeans_clustering_red(unsharp_mask_image)\n",
        "\n",
        "                    # Step 4: Convolution Original Image - Red Channel Mask\n",
        "                    conjunctiva_pixels = apply_convolution(original_image, red_channel_mask)\n",
        "\n",
        "                    # Save the segmented image\n",
        "                    output_file_path = os.path.join(output_category_path, file_name)\n",
        "                    cv2.imwrite(output_file_path, conjunctiva_pixels)\n",
        "\n",
        "# Specify the directories\n",
        "input_directory = '/content/drive/MyDrive/TA/original' #tempat dataset yang udah dicropping ingat!\n",
        "output_directory = '/content/drive/MyDrive/TA/dataset' #arahkan ke dataset untuk splitting dll.\n",
        "\n",
        "# Process the images and save the segmented results\n",
        "process_images(input_directory, output_directory)\n",
        "\n",
        "# Zip the output folder\n",
        "!zip -r segmented_images.zip {output_directory}\n",
        "\n",
        "# Download the zip file\n",
        "files.download('dataset.zip')"
      ],
      "metadata": {
        "id": "ATm6XUog4OLr"
      },
      "execution_count": null,
      "outputs": []
    },
    {
      "cell_type": "markdown",
      "source": [
        "### Labeling and Splitting"
      ],
      "metadata": {
        "id": "r9FFKFgGxN-U"
      }
    },
    {
      "cell_type": "markdown",
      "source": [
        "Menginisialisasikan libraries yang dibutuhkan"
      ],
      "metadata": {
        "id": "azatGN8QrURm"
      }
    },
    {
      "cell_type": "code",
      "source": [
        "import os\n",
        "import random\n",
        "import shutil"
      ],
      "metadata": {
        "id": "1tky380KrR4q"
      },
      "execution_count": 83,
      "outputs": []
    },
    {
      "cell_type": "markdown",
      "source": [
        "Membagi dataset untuk data latih (training) dan data validasi (validation). Pada penelitian ini digunakan pembagian 80% data kedalam data latih dan 20% kedalam data validasi."
      ],
      "metadata": {
        "id": "Sy0q7YumrfWj"
      }
    },
    {
      "cell_type": "code",
      "source": [
        "train_ratio = 0.8\n",
        "validation_ratio = 0.2"
      ],
      "metadata": {
        "id": "icQaqpXarbmt"
      },
      "execution_count": 84,
      "outputs": []
    },
    {
      "cell_type": "markdown",
      "source": [
        "Membuat folder baru didalam folder dataset, dengan folder \"train\" untuk menyimpan data latih dan folder \"validation\" untuk menyimpan data validasi.  "
      ],
      "metadata": {
        "id": "u-E_z2E6tHAP"
      }
    },
    {
      "cell_type": "code",
      "source": [
        "base_dir = dataset\n",
        "train_dir = os.path.join(base_dir, 'train')\n",
        "validation_dir = os.path.join(base_dir, 'validation')\n",
        "os.makedirs(train_dir, exist_ok=True)\n",
        "os.makedirs(validation_dir, exist_ok=True)"
      ],
      "metadata": {
        "id": "lvVav85Hs4er"
      },
      "execution_count": 85,
      "outputs": []
    },
    {
      "cell_type": "markdown",
      "source": [
        "Di dalam folder \"train\" dan \"validation\", masing-masing dibentuk folder untuk melabeli data yang digunakan. Penelitian bertujuan untuk mengindentifikasi data kedalam \"anemia\" atau \"non-anemia\". Maka dari itu, kelas label terdiri atas anemia dan non-anemia. Folder train dan validation, masing-masing akan berisi folder \"anemia\" dan \"non-anemia\"."
      ],
      "metadata": {
        "id": "z8HT0IywtcTz"
      }
    },
    {
      "cell_type": "code",
      "source": [
        "saved_train_nonanemia = os.path.join(train_dir, 'non-anemia')\n",
        "saved_validation_nonanemia = os.path.join(validation_dir,'non-anemia')\n",
        "os.makedirs(saved_train_nonanemia, exist_ok=True)\n",
        "os.makedirs(saved_validation_nonanemia, exist_ok=True)\n",
        "\n",
        "saved_train_anemia = os.path.join(train_dir, 'anemia')\n",
        "saved_validation_anemia = os.path.join(validation_dir,'anemia')\n",
        "os.makedirs(saved_train_anemia, exist_ok=True)\n",
        "os.makedirs(saved_validation_anemia, exist_ok=True)"
      ],
      "metadata": {
        "id": "0d7vpGTmtX7Y"
      },
      "execution_count": 86,
      "outputs": []
    },
    {
      "cell_type": "markdown",
      "source": [
        "Berikut merupakan fungsi split untuk membagi dataset kedalam data latih (train) dan data validasi (validation), serta melakukan pelabelan dengan menempatkan data kedalam folder anemia atau non-anemia."
      ],
      "metadata": {
        "id": "NPLYQfeXuqQG"
      }
    },
    {
      "cell_type": "code",
      "source": [
        "def split_and_move_images(source_dir, target_train_dir, target_validation_dir, train_ratio):\n",
        "    files = os.listdir(source_dir)\n",
        "    random.shuffle(files)\n",
        "    split_index = int(len(files) * train_ratio)\n",
        "    train_files = files[:split_index]\n",
        "    validation_files = files[split_index:]\n",
        "\n",
        "    for filename in train_files:\n",
        "        source_path = os.path.join(source_dir, filename) #dataset/ anemia / file1.jpg\n",
        "        target_path = os.path.join(target_train_dir) # train / anemia\n",
        "        shutil.copy(source_path, target_path)\n",
        "\n",
        "    for filename in validation_files:\n",
        "        source_path = os.path.join(source_dir, filename)\n",
        "        target_path = os.path.join(target_validation_dir)\n",
        "        shutil.copy(source_path, target_path)\n"
      ],
      "metadata": {
        "id": "DAQ1DTIQuSeZ"
      },
      "execution_count": 87,
      "outputs": []
    },
    {
      "cell_type": "markdown",
      "source": [
        "Menginisialisasikan variabel anemia_dir yang menyimpan data anemia dan non_anemia_dir yang menyimpan data non-anemia"
      ],
      "metadata": {
        "id": "xtCVr8u-vzrT"
      }
    },
    {
      "cell_type": "code",
      "source": [
        "non_anemia_dir = '/content/drive/MyDrive/TA/dataset/non-anemia'\n",
        "anemia_dir ='/content/drive/MyDrive/TA/dataset/anemia'"
      ],
      "metadata": {
        "id": "ZhbCIpkTviGK"
      },
      "execution_count": 88,
      "outputs": []
    },
    {
      "cell_type": "markdown",
      "source": [
        "Melakukan pembagian data kedalam training dan validation dengan memanggil fungsi split_and_move_images"
      ],
      "metadata": {
        "id": "x-PUfPD1vhVN"
      }
    },
    {
      "cell_type": "code",
      "source": [
        "# Split and move images for the 'anemia' class\n",
        "split_and_move_images(anemia_dir, saved_train_anemia, saved_validation_anemia, train_ratio)\n",
        "\n",
        "# Split and move images for the 'non-anemia' class\n",
        "split_and_move_images(non_anemia_dir, saved_train_nonanemia, saved_validation_nonanemia, train_ratio)"
      ],
      "metadata": {
        "id": "t_6CAXwLp8W0"
      },
      "execution_count": null,
      "outputs": []
    },
    {
      "cell_type": "markdown",
      "source": [
        "Menginisialisasikan variabel-variabel train dan validation yang menyimpan data yang telah dibagi."
      ],
      "metadata": {
        "id": "rz_0nyFkwjLe"
      }
    },
    {
      "cell_type": "code",
      "source": [
        "train_anemia = '/content/drive/MyDrive/TA/train/anemia'\n",
        "validation_anemia = '/content/drive/MyDrive/TA/validation/anemia'\n",
        "train_non_anemia = '/content/drive/MyDrive/TA/train/non-anemia'\n",
        "validation_non_anemia = '/content/drive/MyDrive/TA/validation/non-anemia'"
      ],
      "metadata": {
        "id": "TzOC8xgOwNfG"
      },
      "execution_count": 89,
      "outputs": []
    },
    {
      "cell_type": "markdown",
      "source": [
        "Menghitung jumlah file yang tersimpan pada masing-masing folder dalam train dan validation."
      ],
      "metadata": {
        "id": "O6hiUBtywvQY"
      }
    },
    {
      "cell_type": "code",
      "source": [
        "def countFiles(folder_path):\n",
        "  file_count = 0\n",
        "  for root, dirs, files in os.walk(folder_path):\n",
        "    file_count += len(files)\n",
        "  print(f'Jumlah File pada folder {folder_path} adalah: {file_count}')"
      ],
      "metadata": {
        "id": "yV8DBsSfwuQX"
      },
      "execution_count": 90,
      "outputs": []
    },
    {
      "cell_type": "markdown",
      "source": [
        "Memanggil fungsi countFiles untuk mengetahui jumlah file gambaar pada masing-masing folder."
      ],
      "metadata": {
        "id": "JrMY3eX9w-_v"
      }
    },
    {
      "cell_type": "code",
      "source": [
        "countFiles(train_anemia)\n",
        "countFiles(validation_anemia)\n",
        "countFiles(train_non_anemia)\n",
        "countFiles(validation_non_anemia)"
      ],
      "metadata": {
        "colab": {
          "base_uri": "https://localhost:8080/"
        },
        "id": "MSDpEXxKwKve",
        "outputId": "d44d3113-6b49-4ee0-9666-1f05a2dcf546"
      },
      "execution_count": 91,
      "outputs": [
        {
          "output_type": "stream",
          "name": "stdout",
          "text": [
            "Jumlah File pada folder /content/drive/MyDrive/TA/train/anemia adalah: 160\n",
            "Jumlah File pada folder /content/drive/MyDrive/TA/validation/anemia adalah: 40\n",
            "Jumlah File pada folder /content/drive/MyDrive/TA/train/non-anemia adalah: 160\n",
            "Jumlah File pada folder /content/drive/MyDrive/TA/validation/non-anemia adalah: 40\n"
          ]
        }
      ]
    },
    {
      "cell_type": "markdown",
      "source": [
        "## MODELING"
      ],
      "metadata": {
        "id": "xpUefOz55jcW"
      }
    },
    {
      "cell_type": "markdown",
      "source": [
        "Memastikan agar akurasi model tidak berubah-ubah setelah run ulang"
      ],
      "metadata": {
        "id": "1pVTFiNQs_Yd"
      }
    },
    {
      "cell_type": "code",
      "source": [
        "import numpy as np\n",
        "import tensorflow as tf\n",
        "\n",
        "np.random.seed(42)\n",
        "tf.random.set_seed(42)"
      ],
      "metadata": {
        "id": "vGxQFdwJs-mh"
      },
      "execution_count": 92,
      "outputs": []
    },
    {
      "cell_type": "markdown",
      "source": [
        "### Callbacks"
      ],
      "metadata": {
        "id": "HeImImlQS9Hy"
      }
    },
    {
      "cell_type": "markdown",
      "source": [
        "Mendefenisikan modul yang dibutuhkan"
      ],
      "metadata": {
        "id": "gO5GRpF4TUdf"
      }
    },
    {
      "cell_type": "code",
      "source": [
        "from tensorflow.keras.callbacks import ModelCheckpoint, EarlyStopping, ReduceLROnPlateau"
      ],
      "metadata": {
        "id": "6ZbNyfNsTTGH"
      },
      "execution_count": 93,
      "outputs": []
    },
    {
      "cell_type": "markdown",
      "source": [
        "Mendefinisikan tempat penyimpanan model checkpoints"
      ],
      "metadata": {
        "id": "zrwSqOquTBnp"
      }
    },
    {
      "cell_type": "code",
      "source": [
        "checkpoint_dir = os.path.join(dataset,'checkpoints')\n",
        "os.makedirs(checkpoint_dir, exist_ok=True)\n",
        "checkpoint_filename = \"model_checkpoint_epoch_{epoch:02d}.h5\"\n",
        "checkpoint_filepath = os.path.join(checkpoint_dir, checkpoint_filename)"
      ],
      "metadata": {
        "id": "NBFAsdDHS8vI"
      },
      "execution_count": 94,
      "outputs": []
    },
    {
      "cell_type": "markdown",
      "source": [
        "Mendefinisikan fungsi callbak model checkpoint"
      ],
      "metadata": {
        "id": "scTeF7E7TLFV"
      }
    },
    {
      "cell_type": "code",
      "source": [
        "checkpoint_callback = ModelCheckpoint(\n",
        "    filepath=checkpoint_filepath,\n",
        "    monitor='val_loss',\n",
        "    save_best_only=True,\n",
        "    mode='min',\n",
        "    verbose=1\n",
        ")"
      ],
      "metadata": {
        "id": "Q3TKBW2wTI-D"
      },
      "execution_count": 95,
      "outputs": []
    },
    {
      "cell_type": "markdown",
      "source": [
        "Mendefinisikan earlystopping callback"
      ],
      "metadata": {
        "id": "UXxTO8YNTu8G"
      }
    },
    {
      "cell_type": "code",
      "source": [
        "early_stopping_callback = EarlyStopping(\n",
        "    monitor='val_loss',\n",
        "    patience=5,\n",
        "    restore_best_weights=True,\n",
        "    mode='min',\n",
        "    verbose=1\n",
        ")"
      ],
      "metadata": {
        "id": "ZpfSIsziTq-T"
      },
      "execution_count": 96,
      "outputs": []
    },
    {
      "cell_type": "markdown",
      "source": [
        "Mendefinisikan ReduceLROnPlateau"
      ],
      "metadata": {
        "id": "UN7KMWwsT2G7"
      }
    },
    {
      "cell_type": "code",
      "source": [
        "reduce_lr_callback = ReduceLROnPlateau(\n",
        "    monitor='val_loss',\n",
        "    factor=0.2,\n",
        "    patience=3,\n",
        "    mode='min',\n",
        "    verbose=1\n",
        ")"
      ],
      "metadata": {
        "id": "ka_6_3l_TzQT"
      },
      "execution_count": 97,
      "outputs": []
    },
    {
      "cell_type": "markdown",
      "source": [
        "### Menggunakan Arsitektur CNN"
      ],
      "metadata": {
        "id": "e7g0jK_o59hl"
      }
    },
    {
      "cell_type": "markdown",
      "source": [
        "Mendefinisikan libraries yang dibutuhkan, dalam penelitian ini digunakan library tensorflow. Dari library tensorflow, diambil modul RMSprop sebagai optimizer. Kemudian terdapat modul ImageDataGenerator untuk proses augmentasi"
      ],
      "metadata": {
        "id": "yBzCctNa6Q4Z"
      }
    },
    {
      "cell_type": "code",
      "source": [
        "import tensorflow as tf\n",
        "from tensorflow.keras.optimizers import Adam\n",
        "from tensorflow.keras.preprocessing.image import ImageDataGenerator"
      ],
      "metadata": {
        "id": "XkfahXjg5iwU"
      },
      "execution_count": 98,
      "outputs": []
    },
    {
      "cell_type": "markdown",
      "source": [
        "Melakukan proses augmentasi data train dan validasi. Pada penelitian ini digunakan batch_size = 10."
      ],
      "metadata": {
        "id": "xyA4XKgQ8HMq"
      }
    },
    {
      "cell_type": "code",
      "source": [
        "train_datagen = ImageDataGenerator(  rescale= 1./255,\n",
        "                                     horizontal_flip = True,\n",
        "                                     brightness_range=[0.8, 1.8] )\n",
        "\n",
        "validation_datagen = ImageDataGenerator( rescale= 1./255 )\n",
        "\n",
        "train_generator = train_datagen.flow_from_directory(  train_dir,\n",
        "                                                      target_size=(300, 300),\n",
        "                                                      batch_size= 10,\n",
        "                                                      class_mode='binary' )\n",
        "\n",
        "validation_generator = validation_datagen.flow_from_directory(   validation_dir,\n",
        "                                                                 target_size=(300, 300),\n",
        "                                                                 batch_size= 10,\n",
        "                                                                 class_mode='binary' )"
      ],
      "metadata": {
        "colab": {
          "base_uri": "https://localhost:8080/"
        },
        "id": "wypso4807fZ-",
        "outputId": "de471d8a-6f85-417d-d409-ceb9474ed5ed"
      },
      "execution_count": 99,
      "outputs": [
        {
          "output_type": "stream",
          "name": "stdout",
          "text": [
            "Found 320 images belonging to 2 classes.\n",
            "Found 80 images belonging to 2 classes.\n"
          ]
        }
      ]
    },
    {
      "cell_type": "code",
      "source": [
        "import matplotlib.pyplot as plt\n",
        "from tensorflow.keras.preprocessing.image import ImageDataGenerator\n",
        "from tensorflow.keras.preprocessing import image\n",
        "import numpy as np\n",
        "\n",
        "# Example image\n",
        "img_path = 'non-anemia (2).jpg'\n",
        "img = image.load_img(img_path, target_size=(300, 300))\n",
        "img_array = image.img_to_array(img)\n",
        "img_array = np.expand_dims(img_array, axis=0)\n",
        "\n",
        "# Initialize ImageDataGenerator with brightness_range and contrast_stretching\n",
        "datagen = ImageDataGenerator(\n",
        "    brightness_range=[0.8, 1.8]\n",
        ")\n",
        "\n",
        "# Generate augmented images\n",
        "augmented_images = datagen.flow(img_array, batch_size=1)\n",
        "\n",
        "# Plot augmented images\n",
        "plt.figure(figsize=(8, 4))\n",
        "for i in range(3):\n",
        "    augmented_img = augmented_images.next()[0]\n",
        "    plt.subplot(2, 3, i + 1)\n",
        "    plt.imshow(augmented_img.astype('uint8'))\n",
        "    plt.axis('off')\n",
        "\n",
        "plt.show()\n"
      ],
      "metadata": {
        "id": "rb7Bo25I4QbY"
      },
      "execution_count": null,
      "outputs": []
    },
    {
      "cell_type": "code",
      "source": [
        "def augment_and_generate(generator, augmentation_factor):\n",
        "    while True:\n",
        "        # Generate a batch of data\n",
        "        x_batch, y_batch = next(generator)\n",
        "\n",
        "        # Augment the data augmentation_factor times\n",
        "        augmented_data = [generator.random_transform(image) for image in x_batch]\n",
        "\n",
        "        # Concatenate the original batch with the augmented batches\n",
        "        x_augmented = np.concatenate([x_batch] + augmented_data)\n",
        "        y_augmented = np.concatenate([y_batch] * (augmentation_factor + 1))\n",
        "\n",
        "        yield x_augmented, y_augmented\n",
        "\n",
        "# Konfigurasi generator dengan augmentation_factor=6\n",
        "augmentation_factor = 3\n",
        "train_generator_augmented = augment_and_generate(train_generator, augmentation_factor)"
      ],
      "metadata": {
        "id": "jxpXisTUGfGj"
      },
      "execution_count": 100,
      "outputs": []
    },
    {
      "cell_type": "markdown",
      "source": [
        "Membentuk fungsi create_model() yang menyimpan layer-layer conv dan maxpool, yang akan digunakan untuk mengekstrak fitur-fitur dari gambar yang telah berhasil disegmentasi. Pada penelitian ini digunakan ukuran gambar 300 x 300 pixels."
      ],
      "metadata": {
        "id": "7y2QraYB60Lh"
      }
    },
    {
      "cell_type": "code",
      "source": [
        "def create_model():\n",
        "\n",
        "  model = tf.keras.models.Sequential([\n",
        "\n",
        "      tf.keras.layers.Conv2D(32, (3,3), activation='relu', input_shape=(300,300,3)),\n",
        "      tf.keras.layers.MaxPooling2D(2, 2),\n",
        "\n",
        "      tf.keras.layers.Conv2D(64, (3,3), activation='relu'),\n",
        "      tf.keras.layers.MaxPooling2D(2,2),\n",
        "\n",
        "      tf.keras.layers.Conv2D(128, (3,3), activation='relu'),\n",
        "      tf.keras.layers.MaxPooling2D(2,2),\n",
        "\n",
        "      tf.keras.layers.Flatten(),\n",
        "      tf.keras.layers.Dense(128, activation='relu'),\n",
        "      tf.keras.layers.Dense(1, activation='sigmoid')\n",
        "  ])\n",
        "\n",
        "  model.compile( loss='binary_crossentropy',\n",
        "                 optimizer=Adam(learning_rate=1e-3),\n",
        "                 metrics=['accuracy'])\n",
        "\n",
        "  return model"
      ],
      "metadata": {
        "id": "hBs1cYkE6Mv-"
      },
      "execution_count": 101,
      "outputs": []
    },
    {
      "cell_type": "markdown",
      "source": [
        "Melakukan proses training dengan mendefinisikan epoch (perulangan pelatihan model) sebanyak 20. Menggunakan model.fit() untuk memperoleh hasil akurasi training dan validasi data."
      ],
      "metadata": {
        "id": "lJ3gi9D59Ucj"
      }
    },
    {
      "cell_type": "code",
      "source": [
        "epochs = 25\n",
        "model = create_model()\n",
        "\n",
        "history = model.fit( train_generator,\n",
        "                     steps_per_epoch= 32,\n",
        "                     epochs= epochs,\n",
        "                     validation_data= validation_generator,\n",
        "                     validation_steps= 8,\n",
        "                     callbacks=[checkpoint_callback, early_stopping_callback, reduce_lr_callback])"
      ],
      "metadata": {
        "colab": {
          "base_uri": "https://localhost:8080/"
        },
        "id": "ojENogZW7PKW",
        "outputId": "7b101dd2-d30e-4bd6-a220-e45d4642f63a"
      },
      "execution_count": 102,
      "outputs": [
        {
          "output_type": "stream",
          "name": "stdout",
          "text": [
            "Epoch 1/25\n",
            "32/32 [==============================] - ETA: 0s - loss: 0.6788 - accuracy: 0.7594\n",
            "Epoch 1: val_loss improved from inf to 0.16554, saving model to /content/drive/MyDrive/TA/checkpoints/model_checkpoint_epoch_01.h5\n"
          ]
        },
        {
          "output_type": "stream",
          "name": "stderr",
          "text": [
            "/usr/local/lib/python3.10/dist-packages/keras/src/engine/training.py:3079: UserWarning: You are saving your model as an HDF5 file via `model.save()`. This file format is considered legacy. We recommend using instead the native Keras format, e.g. `model.save('my_model.keras')`.\n",
            "  saving_api.save_model(\n"
          ]
        },
        {
          "output_type": "stream",
          "name": "stdout",
          "text": [
            "\b\b\b\b\b\b\b\b\b\b\b\b\b\b\b\b\b\b\b\b\b\b\b\b\b\b\b\b\b\b\b\b\b\b\b\b\b\b\b\b\b\b\b\b\b\b\b\b\b\b\b\b\b\b\b\b\b\b\b\b\b\b\b\b\b\b\b\b\b\b\b\b\b\b\b\b\b\b\b\b\b\b\r32/32 [==============================] - 7s 153ms/step - loss: 0.6788 - accuracy: 0.7594 - val_loss: 0.1655 - val_accuracy: 0.9625 - lr: 0.0010\n",
            "Epoch 2/25\n",
            "32/32 [==============================] - ETA: 0s - loss: 0.1794 - accuracy: 0.9531\n",
            "Epoch 2: val_loss did not improve from 0.16554\n",
            "32/32 [==============================] - 3s 84ms/step - loss: 0.1794 - accuracy: 0.9531 - val_loss: 0.2888 - val_accuracy: 0.8500 - lr: 0.0010\n",
            "Epoch 3/25\n",
            "32/32 [==============================] - ETA: 0s - loss: 0.1595 - accuracy: 0.9500\n",
            "Epoch 3: val_loss improved from 0.16554 to 0.05096, saving model to /content/drive/MyDrive/TA/checkpoints/model_checkpoint_epoch_03.h5\n",
            "32/32 [==============================] - 4s 122ms/step - loss: 0.1595 - accuracy: 0.9500 - val_loss: 0.0510 - val_accuracy: 0.9875 - lr: 0.0010\n",
            "Epoch 4/25\n",
            "32/32 [==============================] - ETA: 0s - loss: 0.0832 - accuracy: 0.9719\n",
            "Epoch 4: val_loss improved from 0.05096 to 0.03239, saving model to /content/drive/MyDrive/TA/checkpoints/model_checkpoint_epoch_04.h5\n",
            "32/32 [==============================] - 6s 180ms/step - loss: 0.0832 - accuracy: 0.9719 - val_loss: 0.0324 - val_accuracy: 1.0000 - lr: 0.0010\n",
            "Epoch 5/25\n",
            "32/32 [==============================] - ETA: 0s - loss: 0.0385 - accuracy: 0.9906\n",
            "Epoch 5: val_loss did not improve from 0.03239\n",
            "32/32 [==============================] - 3s 100ms/step - loss: 0.0385 - accuracy: 0.9906 - val_loss: 0.0759 - val_accuracy: 0.9625 - lr: 0.0010\n",
            "Epoch 6/25\n",
            "32/32 [==============================] - ETA: 0s - loss: 0.0376 - accuracy: 0.9844\n",
            "Epoch 6: val_loss did not improve from 0.03239\n",
            "32/32 [==============================] - 3s 99ms/step - loss: 0.0376 - accuracy: 0.9844 - val_loss: 0.4410 - val_accuracy: 0.8750 - lr: 0.0010\n",
            "Epoch 7/25\n",
            "32/32 [==============================] - ETA: 0s - loss: 0.1016 - accuracy: 0.9594\n",
            "Epoch 7: val_loss did not improve from 0.03239\n",
            "\n",
            "Epoch 7: ReduceLROnPlateau reducing learning rate to 0.00020000000949949026.\n",
            "32/32 [==============================] - 3s 108ms/step - loss: 0.1016 - accuracy: 0.9594 - val_loss: 0.0454 - val_accuracy: 0.9750 - lr: 0.0010\n",
            "Epoch 8/25\n",
            "32/32 [==============================] - ETA: 0s - loss: 0.0407 - accuracy: 0.9875\n",
            "Epoch 8: val_loss did not improve from 0.03239\n",
            "32/32 [==============================] - 4s 138ms/step - loss: 0.0407 - accuracy: 0.9875 - val_loss: 0.0695 - val_accuracy: 0.9750 - lr: 2.0000e-04\n",
            "Epoch 9/25\n",
            "32/32 [==============================] - ETA: 0s - loss: 0.0266 - accuracy: 0.9906\n",
            "Epoch 9: val_loss did not improve from 0.03239\n",
            "Restoring model weights from the end of the best epoch: 4.\n",
            "32/32 [==============================] - 3s 100ms/step - loss: 0.0266 - accuracy: 0.9906 - val_loss: 0.0523 - val_accuracy: 0.9875 - lr: 2.0000e-04\n",
            "Epoch 9: early stopping\n"
          ]
        }
      ]
    },
    {
      "cell_type": "markdown",
      "source": [
        "Mendefinisikan fungsi untuk menampilkan grafik akurasi training dan validation."
      ],
      "metadata": {
        "id": "yRoDBSsA9rgI"
      }
    },
    {
      "cell_type": "code",
      "source": [
        "import matplotlib.pyplot as plt\n",
        "\n",
        "def plot_loss_acc(history):\n",
        "  acc = history.history['accuracy']\n",
        "  val_acc = history.history['val_accuracy']\n",
        "  loss = history.history['loss']\n",
        "  val_loss = history.history['val_loss']\n",
        "\n",
        "  epochs = range(len(acc))\n",
        "\n",
        "  plt.plot(epochs, acc, 'b', label='Training accuracy')\n",
        "  plt.plot(epochs, val_acc, 'orange', label='Validation accuracy')\n",
        "  plt.title('Training and validation accuracy')\n",
        "  plt.legend()\n",
        "\n",
        "  plt.figure()\n",
        "\n",
        "  plt.plot(epochs, loss, 'b', label='Training Loss')\n",
        "  plt.plot(epochs, val_loss, 'orange', label='Validation Loss')\n",
        "  plt.title('Training and validation loss')\n",
        "  plt.legend()\n",
        "\n",
        "  plt.show()"
      ],
      "metadata": {
        "id": "cYvXGdYX8nsU"
      },
      "execution_count": 103,
      "outputs": []
    },
    {
      "cell_type": "code",
      "source": [
        "plot_loss_acc(history)"
      ],
      "metadata": {
        "colab": {
          "base_uri": "https://localhost:8080/",
          "height": 905
        },
        "id": "XkjYQu6r-Nsx",
        "outputId": "83fdb91f-b708-4b67-d68f-5e9990cd4fed"
      },
      "execution_count": 104,
      "outputs": [
        {
          "output_type": "display_data",
          "data": {
            "text/plain": [
              "<Figure size 640x480 with 1 Axes>"
            ],
            "image/png": "[encoded data removed]"
          },
          "metadata": {}
        },
        {
          "output_type": "display_data",
          "data": {
            "text/plain": [
              "<Figure size 640x480 with 1 Axes>"
            ],
            "image/png": "[encoded data removed]"
          },
          "metadata": {}
        }
      ]
    },
    {
      "cell_type": "markdown",
      "source": [
        "### Testing"
      ],
      "metadata": {
        "id": "1zoqkN82yoZs"
      }
    },
    {
      "cell_type": "code",
      "source": [
        "# Assuming your testing dataset is in a directory called 'test_dir'\n",
        "test_dir = '/content/drive/MyDrive/TA/testing2'\n",
        "\n",
        "test_datagen = ImageDataGenerator(rescale=1./255)\n",
        "\n",
        "test_generator = test_datagen.flow_from_directory(\n",
        "    test_dir,\n",
        "    target_size=(300, 300),\n",
        "    batch_size=10,\n",
        "    class_mode='binary')\n",
        "\n",
        "# Evaluate the model on the test dataset\n",
        "test_loss, test_accuracy = model.evaluate(test_generator)\n",
        "\n",
        "print(f'Test accuracy: {test_accuracy}')\n",
        "print(f'Test loss: {test_loss}')\n"
      ],
      "metadata": {
        "id": "-EgeA808-P_l",
        "colab": {
          "base_uri": "https://localhost:8080/"
        },
        "outputId": "6bc05955-b6d0-4a67-cf5e-1e5e0026d72b"
      },
      "execution_count": 113,
      "outputs": [
        {
          "output_type": "stream",
          "name": "stdout",
          "text": [
            "Found 40 images belonging to 2 classes.\n",
            "4/4 [==============================] - 0s 56ms/step - loss: 0.5786 - accuracy: 0.8750\n",
            "Test accuracy: 0.875\n",
            "Test loss: 0.5786242485046387\n"
          ]
        }
      ]
    },
    {
      "cell_type": "markdown",
      "source": [
        "Berikut adalah kode apabila ingin melakukan testing dengan model yang telah disimpan dalam format h5"
      ],
      "metadata": {
        "id": "mjhux-Kakl6x"
      }
    },
    {
      "cell_type": "code",
      "source": [
        "from tensorflow.keras.models import load_model\n",
        "\n",
        "test_dir = '/content/drive/MyDrive/TA/testing2'\n",
        "\n",
        "# Path ke file model .h5 yang telah disimpan\n",
        "saved_model_path = '/content/drive/MyDrive/TA/checkpoints/Model1-CNN/model_checkpoint_epoch_01.h5'\n",
        "\n",
        "# Memuat model dari file .h5\n",
        "loaded_model = load_model(saved_model_path)\n",
        "\n",
        "# Menggunakan ImageDataGenerator untuk mengonversi gambar dari direktori testing\n",
        "test_datagen = ImageDataGenerator(rescale=1./255)\n",
        "\n",
        "test_generator = test_datagen.flow_from_directory(\n",
        "    test_dir,\n",
        "    target_size=(300, 300),\n",
        "    batch_size=10,\n",
        "    class_mode='binary')\n",
        "\n",
        "# Evaluasi model yang telah dimuat pada dataset pengujian\n",
        "test_loss, test_accuracy = loaded_model.evaluate(test_generator)\n",
        "\n",
        "print(f'Test accuracy: {test_accuracy}')\n",
        "print(f'Test loss: {test_loss}')\n"
      ],
      "metadata": {
        "colab": {
          "base_uri": "https://localhost:8080/"
        },
        "id": "e_Mmv1DgjxQy",
        "outputId": "a788164d-68ca-44b6-cf38-cfde6bfbddb2"
      },
      "execution_count": 122,
      "outputs": [
        {
          "output_type": "stream",
          "name": "stdout",
          "text": [
            "Found 40 images belonging to 2 classes.\n",
            "4/4 [==============================] - 0s 39ms/step - loss: 0.2832 - accuracy: 0.9000\n",
            "Test accuracy: 0.8999999761581421\n",
            "Test loss: 0.28324466943740845\n"
          ]
        }
      ]
    },
    {
      "cell_type": "code",
      "source": [
        "import numpy as np\n",
        "\n",
        "# Assuming your testing dataset is in a directory called 'test_dir'\n",
        "test_datagen = ImageDataGenerator(rescale=1./255)\n",
        "\n",
        "test_generator = test_datagen.flow_from_directory(\n",
        "    test_dir,\n",
        "    target_size=(300, 300),\n",
        "    batch_size=10,\n",
        "    class_mode='binary',\n",
        "    shuffle=False)\n",
        "\n",
        "# Get predictions for the test dataset\n",
        "predictions = model.predict(test_generator)\n",
        "\n",
        "# Convert predicted probabilities to class labels (0 or 1)\n",
        "predicted_labels = np.round(predictions)\n",
        "\n",
        "# Get true labels from the generator\n",
        "true_labels = test_generator.classes\n",
        "\n",
        "# Get the mapping from class indices to class names\n",
        "class_names = list(test_generator.class_indices.keys())\n",
        "\n",
        "# Convert numeric labels to class names for true labels\n",
        "true_class_names = [class_names[label] for label in true_labels]\n",
        "\n",
        "# Convert numeric labels to class names for predicted labels\n",
        "predicted_class_names = [class_names[int(label)] for label in predicted_labels]\n",
        "\n",
        "# Now you can use true_class_names and predicted_class_names for analysis or printing\n",
        "for i in range(len(true_class_names)):\n",
        "    print(f\"Actual: {true_class_names[i]}, Predicted: {predicted_class_names[i]}\")\n"
      ],
      "metadata": {
        "colab": {
          "base_uri": "https://localhost:8080/"
        },
        "id": "qYVzju4ly66t",
        "outputId": "da5e76e9-c17d-420c-95f1-b7428988df9c"
      },
      "execution_count": 123,
      "outputs": [
        {
          "output_type": "stream",
          "name": "stdout",
          "text": [
            "Found 40 images belonging to 2 classes.\n",
            "4/4 [==============================] - 0s 34ms/step\n",
            "Actual: anemia, Predicted: non-anemia\n",
            "Actual: anemia, Predicted: anemia\n",
            "Actual: anemia, Predicted: anemia\n",
            "Actual: anemia, Predicted: anemia\n",
            "Actual: anemia, Predicted: anemia\n",
            "Actual: anemia, Predicted: non-anemia\n",
            "Actual: anemia, Predicted: anemia\n",
            "Actual: anemia, Predicted: anemia\n",
            "Actual: anemia, Predicted: anemia\n",
            "Actual: anemia, Predicted: non-anemia\n",
            "Actual: anemia, Predicted: non-anemia\n",
            "Actual: anemia, Predicted: anemia\n",
            "Actual: anemia, Predicted: anemia\n",
            "Actual: anemia, Predicted: anemia\n",
            "Actual: anemia, Predicted: anemia\n",
            "Actual: anemia, Predicted: anemia\n",
            "Actual: anemia, Predicted: anemia\n",
            "Actual: anemia, Predicted: anemia\n",
            "Actual: anemia, Predicted: anemia\n",
            "Actual: anemia, Predicted: anemia\n",
            "Actual: non-anemia, Predicted: non-anemia\n",
            "Actual: non-anemia, Predicted: non-anemia\n",
            "Actual: non-anemia, Predicted: non-anemia\n",
            "Actual: non-anemia, Predicted: non-anemia\n",
            "Actual: non-anemia, Predicted: non-anemia\n",
            "Actual: non-anemia, Predicted: non-anemia\n",
            "Actual: non-anemia, Predicted: non-anemia\n",
            "Actual: non-anemia, Predicted: anemia\n",
            "Actual: non-anemia, Predicted: non-anemia\n",
            "Actual: non-anemia, Predicted: non-anemia\n",
            "Actual: non-anemia, Predicted: non-anemia\n",
            "Actual: non-anemia, Predicted: non-anemia\n",
            "Actual: non-anemia, Predicted: non-anemia\n",
            "Actual: non-anemia, Predicted: non-anemia\n",
            "Actual: non-anemia, Predicted: non-anemia\n",
            "Actual: non-anemia, Predicted: non-anemia\n",
            "Actual: non-anemia, Predicted: non-anemia\n",
            "Actual: non-anemia, Predicted: non-anemia\n",
            "Actual: non-anemia, Predicted: non-anemia\n",
            "Actual: non-anemia, Predicted: non-anemia\n"
          ]
        }
      ]
    },
    {
      "cell_type": "code",
      "source": [
        "from sklearn.metrics import precision_score, recall_score, confusion_matrix\n",
        "\n",
        "# Assuming true_labels and predicted_labels are your true and predicted labels\n",
        "precision = precision_score(true_labels, predicted_labels)\n",
        "recall = recall_score(true_labels, predicted_labels)\n",
        "\n",
        "# You can also compute a confusion matrix\n",
        "conf_matrix = confusion_matrix(true_labels, predicted_labels)\n",
        "print(f'Precision: {precision}')\n",
        "print(f'Recall: {recall}')\n"
      ],
      "metadata": {
        "colab": {
          "base_uri": "https://localhost:8080/"
        },
        "id": "vpshm8JezWeC",
        "outputId": "95b6d17c-8756-432a-ba00-87481f0c77f8"
      },
      "execution_count": 124,
      "outputs": [
        {
          "output_type": "stream",
          "name": "stdout",
          "text": [
            "Precision: 0.8260869565217391\n",
            "Recall: 0.95\n"
          ]
        }
      ]
    },
    {
      "cell_type": "code",
      "source": [
        "import seaborn as sns\n",
        "import matplotlib.pyplot as plt\n",
        "from sklearn.metrics import confusion_matrix\n",
        "from sklearn.metrics import ConfusionMatrixDisplay\n",
        "\n",
        "# Assuming true_labels and predicted_labels are your true and predicted labels\n",
        "conf_matrix = confusion_matrix(true_labels, predicted_labels)\n",
        "\n",
        "# Create a seaborn heatmap\n",
        "plt.figure(figsize=(8, 6))\n",
        "sns.set(font_scale=1.2)  # Adjust the font size for better readability\n",
        "sns.heatmap(conf_matrix, annot=True, fmt='d', cmap='Blues', cbar=False,\n",
        "            xticklabels=['Predicted Negative', 'Predicted Positive'],\n",
        "            yticklabels=['Actual Negative', 'Actual Positive'])\n",
        "plt.xlabel('Predicted')\n",
        "plt.ylabel('Actual')\n",
        "plt.title('Confusion Matrix')\n",
        "plt.show()\n"
      ],
      "metadata": {
        "colab": {
          "base_uri": "https://localhost:8080/",
          "height": 578
        },
        "id": "Af9bQrvXzW0L",
        "outputId": "055f7cff-b1ea-4133-aab4-405843f9ecd5"
      },
      "execution_count": 125,
      "outputs": [
        {
          "output_type": "display_data",
          "data": {
            "text/plain": [
              "<Figure size 800x600 with 1 Axes>"
            ],
            "image/png": "[encoded data removed]"
          },
          "metadata": {}
        }
      ]
    },
    {
      "cell_type": "markdown",
      "source": [
        "### Trial and Error"
      ],
      "metadata": {
        "id": "5tF7g-1A1Mvv"
      }
    },
    {
      "cell_type": "code",
      "source": [
        "import numpy as np\n",
        "\n",
        "from google.colab import files\n",
        "from tensorflow.keras.utils import load_img, img_to_array\n",
        "\n",
        "uploaded=files.upload()\n",
        "\n",
        "for fn in uploaded.keys():\n",
        "\n",
        "  # predicting images\n",
        "  path='/content/' + fn\n",
        "  img=load_img(path, target_size=(300, 300))\n",
        "\n",
        "  x=img_to_array(img)\n",
        "  x /= 255\n",
        "  x=np.expand_dims(x, axis=0)\n",
        "  images = np.vstack([x])\n",
        "\n",
        "  classes = model.predict(images, batch_size=20)\n",
        "\n",
        "  print(classes)\n",
        "\n",
        "  if classes[0] < 0.5:\n",
        "    print(fn + \" is a anemia\")\n",
        "  else:\n",
        "    print(fn + \" is a non-anemia\")"
      ],
      "metadata": {
        "colab": {
          "base_uri": "https://localhost:8080/",
          "height": 125
        },
        "id": "9SLoYPiszYdD",
        "outputId": "2b5236f5-b579-43b7-8484-258f268219bf"
      },
      "execution_count": null,
      "outputs": [
        {
          "output_type": "display_data",
          "data": {
            "text/plain": [
              "<IPython.core.display.HTML object>"
            ],
            "text/html": [
              "\n",
              "     <input type=\"file\" id=\"files-2d3662ff-4ce3-4368-a227-3463abb3c90c\" name=\"files[]\" multiple disabled\n",
              "        style=\"border:none\" />\n",
              "     <output id=\"result-2d3662ff-4ce3-4368-a227-3463abb3c90c\">\n",
              "      Upload widget is only available when the cell has been executed in the\n",
              "      current browser session. Please rerun this cell to enable.\n",
              "      </output>\n",
              "      <script>// Copyright 2017 Google LLC\n",
              "//\n",
              "// Licensed under the Apache License, Version 2.0 (the \"License\");\n",
              "// you may not use this file except in compliance with the License.\n",
              "// You may obtain a copy of the License at\n",
              "//\n",
              "//      http://www.apache.org/licenses/LICENSE-2.0\n",
              "//\n",
              "// Unless required by applicable law or agreed to in writing, software\n",
              "// distributed under the License is distributed on an \"AS IS\" BASIS,\n",
              "// WITHOUT WARRANTIES OR CONDITIONS OF ANY KIND, either express or implied.\n",
              "// See the License for the specific language governing permissions and\n",
              "// limitations under the License.\n",
              "\n",
              "/**\n",
              " * @fileoverview Helpers for google.colab Python module.\n",
              " */\n",
              "(function(scope) {\n",
              "function span(text, styleAttributes = {}) {\n",
              "  const element = document.createElement('span');\n",
              "  element.textContent = text;\n",
              "  for (const key of Object.keys(styleAttributes)) {\n",
              "    element.style[key] = styleAttributes[key];\n",
              "  }\n",
              "  return element;\n",
              "}\n",
              "\n",
              "// Max number of bytes which will be uploaded at a time.\n",
              "const MAX_PAYLOAD_SIZE = 100 * 1024;\n",
              "\n",
              "function _uploadFiles(inputId, outputId) {\n",
              "  const steps = uploadFilesStep(inputId, outputId);\n",
              "  const outputElement = document.getElementById(outputId);\n",
              "  // Cache steps on the outputElement to make it available for the next call\n",
              "  // to uploadFilesContinue from Python.\n",
              "  outputElement.steps = steps;\n",
              "\n",
              "  return _uploadFilesContinue(outputId);\n",
              "}\n",
              "\n",
              "// This is roughly an async generator (not supported in the browser yet),\n",
              "// where there are multiple asynchronous steps and the Python side is going\n",
              "// to poll for completion of each step.\n",
              "// This uses a Promise to block the python side on completion of each step,\n",
              "// then passes the result of the previous step as the input to the next step.\n",
              "function _uploadFilesContinue(outputId) {\n",
              "  const outputElement = document.getElementById(outputId);\n",
              "  const steps = outputElement.steps;\n",
              "\n",
              "  const next = steps.next(outputElement.lastPromiseValue);\n",
              "  return Promise.resolve(next.value.promise).then((value) => {\n",
              "    // Cache the last promise value to make it available to the next\n",
              "    // step of the generator.\n",
              "    outputElement.lastPromiseValue = value;\n",
              "    return next.value.response;\n",
              "  });\n",
              "}\n",
              "\n",
              "/**\n",
              " * Generator function which is called between each async step of the upload\n",
              " * process.\n",
              " * @param {string} inputId Element ID of the input file picker element.\n",
              " * @param {string} outputId Element ID of the output display.\n",
              " * @return {!Iterable<!Object>} Iterable of next steps.\n",
              " */\n",
              "function* uploadFilesStep(inputId, outputId) {\n",
              "  const inputElement = document.getElementById(inputId);\n",
              "  inputElement.disabled = false;\n",
              "\n",
              "  const outputElement = document.getElementById(outputId);\n",
              "  outputElement.innerHTML = '';\n",
              "\n",
              "  const pickedPromise = new Promise((resolve) => {\n",
              "    inputElement.addEventListener('change', (e) => {\n",
              "      resolve(e.target.files);\n",
              "    });\n",
              "  });\n",
              "\n",
              "  const cancel = document.createElement('button');\n",
              "  inputElement.parentElement.appendChild(cancel);\n",
              "  cancel.textContent = 'Cancel upload';\n",
              "  const cancelPromise = new Promise((resolve) => {\n",
              "    cancel.onclick = () => {\n",
              "      resolve(null);\n",
              "    };\n",
              "  });\n",
              "\n",
              "  // Wait for the user to pick the files.\n",
              "  const files = yield {\n",
              "    promise: Promise.race([pickedPromise, cancelPromise]),\n",
              "    response: {\n",
              "      action: 'starting',\n",
              "    }\n",
              "  };\n",
              "\n",
              "  cancel.remove();\n",
              "\n",
              "  // Disable the input element since further picks are not allowed.\n",
              "  inputElement.disabled = true;\n",
              "\n",
              "  if (!files) {\n",
              "    return {\n",
              "      response: {\n",
              "        action: 'complete',\n",
              "      }\n",
              "    };\n",
              "  }\n",
              "\n",
              "  for (const file of files) {\n",
              "    const li = document.createElement('li');\n",
              "    li.append(span(file.name, {fontWeight: 'bold'}));\n",
              "    li.append(span(\n",
              "        `(${file.type || 'n/a'}) - ${file.size} bytes, ` +\n",
              "        `last modified: ${\n",
              "            file.lastModifiedDate ? file.lastModifiedDate.toLocaleDateString() :\n",
              "                                    'n/a'} - `));\n",
              "    const percent = span('0% done');\n",
              "    li.appendChild(percent);\n",
              "\n",
              "    outputElement.appendChild(li);\n",
              "\n",
              "    const fileDataPromise = new Promise((resolve) => {\n",
              "      const reader = new FileReader();\n",
              "      reader.onload = (e) => {\n",
              "        resolve(e.target.result);\n",
              "      };\n",
              "      reader.readAsArrayBuffer(file);\n",
              "    });\n",
              "    // Wait for the data to be ready.\n",
              "    let fileData = yield {\n",
              "      promise: fileDataPromise,\n",
              "      response: {\n",
              "        action: 'continue',\n",
              "      }\n",
              "    };\n",
              "\n",
              "    // Use a chunked sending to avoid message size limits. See b/62115660.\n",
              "    let position = 0;\n",
              "    do {\n",
              "      const length = Math.min(fileData.byteLength - position, MAX_PAYLOAD_SIZE);\n",
              "      const chunk = new Uint8Array(fileData, position, length);\n",
              "      position += length;\n",
              "\n",
              "      const base64 = btoa(String.fromCharCode.apply(null, chunk));\n",
              "      yield {\n",
              "        response: {\n",
              "          action: 'append',\n",
              "          file: file.name,\n",
              "          data: base64,\n",
              "        },\n",
              "      };\n",
              "\n",
              "      let percentDone = fileData.byteLength === 0 ?\n",
              "          100 :\n",
              "          Math.round((position / fileData.byteLength) * 100);\n",
              "      percent.textContent = `${percentDone}% done`;\n",
              "\n",
              "    } while (position < fileData.byteLength);\n",
              "  }\n",
              "\n",
              "  // All done.\n",
              "  yield {\n",
              "    response: {\n",
              "      action: 'complete',\n",
              "    }\n",
              "  };\n",
              "}\n",
              "\n",
              "scope.google = scope.google || {};\n",
              "scope.google.colab = scope.google.colab || {};\n",
              "scope.google.colab._files = {\n",
              "  _uploadFiles,\n",
              "  _uploadFilesContinue,\n",
              "};\n",
              "})(self);\n",
              "</script> "
            ]
          },
          "metadata": {}
        },
        {
          "output_type": "stream",
          "name": "stdout",
          "text": [
            "Saving anemia (7).jpg to anemia (7).jpg\n",
            "1/1 [==============================] - 0s 114ms/step\n",
            "[[0.0001464]]\n",
            "anemia (7).jpg is a anemia\n"
          ]
        }
      ]
    },
    {
      "cell_type": "code",
      "source": [
        "# Assuming train_generator is your training data generator\n",
        "class_indices = train_generator.class_indices\n",
        "class_labels = list(class_indices.keys())\n",
        "\n",
        "print(\"Class Indices:\", class_indices)\n",
        "print(\"Class Labels:\", class_labels)\n"
      ],
      "metadata": {
        "colab": {
          "base_uri": "https://localhost:8080/"
        },
        "id": "8_rxY4DW2DoD",
        "outputId": "03f85e94-1942-4634-ffd5-ff1e57c923fd"
      },
      "execution_count": null,
      "outputs": [
        {
          "output_type": "stream",
          "name": "stdout",
          "text": [
            "Class Indices: {'anemia': 0, 'non-anemia': 1}\n",
            "Class Labels: ['anemia', 'non-anemia']\n"
          ]
        }
      ]
    },
    {
      "cell_type": "code",
      "source": [],
      "metadata": {
        "id": "PIyL-icG2D86"
      },
      "execution_count": null,
      "outputs": []
    }
  ]
}
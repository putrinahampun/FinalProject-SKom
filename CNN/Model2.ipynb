{
  "cells": [
    {
      "cell_type": "markdown",
      "metadata": {
        "id": "view-in-github",
        "colab_type": "text"
      },
      "source": [
        "<a href=\"https://colab.research.google.com/github/putrinahampun/FinalProject-SKom/blob/main/CNN/Model2.ipynb\" target=\"_parent\"><img src=\"https://colab.research.google.com/assets/colab-badge.svg\" alt=\"Open In Colab\"/></a>"
      ]
    },
    {
      "cell_type": "markdown",
      "metadata": {
        "id": "vrEc5LW7pXE9"
      },
      "source": [
        "## LOAD DATASET"
      ]
    },
    {
      "cell_type": "markdown",
      "metadata": {
        "id": "Gpr4hJjkp-vU"
      },
      "source": [
        "Menghubungkan google colab dengan google drive agar bisa mengakses data yang tersimpan didalam gdrive."
      ]
    },
    {
      "cell_type": "code",
      "execution_count": 2,
      "metadata": {
        "colab": {
          "base_uri": "https://localhost:8080/"
        },
        "id": "_n2HRo2jounT",
        "outputId": "c5a538eb-c461-41cc-8ae4-923fa680068d"
      },
      "outputs": [
        {
          "output_type": "stream",
          "name": "stdout",
          "text": [
            "Drive already mounted at /content/drive; to attempt to forcibly remount, call drive.mount(\"/content/drive\", force_remount=True).\n"
          ]
        }
      ],
      "source": [
        "from google.colab import drive\n",
        "drive.mount('/content/drive')"
      ]
    },
    {
      "cell_type": "markdown",
      "metadata": {
        "id": "JWTQxruNqIxZ"
      },
      "source": [
        "Keterangan:\n",
        "* zip_file merupakan variabel yang menyimpan path yang mengarah pada dataset yang masih berbentuk zip.\n",
        "* dataset merupakan variabel yang menyimpan path yang mengarah pada folder dataset, tempat hasil ekstraksi file zip dilakukan"
      ]
    },
    {
      "cell_type": "code",
      "execution_count": 3,
      "metadata": {
        "id": "-qgXgqhVpjA8"
      },
      "outputs": [],
      "source": [
        "zip_file = '/content/drive/MyDrive/TA/dataset.zip'\n",
        "dataset = '/content/drive/MyDrive/TA'"
      ]
    },
    {
      "cell_type": "markdown",
      "metadata": {
        "id": "CgvfLrrgqjxD"
      },
      "source": [
        "Melakukan ekstraksi file zip dan menyimpan kedalam folder path di variabel dataset"
      ]
    },
    {
      "cell_type": "code",
      "execution_count": null,
      "metadata": {
        "id": "rU99YLFOpyaZ"
      },
      "outputs": [],
      "source": [
        "import zipfile\n",
        "with zipfile.ZipFile(zip_file, 'r') as zip_ref:\n",
        "    zip_ref.extractall(dataset)"
      ]
    },
    {
      "cell_type": "markdown",
      "metadata": {
        "id": "5V13mtN_q-XZ"
      },
      "source": [
        "## PRE-PROCESSING DATA"
      ]
    },
    {
      "cell_type": "markdown",
      "metadata": {
        "id": "qKp8gKkOxqN8"
      },
      "source": [
        "### Segmentation Using K-Means Clustering"
      ]
    },
    {
      "cell_type": "markdown",
      "metadata": {
        "id": "oS3kVVg5ytd8"
      },
      "source": [
        "Mendefenisikan libraries yang dibutuhkan"
      ]
    },
    {
      "cell_type": "code",
      "execution_count": null,
      "metadata": {
        "id": "6JJS-hdzybYj"
      },
      "outputs": [],
      "source": [
        "import cv2\n",
        "import numpy as np\n",
        "from google.colab import files\n",
        "import os"
      ]
    },
    {
      "cell_type": "markdown",
      "metadata": {
        "id": "N-5iYt2OzAXQ"
      },
      "source": [
        "**Penggunaan Teknik Equalization**: Menggunakan Equalization Histogram untuk meningkatkan kontras dalam gambar dengan mendistribusikan intensitas piksel secara merata.Gambar akan dikonversi terlebih dahulu kedalam bentuk HSV (Hue, Saturation, Value) agar fungsi equalizeHist dapat diterapkan. Setelahnya, format gambar akan dikembalikan kedalam bentuk BGR"
      ]
    },
    {
      "cell_type": "code",
      "execution_count": null,
      "metadata": {
        "id": "cpqmE1nlywyi"
      },
      "outputs": [],
      "source": [
        "def equalize_rgb_image(image):\n",
        "    hsi_image = cv2.cvtColor(image, cv2.COLOR_BGR2HSV)\n",
        "    hsi_image[:, :, 2] = cv2.equalizeHist(hsi_image[:, :, 2])\n",
        "    equalized_image = cv2.cvtColor(hsi_image, cv2.COLOR_HSV2BGR)\n",
        "    return equalized_image"
      ]
    },
    {
      "cell_type": "markdown",
      "metadata": {
        "id": "jKIA7jO803zP"
      },
      "source": [
        "Penggunaan teknik Unsharp Mask: mengaplikasikan efek \"unsharp mask\" pada gambar untuk meningkatkan kejelasan yang lebih baik dan tepi objek pada gambar yang lebih terdefinisi."
      ]
    },
    {
      "cell_type": "code",
      "execution_count": null,
      "metadata": {
        "id": "b_rc_yIe0Spr"
      },
      "outputs": [],
      "source": [
        "def apply_unsharp_mask(image):\n",
        "    blurred = cv2.GaussianBlur(image, (5, 5), 0)\n",
        "    unsharp_mask = cv2.addWeighted(image, 1.5, blurred, -0.5, 0)\n",
        "    return unsharp_mask"
      ]
    },
    {
      "cell_type": "markdown",
      "metadata": {
        "id": "9_f5oRY32d9Z"
      },
      "source": [
        "Menerapkan K-Means Clustering untuk segmentasi konjungtiva mata pada gambar melalui saluran merah (red_channel) pada gambar."
      ]
    },
    {
      "cell_type": "code",
      "execution_count": null,
      "metadata": {
        "id": "oTCiC4-81i-8"
      },
      "outputs": [],
      "source": [
        "def apply_kmeans_clustering_red(image, k=2):\n",
        "\n",
        "    red_channel = image[:, :, 2]\n",
        "    red_pixels = red_channel.reshape((-1, 1))\n",
        "    red_pixels = np.float32(red_pixels)\n",
        "\n",
        "    criteria = (cv2.TERM_CRITERIA_EPS + cv2.TERM_CRITERIA_MAX_ITER, 100, 0.2)\n",
        "    _, labels, centers = cv2.kmeans(red_pixels, k, None, criteria, 10, cv2.KMEANS_RANDOM_CENTERS)\n",
        "\n",
        "    centers = np.uint8(centers)\n",
        "\n",
        "    segmented_red_channel = centers[labels.flatten()]\n",
        "    segmented_red_channel = segmented_red_channel.reshape(red_channel.shape)\n",
        "\n",
        "    _, binary_mask = cv2.threshold(segmented_red_channel, 0, 255, cv2.THRESH_BINARY + cv2.THRESH_OTSU)\n",
        "\n",
        "    binary_mask = cv2.morphologyEx(binary_mask, cv2.MORPH_OPEN, np.ones((5, 5), np.uint8))\n",
        "    binary_mask = cv2.morphologyEx(binary_mask, cv2.MORPH_CLOSE, np.ones((15, 15), np.uint8))\n",
        "\n",
        "    return binary_mask"
      ]
    },
    {
      "cell_type": "markdown",
      "metadata": {
        "id": "ncza3iUN3i4M"
      },
      "source": [
        "Mengaplikasikan operasi bitwise AND antara gambar asli (original_image) dan masker biner (binary_mask) untuk mengekstrak piksel dari gambar asli yang sesuai dengan area yang diidentifikasi oleh masker biner."
      ]
    },
    {
      "cell_type": "code",
      "execution_count": null,
      "metadata": {
        "id": "Gl_mUaAw3deO"
      },
      "outputs": [],
      "source": [
        "def apply_convolution(original_image, binary_mask):\n",
        "    conjunctiva_pixels = cv2.bitwise_and(original_image, original_image, mask=binary_mask)\n",
        "    return conjunctiva_pixels"
      ]
    },
    {
      "cell_type": "code",
      "execution_count": null,
      "metadata": {
        "id": "ATm6XUog4OLr"
      },
      "outputs": [],
      "source": [
        "def process_images(image_directory, output_directory):\n",
        "    for category in os.listdir(image_directory):\n",
        "        category_path = os.path.join(image_directory, category)\n",
        "        if os.path.isdir(category_path):\n",
        "            output_category_path = os.path.join(output_directory, category)\n",
        "            os.makedirs(output_category_path, exist_ok=True)\n",
        "\n",
        "            for file_name in os.listdir(category_path):\n",
        "                if file_name.lower().endswith(('.jpg', '.jpeg', '.png')):\n",
        "                    image_path = os.path.join(category_path, file_name)\n",
        "\n",
        "                    # Read the image\n",
        "                    original_image = cv2.imread(image_path)\n",
        "\n",
        "                    # Step 1: Equalization of the image in RGB\n",
        "                    equalized_image = equalize_rgb_image(original_image)\n",
        "\n",
        "                    # Step 2: Filter Unsharp Masking\n",
        "                    unsharp_mask_image = apply_unsharp_mask(equalized_image)\n",
        "\n",
        "                    # Step 3: Red Channel Mask\n",
        "                    red_channel_mask = apply_kmeans_clustering_red(unsharp_mask_image)\n",
        "\n",
        "                    # Step 4: Convolution Original Image - Red Channel Mask\n",
        "                    conjunctiva_pixels = apply_convolution(original_image, red_channel_mask)\n",
        "\n",
        "                    # Save the segmented image\n",
        "                    output_file_path = os.path.join(output_category_path, file_name)\n",
        "                    cv2.imwrite(output_file_path, conjunctiva_pixels)\n",
        "\n",
        "# Specify the directories\n",
        "input_directory = '/content/drive/MyDrive/TA/original' #tempat dataset yang udah dicropping ingat!\n",
        "output_directory = '/content/drive/MyDrive/TA/dataset' #arahkan ke dataset untuk splitting dll.\n",
        "\n",
        "# Process the images and save the segmented results\n",
        "process_images(input_directory, output_directory)\n",
        "\n",
        "# Zip the output folder\n",
        "!zip -r segmented_images.zip {output_directory}\n",
        "\n",
        "# Download the zip file\n",
        "files.download('dataset.zip')"
      ]
    },
    {
      "cell_type": "markdown",
      "metadata": {
        "id": "r9FFKFgGxN-U"
      },
      "source": [
        "### Labeling and Splitting"
      ]
    },
    {
      "cell_type": "markdown",
      "metadata": {
        "id": "azatGN8QrURm"
      },
      "source": [
        "Menginisialisasikan libraries yang dibutuhkan"
      ]
    },
    {
      "cell_type": "code",
      "execution_count": 8,
      "metadata": {
        "id": "1tky380KrR4q"
      },
      "outputs": [],
      "source": [
        "import os\n",
        "import random\n",
        "import shutil"
      ]
    },
    {
      "cell_type": "markdown",
      "metadata": {
        "id": "Sy0q7YumrfWj"
      },
      "source": [
        "Membagi dataset untuk data latih (training) dan data validasi (validation). Pada penelitian ini digunakan pembagian 80% data kedalam data latih dan 20% kedalam data validasi."
      ]
    },
    {
      "cell_type": "code",
      "execution_count": 9,
      "metadata": {
        "id": "icQaqpXarbmt"
      },
      "outputs": [],
      "source": [
        "train_ratio = 0.8\n",
        "validation_ratio = 0.2"
      ]
    },
    {
      "cell_type": "markdown",
      "metadata": {
        "id": "u-E_z2E6tHAP"
      },
      "source": [
        "Membuat folder baru didalam folder dataset, dengan folder \"train\" untuk menyimpan data latih dan folder \"validation\" untuk menyimpan data validasi.  "
      ]
    },
    {
      "cell_type": "code",
      "execution_count": 10,
      "metadata": {
        "id": "lvVav85Hs4er"
      },
      "outputs": [],
      "source": [
        "base_dir = dataset\n",
        "train_dir = os.path.join(base_dir, 'train')\n",
        "validation_dir = os.path.join(base_dir, 'validation')\n",
        "os.makedirs(train_dir, exist_ok=True)\n",
        "os.makedirs(validation_dir, exist_ok=True)"
      ]
    },
    {
      "cell_type": "markdown",
      "metadata": {
        "id": "z8HT0IywtcTz"
      },
      "source": [
        "Di dalam folder \"train\" dan \"validation\", masing-masing dibentuk folder untuk melabeli data yang digunakan. Penelitian bertujuan untuk mengindentifikasi data kedalam \"anemia\" atau \"non-anemia\". Maka dari itu, kelas label terdiri atas anemia dan non-anemia. Folder train dan validation, masing-masing akan berisi folder \"anemia\" dan \"non-anemia\"."
      ]
    },
    {
      "cell_type": "code",
      "execution_count": 11,
      "metadata": {
        "id": "0d7vpGTmtX7Y"
      },
      "outputs": [],
      "source": [
        "saved_train_nonanemia = os.path.join(train_dir, 'non-anemia')\n",
        "saved_validation_nonanemia = os.path.join(validation_dir,'non-anemia')\n",
        "os.makedirs(saved_train_nonanemia, exist_ok=True)\n",
        "os.makedirs(saved_validation_nonanemia, exist_ok=True)\n",
        "\n",
        "saved_train_anemia = os.path.join(train_dir, 'anemia')\n",
        "saved_validation_anemia = os.path.join(validation_dir,'anemia')\n",
        "os.makedirs(saved_train_anemia, exist_ok=True)\n",
        "os.makedirs(saved_validation_anemia, exist_ok=True)"
      ]
    },
    {
      "cell_type": "markdown",
      "metadata": {
        "id": "NPLYQfeXuqQG"
      },
      "source": [
        "Berikut merupakan fungsi split untuk membagi dataset kedalam data latih (train) dan data validasi (validation), serta melakukan pelabelan dengan menempatkan data kedalam folder anemia atau non-anemia."
      ]
    },
    {
      "cell_type": "code",
      "execution_count": 12,
      "metadata": {
        "id": "DAQ1DTIQuSeZ"
      },
      "outputs": [],
      "source": [
        "def split_and_move_images(source_dir, target_train_dir, target_validation_dir, train_ratio):\n",
        "    files = os.listdir(source_dir)\n",
        "    random.shuffle(files)\n",
        "    split_index = int(len(files) * train_ratio)\n",
        "    train_files = files[:split_index]\n",
        "    validation_files = files[split_index:]\n",
        "\n",
        "    for filename in train_files:\n",
        "        source_path = os.path.join(source_dir, filename) #dataset/ anemia / file1.jpg\n",
        "        target_path = os.path.join(target_train_dir) # train / anemia\n",
        "        shutil.copy(source_path, target_path)\n",
        "\n",
        "    for filename in validation_files:\n",
        "        source_path = os.path.join(source_dir, filename)\n",
        "        target_path = os.path.join(target_validation_dir)\n",
        "        shutil.copy(source_path, target_path)\n"
      ]
    },
    {
      "cell_type": "markdown",
      "metadata": {
        "id": "xtCVr8u-vzrT"
      },
      "source": [
        "Menginisialisasikan variabel anemia_dir yang menyimpan data anemia dan non_anemia_dir yang menyimpan data non-anemia"
      ]
    },
    {
      "cell_type": "code",
      "execution_count": 13,
      "metadata": {
        "id": "ZhbCIpkTviGK"
      },
      "outputs": [],
      "source": [
        "non_anemia_dir = '/content/drive/MyDrive/TA/dataset/non-anemia'\n",
        "anemia_dir ='/content/drive/MyDrive/TA/dataset/anemia'"
      ]
    },
    {
      "cell_type": "markdown",
      "metadata": {
        "id": "x-PUfPD1vhVN"
      },
      "source": [
        "Melakukan pembagian data kedalam training dan validation dengan memanggil fungsi split_and_move_images"
      ]
    },
    {
      "cell_type": "code",
      "execution_count": null,
      "metadata": {
        "id": "t_6CAXwLp8W0"
      },
      "outputs": [],
      "source": [
        "# Split and move images for the 'anemia' class\n",
        "split_and_move_images(anemia_dir, saved_train_anemia, saved_validation_anemia, train_ratio)\n",
        "\n",
        "# Split and move images for the 'non-anemia' class\n",
        "split_and_move_images(non_anemia_dir, saved_train_nonanemia, saved_validation_nonanemia, train_ratio)"
      ]
    },
    {
      "cell_type": "markdown",
      "metadata": {
        "id": "rz_0nyFkwjLe"
      },
      "source": [
        "Menginisialisasikan variabel-variabel train dan validation yang menyimpan data yang telah dibagi."
      ]
    },
    {
      "cell_type": "code",
      "execution_count": 14,
      "metadata": {
        "id": "TzOC8xgOwNfG"
      },
      "outputs": [],
      "source": [
        "train_anemia = '/content/drive/MyDrive/TA/train/anemia'\n",
        "validation_anemia = '/content/drive/MyDrive/TA/validation/anemia'\n",
        "train_non_anemia = '/content/drive/MyDrive/TA/train/non-anemia'\n",
        "validation_non_anemia = '/content/drive/MyDrive/TA/validation/non-anemia'"
      ]
    },
    {
      "cell_type": "markdown",
      "metadata": {
        "id": "O6hiUBtywvQY"
      },
      "source": [
        "Menghitung jumlah file yang tersimpan pada masing-masing folder dalam train dan validation."
      ]
    },
    {
      "cell_type": "code",
      "execution_count": 15,
      "metadata": {
        "id": "yV8DBsSfwuQX"
      },
      "outputs": [],
      "source": [
        "def countFiles(folder_path):\n",
        "  file_count = 0\n",
        "  for root, dirs, files in os.walk(folder_path):\n",
        "    file_count += len(files)\n",
        "  print(f'Jumlah File pada folder {folder_path} adalah: {file_count}')"
      ]
    },
    {
      "cell_type": "markdown",
      "metadata": {
        "id": "JrMY3eX9w-_v"
      },
      "source": [
        "Memanggil fungsi countFiles untuk mengetahui jumlah file gambaar pada masing-masing folder."
      ]
    },
    {
      "cell_type": "code",
      "execution_count": 16,
      "metadata": {
        "colab": {
          "base_uri": "https://localhost:8080/"
        },
        "id": "MSDpEXxKwKve",
        "outputId": "6eb436e2-0854-46a5-b9b7-c5f2b8bc8562"
      },
      "outputs": [
        {
          "output_type": "stream",
          "name": "stdout",
          "text": [
            "Jumlah File pada folder /content/drive/MyDrive/TA/train/anemia adalah: 160\n",
            "Jumlah File pada folder /content/drive/MyDrive/TA/validation/anemia adalah: 40\n",
            "Jumlah File pada folder /content/drive/MyDrive/TA/train/non-anemia adalah: 160\n",
            "Jumlah File pada folder /content/drive/MyDrive/TA/validation/non-anemia adalah: 40\n"
          ]
        }
      ],
      "source": [
        "countFiles(train_anemia)\n",
        "countFiles(validation_anemia)\n",
        "countFiles(train_non_anemia)\n",
        "countFiles(validation_non_anemia)"
      ]
    },
    {
      "cell_type": "markdown",
      "metadata": {
        "id": "xpUefOz55jcW"
      },
      "source": [
        "## MODELING"
      ]
    },
    {
      "cell_type": "markdown",
      "metadata": {
        "id": "1pVTFiNQs_Yd"
      },
      "source": [
        "Memastikan agar akurasi model tidak berubah-ubah setelah run ulang"
      ]
    },
    {
      "cell_type": "code",
      "execution_count": 17,
      "metadata": {
        "id": "vGxQFdwJs-mh"
      },
      "outputs": [],
      "source": [
        "import numpy as np\n",
        "import tensorflow as tf\n",
        "\n",
        "np.random.seed(42)\n",
        "tf.random.set_seed(42)"
      ]
    },
    {
      "cell_type": "markdown",
      "metadata": {
        "id": "HeImImlQS9Hy"
      },
      "source": [
        "### Callbacks"
      ]
    },
    {
      "cell_type": "markdown",
      "metadata": {
        "id": "gO5GRpF4TUdf"
      },
      "source": [
        "Mendefenisikan modul yang dibutuhkan"
      ]
    },
    {
      "cell_type": "code",
      "execution_count": 18,
      "metadata": {
        "id": "6ZbNyfNsTTGH"
      },
      "outputs": [],
      "source": [
        "from tensorflow.keras.callbacks import ModelCheckpoint, EarlyStopping, ReduceLROnPlateau"
      ]
    },
    {
      "cell_type": "markdown",
      "metadata": {
        "id": "zrwSqOquTBnp"
      },
      "source": [
        "Mendefinisikan tempat penyimpanan model checkpoints"
      ]
    },
    {
      "cell_type": "code",
      "execution_count": 19,
      "metadata": {
        "id": "NBFAsdDHS8vI"
      },
      "outputs": [],
      "source": [
        "checkpoint_dir = os.path.join(dataset,'checkpoints')\n",
        "os.makedirs(checkpoint_dir, exist_ok=True)\n",
        "checkpoint_filename = \"model_checkpoint_epoch_{epoch:02d}.h5\"\n",
        "checkpoint_filepath = os.path.join(checkpoint_dir, checkpoint_filename)"
      ]
    },
    {
      "cell_type": "markdown",
      "metadata": {
        "id": "scTeF7E7TLFV"
      },
      "source": [
        "Mendefinisikan fungsi callbak model checkpoint"
      ]
    },
    {
      "cell_type": "code",
      "execution_count": 20,
      "metadata": {
        "id": "Q3TKBW2wTI-D"
      },
      "outputs": [],
      "source": [
        "checkpoint_callback = ModelCheckpoint(\n",
        "    filepath=checkpoint_filepath,\n",
        "    monitor='val_loss',\n",
        "    save_best_only=True,\n",
        "    mode='min',\n",
        "    verbose=1\n",
        ")"
      ]
    },
    {
      "cell_type": "markdown",
      "metadata": {
        "id": "UXxTO8YNTu8G"
      },
      "source": [
        "Mendefinisikan earlystopping callback"
      ]
    },
    {
      "cell_type": "code",
      "execution_count": 21,
      "metadata": {
        "id": "ZpfSIsziTq-T"
      },
      "outputs": [],
      "source": [
        "early_stopping_callback = EarlyStopping(\n",
        "    monitor='val_loss',\n",
        "    patience=5,\n",
        "    restore_best_weights=True,\n",
        "    mode='min',\n",
        "    verbose=1\n",
        ")"
      ]
    },
    {
      "cell_type": "markdown",
      "metadata": {
        "id": "UN7KMWwsT2G7"
      },
      "source": [
        "Mendefinisikan ReduceLROnPlateau"
      ]
    },
    {
      "cell_type": "code",
      "execution_count": 22,
      "metadata": {
        "id": "ka_6_3l_TzQT"
      },
      "outputs": [],
      "source": [
        "reduce_lr_callback = ReduceLROnPlateau(\n",
        "    monitor='val_loss',\n",
        "    factor=0.2,\n",
        "    patience=3,\n",
        "    mode='min',\n",
        "    verbose=1\n",
        ")"
      ]
    },
    {
      "cell_type": "markdown",
      "metadata": {
        "id": "e7g0jK_o59hl"
      },
      "source": [
        "### Menggunakan Arsitektur CNN"
      ]
    },
    {
      "cell_type": "markdown",
      "metadata": {
        "id": "yBzCctNa6Q4Z"
      },
      "source": [
        "Mendefinisikan libraries yang dibutuhkan, dalam penelitian ini digunakan library tensorflow. Dari library tensorflow, diambil modul RMSprop sebagai optimizer. Kemudian terdapat modul ImageDataGenerator untuk proses augmentasi"
      ]
    },
    {
      "cell_type": "code",
      "execution_count": 24,
      "metadata": {
        "id": "XkfahXjg5iwU"
      },
      "outputs": [],
      "source": [
        "import tensorflow as tf\n",
        "from tensorflow.keras.optimizers import Adam\n",
        "from tensorflow.keras.preprocessing.image import ImageDataGenerator"
      ]
    },
    {
      "cell_type": "markdown",
      "metadata": {
        "id": "xyA4XKgQ8HMq"
      },
      "source": [
        "Melakukan proses augmentasi data train dan validasi. Pada penelitian ini digunakan batch_size = 10."
      ]
    },
    {
      "cell_type": "code",
      "execution_count": 27,
      "metadata": {
        "colab": {
          "base_uri": "https://localhost:8080/"
        },
        "id": "wypso4807fZ-",
        "outputId": "49f708a7-5581-4148-ff50-65efb2a16e73"
      },
      "outputs": [
        {
          "output_type": "stream",
          "name": "stdout",
          "text": [
            "Found 320 images belonging to 2 classes.\n",
            "Found 80 images belonging to 2 classes.\n"
          ]
        }
      ],
      "source": [
        "train_datagen = ImageDataGenerator(  rescale= 1./255,\n",
        "                                     horizontal_flip = True,\n",
        "                                     rotation_range= 45,\n",
        "                                     brightness_range=[0.8, 1.8] )\n",
        "\n",
        "validation_datagen = ImageDataGenerator( rescale= 1./255 )\n",
        "\n",
        "train_generator = train_datagen.flow_from_directory(  train_dir,\n",
        "                                                      target_size=(300, 300),\n",
        "                                                      batch_size= 10,\n",
        "                                                      class_mode='binary' )\n",
        "\n",
        "validation_generator = validation_datagen.flow_from_directory(   validation_dir,\n",
        "                                                                 target_size=(300, 300),\n",
        "                                                                 batch_size= 10,\n",
        "                                                                 class_mode='binary' )"
      ]
    },
    {
      "cell_type": "code",
      "execution_count": null,
      "metadata": {
        "id": "rb7Bo25I4QbY"
      },
      "outputs": [],
      "source": [
        "import matplotlib.pyplot as plt\n",
        "from tensorflow.keras.preprocessing.image import ImageDataGenerator\n",
        "from tensorflow.keras.preprocessing import image\n",
        "import numpy as np\n",
        "\n",
        "# Example image\n",
        "img_path = 'non-anemia (2).jpg'\n",
        "img = image.load_img(img_path, target_size=(300, 300))\n",
        "img_array = image.img_to_array(img)\n",
        "img_array = np.expand_dims(img_array, axis=0)\n",
        "\n",
        "# Initialize ImageDataGenerator with brightness_range and contrast_stretching\n",
        "datagen = ImageDataGenerator(\n",
        "    brightness_range=[0.8, 1.8]\n",
        ")\n",
        "\n",
        "# Generate augmented images\n",
        "augmented_images = datagen.flow(img_array, batch_size=1)\n",
        "\n",
        "# Plot augmented images\n",
        "plt.figure(figsize=(8, 4))\n",
        "for i in range(3):\n",
        "    augmented_img = augmented_images.next()[0]\n",
        "    plt.subplot(2, 3, i + 1)\n",
        "    plt.imshow(augmented_img.astype('uint8'))\n",
        "    plt.axis('off')\n",
        "\n",
        "plt.show()\n"
      ]
    },
    {
      "cell_type": "code",
      "execution_count": null,
      "metadata": {
        "id": "jxpXisTUGfGj"
      },
      "outputs": [],
      "source": [
        "def augment_and_generate(generator, augmentation_factor):\n",
        "    while True:\n",
        "        # Generate a batch of data\n",
        "        x_batch, y_batch = next(generator)\n",
        "\n",
        "        # Augment the data augmentation_factor times\n",
        "        augmented_data = [generator.random_transform(image) for image in x_batch]\n",
        "\n",
        "        # Concatenate the original batch with the augmented batches\n",
        "        x_augmented = np.concatenate([x_batch] + augmented_data)\n",
        "        y_augmented = np.concatenate([y_batch] * (augmentation_factor + 1))\n",
        "\n",
        "        yield x_augmented, y_augmented\n",
        "\n",
        "# Konfigurasi generator dengan augmentation_factor=6\n",
        "augmentation_factor = 3\n",
        "train_generator_augmented = augment_and_generate(train_generator, augmentation_factor)"
      ]
    },
    {
      "cell_type": "markdown",
      "metadata": {
        "id": "7y2QraYB60Lh"
      },
      "source": [
        "Membentuk fungsi create_model() yang menyimpan layer-layer conv dan maxpool, yang akan digunakan untuk mengekstrak fitur-fitur dari gambar yang telah berhasil disegmentasi. Pada penelitian ini digunakan ukuran gambar 300 x 300 pixels."
      ]
    },
    {
      "cell_type": "code",
      "execution_count": 29,
      "metadata": {
        "id": "hBs1cYkE6Mv-"
      },
      "outputs": [],
      "source": [
        "def create_model():\n",
        "\n",
        "  model = tf.keras.models.Sequential([\n",
        "\n",
        "      tf.keras.layers.Conv2D(32, (3,3), activation='relu', input_shape=(300,300,3)),\n",
        "      tf.keras.layers.MaxPooling2D(2, 2),\n",
        "\n",
        "      tf.keras.layers.Conv2D(64, (3,3), activation='relu'),\n",
        "      tf.keras.layers.MaxPooling2D(2,2),\n",
        "\n",
        "      tf.keras.layers.Conv2D(128, (3,3), activation='relu'),\n",
        "      tf.keras.layers.MaxPooling2D(2,2),\n",
        "\n",
        "      tf.keras.layers.Conv2D(256, (3,3), activation='relu'), #penambahan layer\n",
        "      tf.keras.layers.MaxPooling2D(2,2),\n",
        "\n",
        "      tf.keras.layers.Flatten(),\n",
        "      tf.keras.layers.Dense(256, activation='relu'), #penambahan layer\n",
        "      tf.keras.layers.Dense(128, activation='relu'),\n",
        "      tf.keras.layers.Dense(1, activation='sigmoid')\n",
        "  ])\n",
        "\n",
        "  model.compile( loss='binary_crossentropy',\n",
        "                 optimizer=Adam(learning_rate=1e-3),\n",
        "                 metrics=['accuracy'])\n",
        "\n",
        "  return model"
      ]
    },
    {
      "cell_type": "markdown",
      "metadata": {
        "id": "lJ3gi9D59Ucj"
      },
      "source": [
        "Melakukan proses training dengan mendefinisikan epoch (perulangan pelatihan model) sebanyak 20. Menggunakan model.fit() untuk memperoleh hasil akurasi training dan validasi data."
      ]
    },
    {
      "cell_type": "code",
      "execution_count": 30,
      "metadata": {
        "colab": {
          "base_uri": "https://localhost:8080/"
        },
        "id": "ojENogZW7PKW",
        "outputId": "28113740-ea46-473c-e29f-849774d253ab"
      },
      "outputs": [
        {
          "output_type": "stream",
          "name": "stdout",
          "text": [
            "Epoch 1/25\n",
            "32/32 [==============================] - ETA: 0s - loss: 0.6327 - accuracy: 0.6656\n",
            "Epoch 1: val_loss improved from inf to 0.23413, saving model to /content/drive/MyDrive/TA/checkpoints/model_checkpoint_epoch_01.h5\n"
          ]
        },
        {
          "output_type": "stream",
          "name": "stderr",
          "text": [
            "/usr/local/lib/python3.10/dist-packages/keras/src/engine/training.py:3079: UserWarning: You are saving your model as an HDF5 file via `model.save()`. This file format is considered legacy. We recommend using instead the native Keras format, e.g. `model.save('my_model.keras')`.\n",
            "  saving_api.save_model(\n"
          ]
        },
        {
          "output_type": "stream",
          "name": "stdout",
          "text": [
            "\b\b\b\b\b\b\b\b\b\b\b\b\b\b\b\b\b\b\b\b\b\b\b\b\b\b\b\b\b\b\b\b\b\b\b\b\b\b\b\b\b\b\b\b\b\b\b\b\b\b\b\b\b\b\b\b\b\b\b\b\b\b\b\b\b\b\b\b\b\b\b\b\b\b\b\b\b\b\b\b\b\b\r32/32 [==============================] - 232s 7s/step - loss: 0.6327 - accuracy: 0.6656 - val_loss: 0.2341 - val_accuracy: 0.9625 - lr: 0.0010\n",
            "Epoch 2/25\n",
            "32/32 [==============================] - ETA: 0s - loss: 0.2497 - accuracy: 0.9156\n",
            "Epoch 2: val_loss improved from 0.23413 to 0.16314, saving model to /content/drive/MyDrive/TA/checkpoints/model_checkpoint_epoch_02.h5\n",
            "32/32 [==============================] - 10s 293ms/step - loss: 0.2497 - accuracy: 0.9156 - val_loss: 0.1631 - val_accuracy: 0.9375 - lr: 0.0010\n",
            "Epoch 3/25\n",
            "32/32 [==============================] - ETA: 0s - loss: 0.1324 - accuracy: 0.9656\n",
            "Epoch 3: val_loss improved from 0.16314 to 0.08539, saving model to /content/drive/MyDrive/TA/checkpoints/model_checkpoint_epoch_03.h5\n",
            "32/32 [==============================] - 13s 396ms/step - loss: 0.1324 - accuracy: 0.9656 - val_loss: 0.0854 - val_accuracy: 0.9625 - lr: 0.0010\n",
            "Epoch 4/25\n",
            "32/32 [==============================] - ETA: 0s - loss: 0.1525 - accuracy: 0.9469\n",
            "Epoch 4: val_loss did not improve from 0.08539\n",
            "32/32 [==============================] - 10s 321ms/step - loss: 0.1525 - accuracy: 0.9469 - val_loss: 0.1871 - val_accuracy: 0.9250 - lr: 0.0010\n",
            "Epoch 5/25\n",
            "32/32 [==============================] - ETA: 0s - loss: 0.0795 - accuracy: 0.9719\n",
            "Epoch 5: val_loss did not improve from 0.08539\n",
            "32/32 [==============================] - 11s 358ms/step - loss: 0.0795 - accuracy: 0.9719 - val_loss: 0.2640 - val_accuracy: 0.9000 - lr: 0.0010\n",
            "Epoch 6/25\n",
            "32/32 [==============================] - ETA: 0s - loss: 0.0978 - accuracy: 0.9688\n",
            "Epoch 6: val_loss did not improve from 0.08539\n",
            "\n",
            "Epoch 6: ReduceLROnPlateau reducing learning rate to 0.00020000000949949026.\n",
            "32/32 [==============================] - 11s 349ms/step - loss: 0.0978 - accuracy: 0.9688 - val_loss: 0.2231 - val_accuracy: 0.9000 - lr: 0.0010\n",
            "Epoch 7/25\n",
            "32/32 [==============================] - ETA: 0s - loss: 0.0579 - accuracy: 0.9719\n",
            "Epoch 7: val_loss improved from 0.08539 to 0.05268, saving model to /content/drive/MyDrive/TA/checkpoints/model_checkpoint_epoch_07.h5\n",
            "32/32 [==============================] - 9s 283ms/step - loss: 0.0579 - accuracy: 0.9719 - val_loss: 0.0527 - val_accuracy: 0.9875 - lr: 2.0000e-04\n",
            "Epoch 8/25\n",
            "32/32 [==============================] - ETA: 0s - loss: 0.0357 - accuracy: 0.9906\n",
            "Epoch 8: val_loss improved from 0.05268 to 0.04302, saving model to /content/drive/MyDrive/TA/checkpoints/model_checkpoint_epoch_08.h5\n",
            "32/32 [==============================] - 12s 388ms/step - loss: 0.0357 - accuracy: 0.9906 - val_loss: 0.0430 - val_accuracy: 0.9875 - lr: 2.0000e-04\n",
            "Epoch 9/25\n",
            "32/32 [==============================] - ETA: 0s - loss: 0.0337 - accuracy: 0.9812\n",
            "Epoch 9: val_loss improved from 0.04302 to 0.03668, saving model to /content/drive/MyDrive/TA/checkpoints/model_checkpoint_epoch_09.h5\n",
            "32/32 [==============================] - 10s 303ms/step - loss: 0.0337 - accuracy: 0.9812 - val_loss: 0.0367 - val_accuracy: 0.9875 - lr: 2.0000e-04\n",
            "Epoch 10/25\n",
            "32/32 [==============================] - ETA: 0s - loss: 0.0393 - accuracy: 0.9906\n",
            "Epoch 10: val_loss did not improve from 0.03668\n",
            "32/32 [==============================] - 11s 352ms/step - loss: 0.0393 - accuracy: 0.9906 - val_loss: 0.0486 - val_accuracy: 0.9750 - lr: 2.0000e-04\n",
            "Epoch 11/25\n",
            "32/32 [==============================] - ETA: 0s - loss: 0.0585 - accuracy: 0.9781\n",
            "Epoch 11: val_loss improved from 0.03668 to 0.03522, saving model to /content/drive/MyDrive/TA/checkpoints/model_checkpoint_epoch_11.h5\n",
            "32/32 [==============================] - 9s 291ms/step - loss: 0.0585 - accuracy: 0.9781 - val_loss: 0.0352 - val_accuracy: 0.9750 - lr: 2.0000e-04\n",
            "Epoch 12/25\n",
            "32/32 [==============================] - ETA: 0s - loss: 0.0459 - accuracy: 0.9812\n",
            "Epoch 12: val_loss did not improve from 0.03522\n",
            "32/32 [==============================] - 12s 362ms/step - loss: 0.0459 - accuracy: 0.9812 - val_loss: 0.0497 - val_accuracy: 0.9750 - lr: 2.0000e-04\n",
            "Epoch 13/25\n",
            "32/32 [==============================] - ETA: 0s - loss: 0.0384 - accuracy: 0.9844\n",
            "Epoch 13: val_loss did not improve from 0.03522\n",
            "32/32 [==============================] - 11s 341ms/step - loss: 0.0384 - accuracy: 0.9844 - val_loss: 0.1064 - val_accuracy: 0.9625 - lr: 2.0000e-04\n",
            "Epoch 14/25\n",
            "32/32 [==============================] - ETA: 0s - loss: 0.0530 - accuracy: 0.9875\n",
            "Epoch 14: val_loss did not improve from 0.03522\n",
            "\n",
            "Epoch 14: ReduceLROnPlateau reducing learning rate to 4.0000001899898055e-05.\n",
            "32/32 [==============================] - 11s 351ms/step - loss: 0.0530 - accuracy: 0.9875 - val_loss: 0.1614 - val_accuracy: 0.9375 - lr: 2.0000e-04\n",
            "Epoch 15/25\n",
            "32/32 [==============================] - ETA: 0s - loss: 0.0420 - accuracy: 0.9875\n",
            "Epoch 15: val_loss did not improve from 0.03522\n",
            "32/32 [==============================] - 9s 294ms/step - loss: 0.0420 - accuracy: 0.9875 - val_loss: 0.0727 - val_accuracy: 0.9625 - lr: 4.0000e-05\n",
            "Epoch 16/25\n",
            "32/32 [==============================] - ETA: 0s - loss: 0.0339 - accuracy: 0.9875\n",
            "Epoch 16: val_loss did not improve from 0.03522\n",
            "Restoring model weights from the end of the best epoch: 11.\n",
            "32/32 [==============================] - 9s 289ms/step - loss: 0.0339 - accuracy: 0.9875 - val_loss: 0.0484 - val_accuracy: 0.9750 - lr: 4.0000e-05\n",
            "Epoch 16: early stopping\n"
          ]
        }
      ],
      "source": [
        "epochs = 25\n",
        "model = create_model()\n",
        "\n",
        "history = model.fit( train_generator,\n",
        "                     steps_per_epoch= 32,\n",
        "                     epochs= epochs,\n",
        "                     validation_data= validation_generator,\n",
        "                     validation_steps= 8,\n",
        "                     callbacks=[checkpoint_callback, early_stopping_callback, reduce_lr_callback])"
      ]
    },
    {
      "cell_type": "markdown",
      "metadata": {
        "id": "yRoDBSsA9rgI"
      },
      "source": [
        "Mendefinisikan fungsi untuk menampilkan grafik akurasi training dan validation."
      ]
    },
    {
      "cell_type": "code",
      "execution_count": 31,
      "metadata": {
        "id": "cYvXGdYX8nsU"
      },
      "outputs": [],
      "source": [
        "import matplotlib.pyplot as plt\n",
        "\n",
        "def plot_loss_acc(history):\n",
        "  acc = history.history['accuracy']\n",
        "  val_acc = history.history['val_accuracy']\n",
        "  loss = history.history['loss']\n",
        "  val_loss = history.history['val_loss']\n",
        "\n",
        "  epochs = range(len(acc))\n",
        "\n",
        "  plt.plot(epochs, acc, 'b', label='Training accuracy')\n",
        "  plt.plot(epochs, val_acc, 'orange', label='Validation accuracy')\n",
        "  plt.title('Training and validation accuracy')\n",
        "  plt.legend()\n",
        "\n",
        "  plt.figure()\n",
        "\n",
        "  plt.plot(epochs, loss, 'b', label='Training Loss')\n",
        "  plt.plot(epochs, val_loss, 'orange', label='Validation Loss')\n",
        "  plt.title('Training and validation loss')\n",
        "  plt.legend()\n",
        "\n",
        "  plt.show()"
      ]
    },
    {
      "cell_type": "code",
      "execution_count": 32,
      "metadata": {
        "colab": {
          "base_uri": "https://localhost:8080/",
          "height": 887
        },
        "id": "XkjYQu6r-Nsx",
        "outputId": "4463c19f-2963-4bb2-f6d7-f7a08ce03cc3"
      },
      "outputs": [
        {
          "output_type": "display_data",
          "data": {
            "text/plain": [
              "<Figure size 640x480 with 1 Axes>"
            ],
            "image/png": "[encoded data removed]"
          },
          "metadata": {}
        },
        {
          "output_type": "display_data",
          "data": {
            "text/plain": [
              "<Figure size 640x480 with 1 Axes>"
            ],
            "image/png": "[encoded data removed]"
          },
          "metadata": {}
        }
      ],
      "source": [
        "plot_loss_acc(history)"
      ]
    },
    {
      "cell_type": "markdown",
      "metadata": {
        "id": "S5_qXGCLCFGK"
      },
      "source": [
        "### Menggunakan Pre-trained Model: EfficientNet"
      ]
    },
    {
      "cell_type": "code",
      "execution_count": 33,
      "metadata": {
        "id": "s2SEbt49HFBc"
      },
      "outputs": [],
      "source": [
        "import tensorflow as tf\n",
        "from tensorflow.keras.optimizers import Adam\n",
        "from tensorflow.keras.preprocessing.image import ImageDataGenerator\n",
        "from tensorflow.keras.applications import EfficientNetB0\n",
        "from tensorflow.keras import layers\n",
        "from tensorflow.keras import Model"
      ]
    },
    {
      "cell_type": "code",
      "execution_count": 34,
      "metadata": {
        "colab": {
          "base_uri": "https://localhost:8080/"
        },
        "id": "YJOtSKshHGj0",
        "outputId": "ab7638e0-3dc0-4079-a48e-7567369b86e4"
      },
      "outputs": [
        {
          "output_type": "stream",
          "name": "stdout",
          "text": [
            "Found 320 images belonging to 2 classes.\n",
            "Found 80 images belonging to 2 classes.\n"
          ]
        }
      ],
      "source": [
        "train_datagen = ImageDataGenerator(   rescale= 1./255,\n",
        "                                      horizontal_flip = True,\n",
        "                                      brightness_range=[0.8, 1.8] )\n",
        "\n",
        "validation_datagen = ImageDataGenerator( rescale= 1./255 )\n",
        "\n",
        "train_generator = train_datagen.flow_from_directory(  train_dir,\n",
        "                                                      target_size=(224, 224),\n",
        "                                                      batch_size= 10,\n",
        "                                                      class_mode='binary' )\n",
        "\n",
        "validation_generator = validation_datagen.flow_from_directory(   validation_dir,\n",
        "                                                                 target_size=(224, 224),\n",
        "                                                                 batch_size= 10,\n",
        "                                                                 class_mode='binary' )"
      ]
    },
    {
      "cell_type": "code",
      "source": [
        "print(train_generator.n)"
      ],
      "metadata": {
        "colab": {
          "base_uri": "https://localhost:8080/"
        },
        "id": "egqwlCPFS-3q",
        "outputId": "102ddbf3-b9b6-45ec-fcfd-964429464664"
      },
      "execution_count": null,
      "outputs": [
        {
          "output_type": "stream",
          "name": "stdout",
          "text": [
            "320\n"
          ]
        }
      ]
    },
    {
      "cell_type": "code",
      "execution_count": null,
      "metadata": {
        "id": "74dt0K1gHLQg"
      },
      "outputs": [],
      "source": [
        "def augment_and_generate(generator, augmentation_factor):\n",
        "    while True:\n",
        "        # Generate a batch of data\n",
        "        x_batch, y_batch = next(generator)\n",
        "\n",
        "        # Augment the data augmentation_factor times\n",
        "        augmented_data = [generator.random_transform(image) for image in x_batch]\n",
        "\n",
        "        # Concatenate the original batch with the augmented batches\n",
        "        x_augmented = np.concatenate([x_batch] + augmented_data)\n",
        "        y_augmented = np.concatenate([y_batch] * (augmentation_factor + 1))\n",
        "\n",
        "        yield x_augmented, y_augmented\n",
        "\n",
        "# Konfigurasi generator dengan augmentation_factor=3\n",
        "augmentation_factor = 3\n",
        "train_generator_augmented = augment_and_generate(train_generator, augmentation_factor)"
      ]
    },
    {
      "cell_type": "code",
      "execution_count": null,
      "metadata": {
        "id": "S9agVhpyIJJg"
      },
      "outputs": [],
      "source": [
        "pre_trained_model = EfficientNetB0(weights='imagenet', include_top=False)\n",
        "#, drop_connect_rate=0.2\n",
        "pre_trained_model.trainable = False\n",
        "# for layer in pre_trained_model.layers[-1:]:\n",
        "#   if not isinstance(layer, layers.BatchNormalization):\n",
        "#     layer.trainable = True"
      ]
    },
    {
      "cell_type": "code",
      "execution_count": null,
      "metadata": {
        "id": "CGsV9FHoJGLW"
      },
      "outputs": [],
      "source": [
        "pre_trained_model.summary()"
      ]
    },
    {
      "cell_type": "code",
      "execution_count": null,
      "metadata": {
        "id": "rPw_Qs2ZJTAD"
      },
      "outputs": [],
      "source": [
        "top_dropout_rate = 0.3\n",
        "\n",
        "x = layers.GlobalAveragePooling2D(name=\"avg_pool\")(pre_trained_model.output)\n",
        "# x = layers.BatchNormalization()(x)\n",
        "# x = layers.Dropout(top_dropout_rate, name=\"additional_dropout1\")(x)\n",
        "\n",
        "# #additional layers\n",
        "# x = layers.Dense(512, activation='relu', name='dense_layer1')(x)\n",
        "# x = layers.Dense(1024, activation='relu', name='dense_layer2')(x)\n",
        "# x = layers.Dense(256, activation='relu', name='dense_layer2')(x)\n",
        "# x = layers.Dense(128, activation='relu', name='dense_layer3')(x)\n",
        "\n",
        "output = layers.Dense(1,activation=\"sigmoid\",name=\"pred\")(x)"
      ]
    },
    {
      "cell_type": "code",
      "execution_count": null,
      "metadata": {
        "id": "4xFngqMIK4fb"
      },
      "outputs": [],
      "source": [
        "model = Model(pre_trained_model.input, output)"
      ]
    },
    {
      "cell_type": "code",
      "execution_count": null,
      "metadata": {
        "id": "9kJuBZvDLJ1a"
      },
      "outputs": [],
      "source": [
        "model.summary()"
      ]
    },
    {
      "cell_type": "code",
      "execution_count": null,
      "metadata": {
        "id": "Tog7Iy6gLbRk"
      },
      "outputs": [],
      "source": [
        "model.compile(  optimizer = Adam(learning_rate = 1e-4 ),\n",
        "                loss = 'binary_crossentropy',\n",
        "                metrics = ['accuracy'] )"
      ]
    },
    {
      "cell_type": "code",
      "execution_count": null,
      "metadata": {
        "colab": {
          "base_uri": "https://localhost:8080/",
          "height": 390
        },
        "id": "oW3_vmZwHQfn",
        "outputId": "b7b7b2e5-06c8-4fa5-88f4-8441a4841944"
      },
      "outputs": [
        {
          "output_type": "error",
          "ename": "AttributeError",
          "evalue": "ignored",
          "traceback": [
            "\u001b[0;31m---------------------------------------------------------------------------\u001b[0m",
            "\u001b[0;31mAttributeError\u001b[0m                            Traceback (most recent call last)",
            "\u001b[0;32m<ipython-input-39-2e9ef994caef>\u001b[0m in \u001b[0;36m<cell line: 3>\u001b[0;34m()\u001b[0m\n\u001b[1;32m      1\u001b[0m \u001b[0mepochs\u001b[0m \u001b[0;34m=\u001b[0m \u001b[0;36m32\u001b[0m\u001b[0;34m\u001b[0m\u001b[0;34m\u001b[0m\u001b[0m\n\u001b[1;32m      2\u001b[0m \u001b[0;34m\u001b[0m\u001b[0m\n\u001b[0;32m----> 3\u001b[0;31m history = model.fit( train_generator_augmented,\n\u001b[0m\u001b[1;32m      4\u001b[0m                      \u001b[0msteps_per_epoch\u001b[0m\u001b[0;34m=\u001b[0m \u001b[0;36m32\u001b[0m\u001b[0;34m,\u001b[0m\u001b[0;34m\u001b[0m\u001b[0;34m\u001b[0m\u001b[0m\n\u001b[1;32m      5\u001b[0m                      \u001b[0mepochs\u001b[0m\u001b[0;34m=\u001b[0m \u001b[0mepochs\u001b[0m\u001b[0;34m,\u001b[0m\u001b[0;34m\u001b[0m\u001b[0;34m\u001b[0m\u001b[0m\n",
            "\u001b[0;32m/usr/local/lib/python3.10/dist-packages/keras/src/utils/traceback_utils.py\u001b[0m in \u001b[0;36merror_handler\u001b[0;34m(*args, **kwargs)\u001b[0m\n\u001b[1;32m     68\u001b[0m             \u001b[0;31m# To get the full stack trace, call:\u001b[0m\u001b[0;34m\u001b[0m\u001b[0;34m\u001b[0m\u001b[0m\n\u001b[1;32m     69\u001b[0m             \u001b[0;31m# `tf.debugging.disable_traceback_filtering()`\u001b[0m\u001b[0;34m\u001b[0m\u001b[0;34m\u001b[0m\u001b[0m\n\u001b[0;32m---> 70\u001b[0;31m             \u001b[0;32mraise\u001b[0m \u001b[0me\u001b[0m\u001b[0;34m.\u001b[0m\u001b[0mwith_traceback\u001b[0m\u001b[0;34m(\u001b[0m\u001b[0mfiltered_tb\u001b[0m\u001b[0;34m)\u001b[0m \u001b[0;32mfrom\u001b[0m \u001b[0;32mNone\u001b[0m\u001b[0;34m\u001b[0m\u001b[0;34m\u001b[0m\u001b[0m\n\u001b[0m\u001b[1;32m     71\u001b[0m         \u001b[0;32mfinally\u001b[0m\u001b[0;34m:\u001b[0m\u001b[0;34m\u001b[0m\u001b[0;34m\u001b[0m\u001b[0m\n\u001b[1;32m     72\u001b[0m             \u001b[0;32mdel\u001b[0m \u001b[0mfiltered_tb\u001b[0m\u001b[0;34m\u001b[0m\u001b[0;34m\u001b[0m\u001b[0m\n",
            "\u001b[0;32m<ipython-input-38-ada371ace68b>\u001b[0m in \u001b[0;36maugment_and_generate\u001b[0;34m(generator, augmentation_factor)\u001b[0m\n\u001b[1;32m      5\u001b[0m \u001b[0;34m\u001b[0m\u001b[0m\n\u001b[1;32m      6\u001b[0m         \u001b[0;31m# Augment the data augmentation_factor times\u001b[0m\u001b[0;34m\u001b[0m\u001b[0;34m\u001b[0m\u001b[0m\n\u001b[0;32m----> 7\u001b[0;31m         \u001b[0maugmented_data\u001b[0m \u001b[0;34m=\u001b[0m \u001b[0;34m[\u001b[0m\u001b[0mgenerator\u001b[0m\u001b[0;34m.\u001b[0m\u001b[0mrandom_transform\u001b[0m\u001b[0;34m(\u001b[0m\u001b[0mimage\u001b[0m\u001b[0;34m)\u001b[0m \u001b[0;32mfor\u001b[0m \u001b[0mimage\u001b[0m \u001b[0;32min\u001b[0m \u001b[0mx_batch\u001b[0m\u001b[0;34m]\u001b[0m\u001b[0;34m\u001b[0m\u001b[0;34m\u001b[0m\u001b[0m\n\u001b[0m\u001b[1;32m      8\u001b[0m \u001b[0;34m\u001b[0m\u001b[0m\n\u001b[1;32m      9\u001b[0m         \u001b[0;31m# Concatenate the original batch with the augmented batches\u001b[0m\u001b[0;34m\u001b[0m\u001b[0;34m\u001b[0m\u001b[0m\n",
            "\u001b[0;32m<ipython-input-38-ada371ace68b>\u001b[0m in \u001b[0;36m<listcomp>\u001b[0;34m(.0)\u001b[0m\n\u001b[1;32m      5\u001b[0m \u001b[0;34m\u001b[0m\u001b[0m\n\u001b[1;32m      6\u001b[0m         \u001b[0;31m# Augment the data augmentation_factor times\u001b[0m\u001b[0;34m\u001b[0m\u001b[0;34m\u001b[0m\u001b[0m\n\u001b[0;32m----> 7\u001b[0;31m         \u001b[0maugmented_data\u001b[0m \u001b[0;34m=\u001b[0m \u001b[0;34m[\u001b[0m\u001b[0mgenerator\u001b[0m\u001b[0;34m.\u001b[0m\u001b[0mrandom_transform\u001b[0m\u001b[0;34m(\u001b[0m\u001b[0mimage\u001b[0m\u001b[0;34m)\u001b[0m \u001b[0;32mfor\u001b[0m \u001b[0mimage\u001b[0m \u001b[0;32min\u001b[0m \u001b[0mx_batch\u001b[0m\u001b[0;34m]\u001b[0m\u001b[0;34m\u001b[0m\u001b[0;34m\u001b[0m\u001b[0m\n\u001b[0m\u001b[1;32m      8\u001b[0m \u001b[0;34m\u001b[0m\u001b[0m\n\u001b[1;32m      9\u001b[0m         \u001b[0;31m# Concatenate the original batch with the augmented batches\u001b[0m\u001b[0;34m\u001b[0m\u001b[0;34m\u001b[0m\u001b[0m\n",
            "\u001b[0;31mAttributeError\u001b[0m: 'DirectoryIterator' object has no attribute 'random_transform'"
          ]
        }
      ],
      "source": [
        "epochs = 32\n",
        "\n",
        "history = model.fit( train_generator_augmented,\n",
        "                     steps_per_epoch= 32,\n",
        "                     epochs= epochs,\n",
        "                     validation_data= validation_generator,\n",
        "                     validation_steps= 8,\n",
        "                     callbacks=[checkpoint_callback, early_stopping_callback, reduce_lr_callback])"
      ]
    },
    {
      "cell_type": "code",
      "execution_count": null,
      "metadata": {
        "id": "V9ZW8XyxPo1F"
      },
      "outputs": [],
      "source": [
        "import matplotlib.pyplot as plt\n",
        "\n",
        "def plot_loss_acc(history):\n",
        "  acc = history.history['accuracy']\n",
        "  val_acc = history.history['val_accuracy']\n",
        "  loss = history.history['loss']\n",
        "  val_loss = history.history['val_loss']\n",
        "\n",
        "  epochs = range(len(acc))\n",
        "\n",
        "  plt.plot(epochs, acc, 'b', label='Training accuracy')\n",
        "  plt.plot(epochs, val_acc, 'orange', label='Validation accuracy')\n",
        "  plt.title('Training and validation accuracy')\n",
        "  plt.legend()\n",
        "\n",
        "  plt.figure()\n",
        "\n",
        "  plt.plot(epochs, loss, 'b', label='Training Loss')\n",
        "  plt.plot(epochs, val_loss, 'orange', label='Validation Loss')\n",
        "  plt.title('Training and validation loss')\n",
        "  plt.legend()\n",
        "\n",
        "  plt.show()"
      ]
    },
    {
      "cell_type": "code",
      "execution_count": null,
      "metadata": {
        "colab": {
          "base_uri": "https://localhost:8080/",
          "height": 887
        },
        "id": "jGHtoBprP2cL",
        "outputId": "a38668ec-49bf-4731-c34a-5f833f9f0663"
      },
      "outputs": [
        {
          "output_type": "display_data",
          "data": {
            "text/plain": [
              "<Figure size 640x480 with 1 Axes>"
            ],
            "image/png": "[encoded data removed]"
          },
          "metadata": {}
        },
        {
          "output_type": "display_data",
          "data": {
            "text/plain": [
              "<Figure size 640x480 with 1 Axes>"
            ],
            "image/png": "[encoded data removed]"
          },
          "metadata": {}
        }
      ],
      "source": [
        "plot_loss_acc(history)"
      ]
    },
    {
      "cell_type": "markdown",
      "metadata": {
        "id": "1zoqkN82yoZs"
      },
      "source": [
        "### Testing"
      ]
    },
    {
      "cell_type": "code",
      "execution_count": 47,
      "metadata": {
        "colab": {
          "base_uri": "https://localhost:8080/"
        },
        "id": "-EgeA808-P_l",
        "outputId": "f2b0694b-11ed-4b1f-e56e-181909157023"
      },
      "outputs": [
        {
          "output_type": "stream",
          "name": "stdout",
          "text": [
            "Found 40 images belonging to 2 classes.\n",
            "4/4 [==============================] - 20s 7s/step - loss: 1.6287 - accuracy: 0.7000\n",
            "Test accuracy: 0.699999988079071\n",
            "Test loss: 1.6287486553192139\n"
          ]
        }
      ],
      "source": [
        "# Assuming your testing dataset is in a directory called 'test_dir'\n",
        "test_dir = '/content/drive/MyDrive/TA/testing1'\n",
        "\n",
        "test_datagen = ImageDataGenerator(rescale=1./255)\n",
        "\n",
        "test_generator = test_datagen.flow_from_directory(\n",
        "    test_dir,\n",
        "    target_size=(300, 300),\n",
        "    batch_size=10,\n",
        "    class_mode='binary')\n",
        "\n",
        "# Evaluate the model on the test dataset\n",
        "test_loss, test_accuracy = model.evaluate(test_generator)\n",
        "\n",
        "print(f'Test accuracy: {test_accuracy}')\n",
        "print(f'Test loss: {test_loss}')\n"
      ]
    },
    {
      "cell_type": "markdown",
      "metadata": {
        "id": "mjhux-Kakl6x"
      },
      "source": [
        "Berikut adalah kode apabila ingin melakukan testing dengan model yang telah disimpan dalam format h5"
      ]
    },
    {
      "cell_type": "code",
      "execution_count": 50,
      "metadata": {
        "colab": {
          "base_uri": "https://localhost:8080/"
        },
        "id": "e_Mmv1DgjxQy",
        "outputId": "76de0edb-c538-4643-b038-d39fcc563963"
      },
      "outputs": [
        {
          "output_type": "stream",
          "name": "stdout",
          "text": [
            "Found 40 images belonging to 2 classes.\n",
            "4/4 [==============================] - 0s 46ms/step - loss: 0.4998 - accuracy: 0.9250\n",
            "Test accuracy: 0.925000011920929\n",
            "Test loss: 0.499830424785614\n"
          ]
        }
      ],
      "source": [
        "from tensorflow.keras.models import load_model\n",
        "\n",
        "test_dir = '/content/drive/MyDrive/TA/testing2'\n",
        "\n",
        "# Path ke file model .h5 yang telah disimpan\n",
        "saved_model_path = '/content/drive/MyDrive/TA/checkpoints/model_checkpoint_epoch_11.h5'\n",
        "\n",
        "# Memuat model dari file .h5\n",
        "loaded_model = load_model(saved_model_path)\n",
        "\n",
        "# Menggunakan ImageDataGenerator untuk mengonversi gambar dari direktori testing\n",
        "test_datagen = ImageDataGenerator(rescale=1./255)\n",
        "\n",
        "test_generator = test_datagen.flow_from_directory(\n",
        "    test_dir,\n",
        "    target_size=(300, 300),\n",
        "    batch_size=10,\n",
        "    class_mode='binary')\n",
        "\n",
        "# Evaluasi model yang telah dimuat pada dataset pengujian\n",
        "test_loss, test_accuracy = loaded_model.evaluate(test_generator)\n",
        "\n",
        "print(f'Test accuracy: {test_accuracy}')\n",
        "print(f'Test loss: {test_loss}')\n"
      ]
    },
    {
      "cell_type": "code",
      "execution_count": 52,
      "metadata": {
        "colab": {
          "base_uri": "https://localhost:8080/"
        },
        "id": "qYVzju4ly66t",
        "outputId": "81fe8cb9-fe8e-48b0-e3c5-8698a3dc8fb3"
      },
      "outputs": [
        {
          "output_type": "stream",
          "name": "stdout",
          "text": [
            "Found 40 images belonging to 2 classes.\n",
            "4/4 [==============================] - 0s 55ms/step\n",
            "Actual: anemia, Predicted: anemia\n",
            "Actual: anemia, Predicted: anemia\n",
            "Actual: anemia, Predicted: anemia\n",
            "Actual: anemia, Predicted: anemia\n",
            "Actual: anemia, Predicted: anemia\n",
            "Actual: anemia, Predicted: anemia\n",
            "Actual: anemia, Predicted: anemia\n",
            "Actual: anemia, Predicted: anemia\n",
            "Actual: anemia, Predicted: anemia\n",
            "Actual: anemia, Predicted: non-anemia\n",
            "Actual: anemia, Predicted: non-anemia\n",
            "Actual: anemia, Predicted: anemia\n",
            "Actual: anemia, Predicted: anemia\n",
            "Actual: anemia, Predicted: anemia\n",
            "Actual: anemia, Predicted: anemia\n",
            "Actual: anemia, Predicted: anemia\n",
            "Actual: anemia, Predicted: anemia\n",
            "Actual: anemia, Predicted: anemia\n",
            "Actual: anemia, Predicted: anemia\n",
            "Actual: anemia, Predicted: anemia\n",
            "Actual: non-anemia, Predicted: non-anemia\n",
            "Actual: non-anemia, Predicted: non-anemia\n",
            "Actual: non-anemia, Predicted: non-anemia\n",
            "Actual: non-anemia, Predicted: non-anemia\n",
            "Actual: non-anemia, Predicted: non-anemia\n",
            "Actual: non-anemia, Predicted: non-anemia\n",
            "Actual: non-anemia, Predicted: non-anemia\n",
            "Actual: non-anemia, Predicted: anemia\n",
            "Actual: non-anemia, Predicted: non-anemia\n",
            "Actual: non-anemia, Predicted: non-anemia\n",
            "Actual: non-anemia, Predicted: non-anemia\n",
            "Actual: non-anemia, Predicted: non-anemia\n",
            "Actual: non-anemia, Predicted: non-anemia\n",
            "Actual: non-anemia, Predicted: non-anemia\n",
            "Actual: non-anemia, Predicted: non-anemia\n",
            "Actual: non-anemia, Predicted: non-anemia\n",
            "Actual: non-anemia, Predicted: non-anemia\n",
            "Actual: non-anemia, Predicted: non-anemia\n",
            "Actual: non-anemia, Predicted: non-anemia\n",
            "Actual: non-anemia, Predicted: non-anemia\n"
          ]
        }
      ],
      "source": [
        "import numpy as np\n",
        "\n",
        "# Assuming your testing dataset is in a directory called 'test_dir'\n",
        "test_datagen = ImageDataGenerator(rescale=1./255)\n",
        "\n",
        "test_generator = test_datagen.flow_from_directory(\n",
        "    test_dir,\n",
        "    target_size=(300, 300),\n",
        "    batch_size=10,\n",
        "    class_mode='binary',\n",
        "    shuffle=False)\n",
        "\n",
        "# Get predictions for the test dataset\n",
        "predictions = loaded_model.predict(test_generator)\n",
        "\n",
        "# Convert predicted probabilities to class labels (0 or 1)\n",
        "predicted_labels = np.round(predictions)\n",
        "\n",
        "# Get true labels from the generator\n",
        "true_labels = test_generator.classes\n",
        "\n",
        "# Get the mapping from class indices to class names\n",
        "class_names = list(test_generator.class_indices.keys())\n",
        "\n",
        "# Convert numeric labels to class names for true labels\n",
        "true_class_names = [class_names[label] for label in true_labels]\n",
        "\n",
        "# Convert numeric labels to class names for predicted labels\n",
        "predicted_class_names = [class_names[int(label)] for label in predicted_labels]\n",
        "\n",
        "# Now you can use true_class_names and predicted_class_names for analysis or printing\n",
        "for i in range(len(true_class_names)):\n",
        "    print(f\"Actual: {true_class_names[i]}, Predicted: {predicted_class_names[i]}\")\n"
      ]
    },
    {
      "cell_type": "code",
      "execution_count": 53,
      "metadata": {
        "colab": {
          "base_uri": "https://localhost:8080/"
        },
        "id": "vpshm8JezWeC",
        "outputId": "4716c94c-38ad-4342-cf31-7064349ef3cc"
      },
      "outputs": [
        {
          "output_type": "stream",
          "name": "stdout",
          "text": [
            "Precision: 0.9047619047619048\n",
            "Recall: 0.95\n"
          ]
        }
      ],
      "source": [
        "from sklearn.metrics import precision_score, recall_score, confusion_matrix\n",
        "\n",
        "# Assuming true_labels and predicted_labels are your true and predicted labels\n",
        "precision = precision_score(true_labels, predicted_labels)\n",
        "recall = recall_score(true_labels, predicted_labels)\n",
        "\n",
        "# You can also compute a confusion matrix\n",
        "conf_matrix = confusion_matrix(true_labels, predicted_labels)\n",
        "print(f'Precision: {precision}')\n",
        "print(f'Recall: {recall}')\n"
      ]
    },
    {
      "cell_type": "code",
      "execution_count": 54,
      "metadata": {
        "colab": {
          "base_uri": "https://localhost:8080/",
          "height": 578
        },
        "id": "Af9bQrvXzW0L",
        "outputId": "ae498293-8d23-4066-e35d-c0f593048fd2"
      },
      "outputs": [
        {
          "output_type": "display_data",
          "data": {
            "text/plain": [
              "<Figure size 800x600 with 1 Axes>"
            ],
            "image/png": "[encoded data removed]"
          },
          "metadata": {}
        }
      ],
      "source": [
        "import seaborn as sns\n",
        "import matplotlib.pyplot as plt\n",
        "from sklearn.metrics import confusion_matrix\n",
        "from sklearn.metrics import ConfusionMatrixDisplay\n",
        "\n",
        "# Assuming true_labels and predicted_labels are your true and predicted labels\n",
        "conf_matrix = confusion_matrix(true_labels, predicted_labels)\n",
        "\n",
        "# Create a seaborn heatmap\n",
        "plt.figure(figsize=(8, 6))\n",
        "sns.set(font_scale=1.2)  # Adjust the font size for better readability\n",
        "sns.heatmap(conf_matrix, annot=True, fmt='d', cmap='Blues', cbar=False,\n",
        "            xticklabels=['Predicted Negative', 'Predicted Positive'],\n",
        "            yticklabels=['Actual Negative', 'Actual Positive'])\n",
        "plt.xlabel('Predicted')\n",
        "plt.ylabel('Actual')\n",
        "plt.title('Confusion Matrix')\n",
        "plt.show()\n"
      ]
    },
    {
      "cell_type": "markdown",
      "metadata": {
        "id": "5tF7g-1A1Mvv"
      },
      "source": [
        "### Trial and Error"
      ]
    },
    {
      "cell_type": "code",
      "execution_count": 55,
      "metadata": {
        "colab": {
          "base_uri": "https://localhost:8080/",
          "height": 125
        },
        "id": "9SLoYPiszYdD",
        "outputId": "1e4e7f63-f716-4c72-ee72-ace68d92a269"
      },
      "outputs": [
        {
          "output_type": "display_data",
          "data": {
            "text/plain": [
              "<IPython.core.display.HTML object>"
            ],
            "text/html": [
              "\n",
              "     <input type=\"file\" id=\"files-21b8c74a-d123-4791-8c87-512dee339ba7\" name=\"files[]\" multiple disabled\n",
              "        style=\"border:none\" />\n",
              "     <output id=\"result-21b8c74a-d123-4791-8c87-512dee339ba7\">\n",
              "      Upload widget is only available when the cell has been executed in the\n",
              "      current browser session. Please rerun this cell to enable.\n",
              "      </output>\n",
              "      <script>// Copyright 2017 Google LLC\n",
              "//\n",
              "// Licensed under the Apache License, Version 2.0 (the \"License\");\n",
              "// you may not use this file except in compliance with the License.\n",
              "// You may obtain a copy of the License at\n",
              "//\n",
              "//      http://www.apache.org/licenses/LICENSE-2.0\n",
              "//\n",
              "// Unless required by applicable law or agreed to in writing, software\n",
              "// distributed under the License is distributed on an \"AS IS\" BASIS,\n",
              "// WITHOUT WARRANTIES OR CONDITIONS OF ANY KIND, either express or implied.\n",
              "// See the License for the specific language governing permissions and\n",
              "// limitations under the License.\n",
              "\n",
              "/**\n",
              " * @fileoverview Helpers for google.colab Python module.\n",
              " */\n",
              "(function(scope) {\n",
              "function span(text, styleAttributes = {}) {\n",
              "  const element = document.createElement('span');\n",
              "  element.textContent = text;\n",
              "  for (const key of Object.keys(styleAttributes)) {\n",
              "    element.style[key] = styleAttributes[key];\n",
              "  }\n",
              "  return element;\n",
              "}\n",
              "\n",
              "// Max number of bytes which will be uploaded at a time.\n",
              "const MAX_PAYLOAD_SIZE = 100 * 1024;\n",
              "\n",
              "function _uploadFiles(inputId, outputId) {\n",
              "  const steps = uploadFilesStep(inputId, outputId);\n",
              "  const outputElement = document.getElementById(outputId);\n",
              "  // Cache steps on the outputElement to make it available for the next call\n",
              "  // to uploadFilesContinue from Python.\n",
              "  outputElement.steps = steps;\n",
              "\n",
              "  return _uploadFilesContinue(outputId);\n",
              "}\n",
              "\n",
              "// This is roughly an async generator (not supported in the browser yet),\n",
              "// where there are multiple asynchronous steps and the Python side is going\n",
              "// to poll for completion of each step.\n",
              "// This uses a Promise to block the python side on completion of each step,\n",
              "// then passes the result of the previous step as the input to the next step.\n",
              "function _uploadFilesContinue(outputId) {\n",
              "  const outputElement = document.getElementById(outputId);\n",
              "  const steps = outputElement.steps;\n",
              "\n",
              "  const next = steps.next(outputElement.lastPromiseValue);\n",
              "  return Promise.resolve(next.value.promise).then((value) => {\n",
              "    // Cache the last promise value to make it available to the next\n",
              "    // step of the generator.\n",
              "    outputElement.lastPromiseValue = value;\n",
              "    return next.value.response;\n",
              "  });\n",
              "}\n",
              "\n",
              "/**\n",
              " * Generator function which is called between each async step of the upload\n",
              " * process.\n",
              " * @param {string} inputId Element ID of the input file picker element.\n",
              " * @param {string} outputId Element ID of the output display.\n",
              " * @return {!Iterable<!Object>} Iterable of next steps.\n",
              " */\n",
              "function* uploadFilesStep(inputId, outputId) {\n",
              "  const inputElement = document.getElementById(inputId);\n",
              "  inputElement.disabled = false;\n",
              "\n",
              "  const outputElement = document.getElementById(outputId);\n",
              "  outputElement.innerHTML = '';\n",
              "\n",
              "  const pickedPromise = new Promise((resolve) => {\n",
              "    inputElement.addEventListener('change', (e) => {\n",
              "      resolve(e.target.files);\n",
              "    });\n",
              "  });\n",
              "\n",
              "  const cancel = document.createElement('button');\n",
              "  inputElement.parentElement.appendChild(cancel);\n",
              "  cancel.textContent = 'Cancel upload';\n",
              "  const cancelPromise = new Promise((resolve) => {\n",
              "    cancel.onclick = () => {\n",
              "      resolve(null);\n",
              "    };\n",
              "  });\n",
              "\n",
              "  // Wait for the user to pick the files.\n",
              "  const files = yield {\n",
              "    promise: Promise.race([pickedPromise, cancelPromise]),\n",
              "    response: {\n",
              "      action: 'starting',\n",
              "    }\n",
              "  };\n",
              "\n",
              "  cancel.remove();\n",
              "\n",
              "  // Disable the input element since further picks are not allowed.\n",
              "  inputElement.disabled = true;\n",
              "\n",
              "  if (!files) {\n",
              "    return {\n",
              "      response: {\n",
              "        action: 'complete',\n",
              "      }\n",
              "    };\n",
              "  }\n",
              "\n",
              "  for (const file of files) {\n",
              "    const li = document.createElement('li');\n",
              "    li.append(span(file.name, {fontWeight: 'bold'}));\n",
              "    li.append(span(\n",
              "        `(${file.type || 'n/a'}) - ${file.size} bytes, ` +\n",
              "        `last modified: ${\n",
              "            file.lastModifiedDate ? file.lastModifiedDate.toLocaleDateString() :\n",
              "                                    'n/a'} - `));\n",
              "    const percent = span('0% done');\n",
              "    li.appendChild(percent);\n",
              "\n",
              "    outputElement.appendChild(li);\n",
              "\n",
              "    const fileDataPromise = new Promise((resolve) => {\n",
              "      const reader = new FileReader();\n",
              "      reader.onload = (e) => {\n",
              "        resolve(e.target.result);\n",
              "      };\n",
              "      reader.readAsArrayBuffer(file);\n",
              "    });\n",
              "    // Wait for the data to be ready.\n",
              "    let fileData = yield {\n",
              "      promise: fileDataPromise,\n",
              "      response: {\n",
              "        action: 'continue',\n",
              "      }\n",
              "    };\n",
              "\n",
              "    // Use a chunked sending to avoid message size limits. See b/62115660.\n",
              "    let position = 0;\n",
              "    do {\n",
              "      const length = Math.min(fileData.byteLength - position, MAX_PAYLOAD_SIZE);\n",
              "      const chunk = new Uint8Array(fileData, position, length);\n",
              "      position += length;\n",
              "\n",
              "      const base64 = btoa(String.fromCharCode.apply(null, chunk));\n",
              "      yield {\n",
              "        response: {\n",
              "          action: 'append',\n",
              "          file: file.name,\n",
              "          data: base64,\n",
              "        },\n",
              "      };\n",
              "\n",
              "      let percentDone = fileData.byteLength === 0 ?\n",
              "          100 :\n",
              "          Math.round((position / fileData.byteLength) * 100);\n",
              "      percent.textContent = `${percentDone}% done`;\n",
              "\n",
              "    } while (position < fileData.byteLength);\n",
              "  }\n",
              "\n",
              "  // All done.\n",
              "  yield {\n",
              "    response: {\n",
              "      action: 'complete',\n",
              "    }\n",
              "  };\n",
              "}\n",
              "\n",
              "scope.google = scope.google || {};\n",
              "scope.google.colab = scope.google.colab || {};\n",
              "scope.google.colab._files = {\n",
              "  _uploadFiles,\n",
              "  _uploadFilesContinue,\n",
              "};\n",
              "})(self);\n",
              "</script> "
            ]
          },
          "metadata": {}
        },
        {
          "output_type": "stream",
          "name": "stdout",
          "text": [
            "Saving WhatsApp Image 2023-11-20 at 11.15.03.jpeg to WhatsApp Image 2023-11-20 at 11.15.03.jpeg\n",
            "1/1 [==============================] - 0s 27ms/step\n",
            "[[0.0081777]]\n",
            "WhatsApp Image 2023-11-20 at 11.15.03.jpeg is a anemia\n"
          ]
        }
      ],
      "source": [
        "import numpy as np\n",
        "\n",
        "from google.colab import files\n",
        "from tensorflow.keras.utils import load_img, img_to_array\n",
        "\n",
        "uploaded=files.upload()\n",
        "\n",
        "for fn in uploaded.keys():\n",
        "\n",
        "  # predicting images\n",
        "  path='/content/' + fn\n",
        "  img=load_img(path, target_size=(300, 300))\n",
        "\n",
        "  x=img_to_array(img)\n",
        "  x /= 255\n",
        "  x=np.expand_dims(x, axis=0)\n",
        "  images = np.vstack([x])\n",
        "\n",
        "  classes = model.predict(images, batch_size=20)\n",
        "\n",
        "  print(classes)\n",
        "\n",
        "  if classes[0] < 0.5:\n",
        "    print(fn + \" is a anemia\")\n",
        "  else:\n",
        "    print(fn + \" is a non-anemia\")"
      ]
    },
    {
      "cell_type": "code",
      "execution_count": null,
      "metadata": {
        "colab": {
          "base_uri": "https://localhost:8080/"
        },
        "id": "8_rxY4DW2DoD",
        "outputId": "03f85e94-1942-4634-ffd5-ff1e57c923fd"
      },
      "outputs": [
        {
          "name": "stdout",
          "output_type": "stream",
          "text": [
            "Class Indices: {'anemia': 0, 'non-anemia': 1}\n",
            "Class Labels: ['anemia', 'non-anemia']\n"
          ]
        }
      ],
      "source": [
        "# Assuming train_generator is your training data generator\n",
        "class_indices = train_generator.class_indices\n",
        "class_labels = list(class_indices.keys())\n",
        "\n",
        "print(\"Class Indices:\", class_indices)\n",
        "print(\"Class Labels:\", class_labels)\n"
      ]
    },
    {
      "cell_type": "code",
      "execution_count": null,
      "metadata": {
        "id": "PIyL-icG2D86"
      },
      "outputs": [],
      "source": []
    }
  ],
  "metadata": {
    "accelerator": "GPU",
    "colab": {
      "collapsed_sections": [
        "vrEc5LW7pXE9",
        "qKp8gKkOxqN8",
        "r9FFKFgGxN-U",
        "HeImImlQS9Hy",
        "e7g0jK_o59hl"
      ],
      "provenance": [],
      "authorship_tag": "ABX9TyMZLhqEd/i0PG/TJmIjzqqJ",
      "include_colab_link": true
    },
    "kernelspec": {
      "display_name": "Python 3",
      "name": "python3"
    },
    "language_info": {
      "name": "python"
    }
  },
  "nbformat": 4,
  "nbformat_minor": 0
}
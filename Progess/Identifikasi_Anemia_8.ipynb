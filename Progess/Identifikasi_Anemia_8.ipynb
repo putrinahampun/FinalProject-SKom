{
  "nbformat": 4,
  "nbformat_minor": 0,
  "metadata": {
    "colab": {
      "provenance": [],
      "authorship_tag": "ABX9TyObxEjZ96PXyODW4uOzJE91",
      "include_colab_link": true
    },
    "kernelspec": {
      "name": "python3",
      "display_name": "Python 3"
    },
    "language_info": {
      "name": "python"
    }
  },
  "cells": [
    {
      "cell_type": "markdown",
      "metadata": {
        "id": "view-in-github",
        "colab_type": "text"
      },
      "source": [
        "<a href=\"https://colab.research.google.com/github/putrinahampun/FinalProject-SKom/blob/main/Progess/Identifikasi_Anemia_8.ipynb\" target=\"_parent\"><img src=\"https://colab.research.google.com/assets/colab-badge.svg\" alt=\"Open In Colab\"/></a>"
      ]
    },
    {
      "cell_type": "markdown",
      "source": [
        "# **IDENTIFIKASI ANEMIA MELALUI CITRA KONJUNGTIVA MATA MENGGUNAKAN K-MEANS CLUSTERING DAN CONVOLUTIONAL NEURAL NETWORK**\n",
        "\n",
        "**Rumusan Masalah:**\n",
        "*Pemeriksaan anemia merupakan tindakan penting untuk mencegah resiko komplikasi dan dampak lainnya dari anemia. Pemeriksaan umumnya dilakukan secara invasif yang membutuhkan waktu dan biaya yang mahal. Teknis pemeriksaan juga menimbulkan rasa sakit sehingga banyak masyarakat yang enggan untuk melakukan pemeriksaan. Alternatif lainnya dapat menggunakan pemeriksaan secara non-invasif, yakni melalui pengamatan terhadap kepucatan warna konjungtiva mata. Namun, pengamatan manusia dapat bersifat subjektif sehingga diperlukan sebuah **sistem untuk identifikasi anemia melalui warna citra konjungtiva mata** sehingga dapat meminimalisir kesalahan persepsi terhadap warna konjungtiva mata penderita anemia.*\n",
        "\n",
        "**Tujuan Penelitian:**\n",
        "*Untuk mengidentifikasi penyakit anemia melalui citra konjungtiva mata dan memperoleh rekomendasi penanganan yang tepat, menggunakan metode **K-Means Clustering dan Convolutional Neural Network**.*\n",
        "\n",
        "**Dataset**\n",
        "Dataset merupakan data gambar konjungtiva mata penderita anemia yang telah tervalidasi melalui pengambilan secara langsung dari Klinik Bidan Br.Gultom, Kabupaten Tapanuli Utara. Untuk konjungtiva mata sehat diperoleh dari pengambilan secara langsung dengan menggunakan kamera smartphone 12 MP pada daerah Kec. Tarutung.\n",
        "\n",
        "Link dataset: \"______\"\n",
        "\n"
      ],
      "metadata": {
        "id": "VGBpAadvBJ9u"
      }
    },
    {
      "cell_type": "markdown",
      "source": [
        "# **Data Acquisition**\n",
        "Data berjumlah 320 gambar konjungtiva mata yang telah dikumpulkan, akan disimpan kedalam satu folder pada google drive. Untuk menggunakan data tersebut pada google colab, maka diperlukan proses **Load Data** . Dataset akan dibagi kedalam 2 kelompok data, yaitu data latih (train) dan data validasi (validation) menggunakan proses **Splitting Data**."
      ],
      "metadata": {
        "id": "rjCh_5hkprSY"
      }
    },
    {
      "cell_type": "markdown",
      "source": [
        "## Load Data\n",
        "Google drive akan dihubungkan dengan workspace yang digunakan pada google colab, dengan menggunakan modul *google.colab*. Dengan menghubungkan keduanya, seluruh folder pada drive dapat diakses."
      ],
      "metadata": {
        "id": "cewINvI3CNtc"
      }
    },
    {
      "cell_type": "code",
      "source": [
        "from google.colab import drive\n",
        "\n",
        "# Mount Google Drive\n",
        "drive.mount('/content/drive')"
      ],
      "metadata": {
        "colab": {
          "base_uri": "https://localhost:8080/"
        },
        "id": "-5ZbNqUzCLpJ",
        "outputId": "d2053376-3e30-4731-9d7d-754e08ccd885"
      },
      "execution_count": 1,
      "outputs": [
        {
          "output_type": "stream",
          "name": "stdout",
          "text": [
            "Drive already mounted at /content/drive; to attempt to forcibly remount, call drive.mount(\"/content/drive\", force_remount=True).\n"
          ]
        }
      ]
    },
    {
      "cell_type": "markdown",
      "source": [
        "Dataset disimpan pada folder dengan nama **TA_2024**. Didalam folder tersebut, terdapat folder **dataset** yang menyimpan 320 data gambar yang telah dikumpulkan."
      ],
      "metadata": {
        "id": "ib_BrbV5xGnE"
      }
    },
    {
      "cell_type": "code",
      "source": [
        "data = '/content/drive/MyDrive/TA_2024'\n",
        "dataset = '/content/drive/MyDrive/TA_2024/dataset'"
      ],
      "metadata": {
        "id": "N3q0k4rWD77T"
      },
      "execution_count": 8,
      "outputs": []
    },
    {
      "cell_type": "markdown",
      "source": [
        "## Splitting Data\n",
        "Dataset yang dikumpulkan akan dibagi kedalam dua kelompok data, yaitu data latih dan data validasi. Jumlah **data latih** sebanyak **80%** dari keseluruhan data, sementara **data validasi** sebanyak **20%** dari keseluruhan data."
      ],
      "metadata": {
        "id": "vK7jr8seBba_"
      }
    },
    {
      "cell_type": "code",
      "execution_count": 6,
      "metadata": {
        "id": "BsWzXY60A_GZ"
      },
      "outputs": [],
      "source": [
        "import os\n",
        "import random\n",
        "import shutil"
      ]
    },
    {
      "cell_type": "code",
      "source": [
        "train_ratio = 0.8\n",
        "validation_ration = 0.2"
      ],
      "metadata": {
        "id": "my1ODH83Dx3g"
      },
      "execution_count": 4,
      "outputs": []
    },
    {
      "cell_type": "markdown",
      "source": [
        "Kode berikut menggunakan library os untuk membentuk folder baru dengan nama **train dan validation** di dalam folder **TA_2024** untuk menyimpan data hasil splitting."
      ],
      "metadata": {
        "id": "XYDIsyufyBcs"
      }
    },
    {
      "cell_type": "code",
      "source": [
        "base_dir = data\n",
        "train = os.path.join(base_dir,'train')\n",
        "os.makedirs(train, exist_ok=True)\n",
        "\n",
        "validation = os.path.join(base_dir,'validation')\n",
        "os.makedirs(validation, exist_ok=True)"
      ],
      "metadata": {
        "id": "j0-iZujYD4FN"
      },
      "execution_count": 5,
      "outputs": []
    },
    {
      "cell_type": "markdown",
      "source": [
        "Fungsi dibawah ini digunakan untuk melakukan proses splitting. Data yang akan dibagi akan diacak, kemudian dibagi kedalam kelompok train dan validation."
      ],
      "metadata": {
        "id": "1UnONNSoyRmz"
      }
    },
    {
      "cell_type": "code",
      "source": [
        "def split_and_move_images(source_dir, target_train_dir, target_validation_dir, train_ratio):\n",
        "  files = os.listdir(source_dir)\n",
        "  random.shuffle(files)\n",
        "  split_index = int(len(files) * train_ratio)\n",
        "  train_files = files[:split_index]\n",
        "  validation_files = files[split_index:]\n",
        "\n",
        "  for filename in train_files:\n",
        "    source_path = os.path.join(source_dir, filename)\n",
        "    target_path = os.path.join(target_train_dir)\n",
        "    shutil.copy(source_path, target_path)\n",
        "\n",
        "  for filename in validation_files:\n",
        "    source_path = os.path.join(source_dir, filename)\n",
        "    target_path = os.path.join(target_validation_dir)\n",
        "    shutil.copy(source_path, target_path)"
      ],
      "metadata": {
        "id": "lABIf3VIHUq3"
      },
      "execution_count": 6,
      "outputs": []
    },
    {
      "cell_type": "code",
      "source": [
        "train = '/content/drive/MyDrive/TA_2024/train'\n",
        "validation = '/content/drive/MyDrive/TA_2024/validation'"
      ],
      "metadata": {
        "id": "HfgIF7FlL5i0"
      },
      "execution_count": 7,
      "outputs": []
    },
    {
      "cell_type": "code",
      "source": [
        "# JANGAN RUN ULANG\n",
        "split_and_move_images(dataset, train, validation, train_ratio)"
      ],
      "metadata": {
        "id": "7UEJ-CMwEVxI"
      },
      "execution_count": null,
      "outputs": []
    },
    {
      "cell_type": "markdown",
      "source": [
        "# **Image Pre-processing**\n",
        "Proses ini merupakan proses penyiapan data latih sebelum digunakan untuk segmentasi dan pemodelan. Data latih akan mengalami proses **cropping** untuk memperoleh citra konjungtiva saja. Data yang telah di cropping kemudian akan mengalami proses **resizing** untuk mengubah ukuran gambar sehingga memudahkan proses pemodelan. Tahap akhir adalah proses **labelling** untuk membagi data kedalam kelas **anemia dan non-anemia**"
      ],
      "metadata": {
        "id": "xYD4k0crqMft"
      }
    },
    {
      "cell_type": "markdown",
      "source": [
        "## Cropping & Resizing\n",
        "Data train akan melalui proses cropping dan disimpan kedalam folder **cropping**. Data hasil cropping akan digunakan untuk proses resizing dengan mengubah ukuran asli gambar kedalam ukuran tertentu, yaitu: **250 x 120** piksel."
      ],
      "metadata": {
        "id": "rt05WlF3JFRD"
      }
    },
    {
      "cell_type": "code",
      "source": [
        "base_dir = data\n",
        "cropping = os.path.join(base_dir,'cropping')\n",
        "os.makedirs(cropping, exist_ok=True)\n",
        "\n",
        "resizing = os.path.join(base_dir,'resizing')\n",
        "os.makedirs(resizing, exist_ok=True)"
      ],
      "metadata": {
        "id": "NFWG-j4NI-wE"
      },
      "execution_count": 8,
      "outputs": []
    },
    {
      "cell_type": "markdown",
      "source": [
        "Proses resizing akna dilakukan dengan library *open-cv* pada python."
      ],
      "metadata": {
        "id": "38Zy8k7RgnyD"
      }
    },
    {
      "cell_type": "code",
      "source": [
        "!pip install opencv-python"
      ],
      "metadata": {
        "id": "X0cFGMRCPYOy",
        "colab": {
          "base_uri": "https://localhost:8080/"
        },
        "outputId": "4cd06a2c-3adf-4724-8ca6-21cae6c8c936"
      },
      "execution_count": 9,
      "outputs": [
        {
          "output_type": "stream",
          "name": "stdout",
          "text": [
            "Requirement already satisfied: opencv-python in /usr/local/lib/python3.10/dist-packages (4.8.0.76)\n",
            "Requirement already satisfied: numpy>=1.21.2 in /usr/local/lib/python3.10/dist-packages (from opencv-python) (1.25.2)\n"
          ]
        }
      ]
    },
    {
      "cell_type": "markdown",
      "source": [
        "Kode dibawah digunakan untuk melakukan resizing pada salah satu gambar konjungtiva."
      ],
      "metadata": {
        "id": "LfqvGuETz-Up"
      }
    },
    {
      "cell_type": "code",
      "source": [
        "# CONTOH KODE RESIZING UNTUK SATU GAMBAR\n",
        "\n",
        "import cv2\n",
        "import numpy as np\n",
        "from matplotlib import pyplot as plt\n",
        "\n",
        "# Load gambar (gantilah dengan path gambar Anda)\n",
        "# img = cv2.imread('/content/anemia (32).jpg')\n",
        "img = cv2.imread('/content/non-anemia (14).jpg')\n",
        "# img = cv2.imread('/content/anemia (75).png')\n",
        "# img = cv2.imread('/content/anemia (134).jpg')\n",
        "# img = cv2.imread('/content/anemia (45).jpg')\n",
        "# Atur ukuran baru\n",
        "new_size = (250,120)\n",
        "\n",
        "# Hitung height dan width dari gambar\n",
        "height, width = img.shape[:2]\n",
        "\n",
        "# Hitung skala\n",
        "scale_x = new_size[0] / width\n",
        "scale_y = new_size[1] / height\n",
        "\n",
        "# Hitung new_height dan new_width\n",
        "new_height = int(height * scale_y)\n",
        "new_width = int(width * scale_x)\n",
        "\n",
        "# Resize gambar\n",
        "img_resized = cv2.resize(img, (new_width, new_height))\n",
        "\n",
        "# Tampilkan gambar asli dan gambar yang sudah diresize\n",
        "plt.subplot(1, 2, 1)\n",
        "plt.imshow(cv2.cvtColor(img, cv2.COLOR_BGR2RGB))\n",
        "plt.title('Original Image')\n",
        "\n",
        "plt.subplot(1, 2, 2)\n",
        "plt.imshow(cv2.cvtColor(img_resized, cv2.COLOR_BGR2RGB))\n",
        "plt.title('Resized Image')\n",
        "\n",
        "plt.show()"
      ],
      "metadata": {
        "colab": {
          "base_uri": "https://localhost:8080/",
          "height": 199
        },
        "id": "c0mb9PsuhEi4",
        "outputId": "a92e183c-9c4a-4d59-c1ce-c54396e2301f"
      },
      "execution_count": null,
      "outputs": [
        {
          "output_type": "display_data",
          "data": {
            "text/plain": [
              "<Figure size 640x480 with 2 Axes>"
            ],
            "image/png": "[encoded data removed]"
          },
          "metadata": {}
        }
      ]
    },
    {
      "cell_type": "markdown",
      "source": [
        "Kode berikut digunakan untuk proses resizing keseluruhan data pada folder cropping. Hasil resizing akan disimpan kedalam folder dengan nama **resizing**."
      ],
      "metadata": {
        "id": "aablXVrRh60U"
      }
    },
    {
      "cell_type": "code",
      "source": [
        "# CONTOH KODE RESIZING UNTUK BANYAK GAMBAR\n",
        "# JANGAN RUN ULANG\n",
        "import cv2\n",
        "import os\n",
        "\n",
        "# Path ke folder dengan gambar-gambar\n",
        "input_folder_path = '/content/drive/MyDrive/TA_2024/cropping'\n",
        "# Path ke folder untuk menyimpan hasil resize\n",
        "output_folder_path = '/content/drive/MyDrive/TA_2024/resizing'\n",
        "\n",
        "# Loop melalui setiap file di folder input\n",
        "for filename in os.listdir(input_folder_path):\n",
        "    if filename.endswith(('.jpg', '.jpeg', '.png')):  # Hanya proses file gambar\n",
        "        # Load gambar\n",
        "        img_path = os.path.join(input_folder_path, filename)\n",
        "        img = cv2.imread(img_path)\n",
        "\n",
        "        # Atur ukuran baru\n",
        "        new_size = (250, 120)\n",
        "\n",
        "        # Hitung height dan width dari gambar\n",
        "        height, width = img.shape[:2]\n",
        "\n",
        "        # Hitung skala\n",
        "        scale_x = new_size[0] / width\n",
        "        scale_y = new_size[1] / height\n",
        "\n",
        "        # Hitung new_height dan new_width\n",
        "        new_height = int(height * scale_y)\n",
        "        new_width = int(width * scale_x)\n",
        "\n",
        "        # Resize gambar\n",
        "        img_resized = cv2.resize(img, (new_width, new_height))\n",
        "\n",
        "        # Simpan hasil resize ke folder output\n",
        "        output_path = os.path.join(output_folder_path, f\"resized_{filename}\")\n",
        "        cv2.imwrite(output_path, img_resized)\n",
        "\n",
        "print(\"Resize selesai dan hasil disimpan di\", output_folder_path)"
      ],
      "metadata": {
        "colab": {
          "base_uri": "https://localhost:8080/"
        },
        "id": "007SjRXzhqrO",
        "outputId": "f43b632e-da60-4d5c-df37-2edf4de5debe"
      },
      "execution_count": null,
      "outputs": [
        {
          "output_type": "stream",
          "name": "stdout",
          "text": [
            "Resize selesai dan hasil disimpan di /content/drive/MyDrive/TA_2024/resizing\n"
          ]
        }
      ]
    },
    {
      "cell_type": "markdown",
      "source": [
        "Kode dibawah untuk resizing data validasi."
      ],
      "metadata": {
        "id": "5_GcEiLRltAT"
      }
    },
    {
      "cell_type": "code",
      "source": [
        "# RESIZING UNTUK DATA VALIDATION\n",
        "# JANGAN RUN ULANG\n",
        "import cv2\n",
        "import os\n",
        "\n",
        "# Path ke folder dengan gambar-gambar\n",
        "input_folder_path = '/content/drive/MyDrive/TA_2024/validation_r'\n",
        "# Path ke folder untuk menyimpan hasil resize\n",
        "output_folder_path = '/content/drive/MyDrive/TA_2024/validation'\n",
        "\n",
        "# Loop melalui setiap file di folder input\n",
        "for filename in os.listdir(input_folder_path):\n",
        "    if filename.endswith(('.jpg', '.jpeg', '.png')):  # Hanya proses file gambar\n",
        "        # Load gambar\n",
        "        img_path = os.path.join(input_folder_path, filename)\n",
        "        img = cv2.imread(img_path)\n",
        "\n",
        "        # Atur ukuran baru\n",
        "        new_size = (250, 120)\n",
        "\n",
        "        # Hitung height dan width dari gambar\n",
        "        height, width = img.shape[:2]\n",
        "\n",
        "        # Hitung skala\n",
        "        scale_x = new_size[0] / width\n",
        "        scale_y = new_size[1] / height\n",
        "\n",
        "        # Hitung new_height dan new_width\n",
        "        new_height = int(height * scale_y)\n",
        "        new_width = int(width * scale_x)\n",
        "\n",
        "        # Resize gambar\n",
        "        img_resized = cv2.resize(img, (new_width, new_height))\n",
        "\n",
        "        # Simpan hasil resize ke folder output\n",
        "        output_path = os.path.join(output_folder_path, f\"resized_{filename}\")\n",
        "        cv2.imwrite(output_path, img_resized)\n",
        "\n",
        "print(\"Resize selesai dan hasil disimpan di\", output_folder_path)\n"
      ],
      "metadata": {
        "id": "vI9R9odCizcv",
        "colab": {
          "base_uri": "https://localhost:8080/"
        },
        "outputId": "5222a2e5-4ad9-4432-8cf4-1c85ec290e15"
      },
      "execution_count": null,
      "outputs": [
        {
          "output_type": "stream",
          "name": "stdout",
          "text": [
            "Resize selesai dan hasil disimpan di /content/drive/MyDrive/TA_2024/validation\n"
          ]
        }
      ]
    },
    {
      "cell_type": "markdown",
      "source": [
        "## Labelling\n",
        "Tahap ini akan menggunakan library *os* untuk membagi data kedalam dua kelas, yaitu **anemia dan non-anemia**. Folder anemia dan non-anemia akan dibentuk dalam folder **labelling**."
      ],
      "metadata": {
        "id": "D_-aPQkYjEAu"
      }
    },
    {
      "cell_type": "code",
      "source": [
        "base_dir = data\n",
        "labelling = os.path.join(base_dir,'labelling')\n",
        "os.makedirs(labelling, exist_ok=True)\n",
        "\n",
        "anemia = os.path.join(labelling,'anemia')\n",
        "os.makedirs(anemia, exist_ok=True)\n",
        "\n",
        "non_anemia = os.path.join(labelling,'non_anemia')\n",
        "os.makedirs(non_anemia, exist_ok=True)"
      ],
      "metadata": {
        "id": "lyJAj8u_iUx8"
      },
      "execution_count": 10,
      "outputs": []
    },
    {
      "cell_type": "code",
      "source": [
        "def labelling(source_dir, target_anemia_dir, target_nonanemia_dir, ratio):\n",
        "  files = os.listdir(source_dir)\n",
        "  split_index = int(len(files) * ratio)\n",
        "  anemia_files = files[:split_index]\n",
        "  non_anemia_files = files[split_index:]\n",
        "\n",
        "  for filename in anemia_files:\n",
        "    source_path = os.path.join(source_dir, filename)\n",
        "    target_path = os.path.join(target_anemia_dir)\n",
        "    shutil.copy(source_path, target_path)\n",
        "\n",
        "  for filename in non_anemia_files:\n",
        "    source_path = os.path.join(source_dir, filename)\n",
        "    target_path = os.path.join(target_nonanemia_dir)\n",
        "    shutil.copy(source_path, target_path)"
      ],
      "metadata": {
        "id": "X9q8MuwSl0qu"
      },
      "execution_count": 11,
      "outputs": []
    },
    {
      "cell_type": "code",
      "source": [
        "# JANGAN RUN ULANG\n",
        "ratio = 0.5\n",
        "labelling(resizing, anemia, non_anemia, ratio)"
      ],
      "metadata": {
        "id": "74rZaT5MKWZx"
      },
      "execution_count": null,
      "outputs": []
    },
    {
      "cell_type": "markdown",
      "source": [
        "# **Image Segmentation**\n",
        "Sebelum dilakukan proses segmentasi dengan algoritma **K-Means Clustering**, dilakukan dua proses dengan teknik **Equalization dan Unsharp Masking Filter**. Hasil kedua proses akan digunakan untuk mempermudah K-Means dalam melakukan segmnetasi. Hasil segmentasi berupa area piksel yang memiliki warna channel merah (red channel), untuk memperoleh objek konjungtiva mata, yang memiliki warna dasar merah, pada citra."
      ],
      "metadata": {
        "id": "umpDn1u7quxa"
      }
    },
    {
      "cell_type": "code",
      "source": [
        "import os\n",
        "import cv2\n",
        "import numpy as np\n",
        "from google.colab import files"
      ],
      "metadata": {
        "id": "Q4f6ba9RsV21"
      },
      "execution_count": 12,
      "outputs": []
    },
    {
      "cell_type": "markdown",
      "source": [
        "## Equalization\n",
        "Pada teknik ini, digunakan fungsi **equalixeHist()** untuk meningkatkan distribusi intensitas piksel dalam gambar. Fungsi bekerja terhadap nilai intensitas gambar sehingga format citra perlu diubah. Format asli gambar **RGB (Red, Green, Blue)** akan diubah kedalam format HSV **(Hue, Saturation,Value (*Intensity*))**  \n"
      ],
      "metadata": {
        "id": "h_v_Bs0_2LUp"
      }
    },
    {
      "cell_type": "code",
      "source": [
        "def equalize_rgb_image(image):\n",
        "    hsi_image = cv2.cvtColor(image, cv2.COLOR_BGR2HSV)\n",
        "    hsi_image[:, :, 2] = cv2.equalizeHist(hsi_image[:, :, 2])\n",
        "    equalized_image = cv2.cvtColor(hsi_image, cv2.COLOR_HSV2BGR)\n",
        "    return equalized_image"
      ],
      "metadata": {
        "id": "3Jym0sk6scUx"
      },
      "execution_count": 13,
      "outputs": []
    },
    {
      "cell_type": "markdown",
      "source": [
        "## Unsharp Masking Filter\n",
        "Unsharp Masking Filter merupakan salah satu teknik pengolahan gambar yang bertujuan untuk meningkatkan ketajaman tepi dan memperjelas struktur detail pada gambar. Teknik ini menggunakan **filter low-pass** pada gaussian blur melalui fungsi **GaussianBlur()**."
      ],
      "metadata": {
        "id": "67NBCBzt28Wu"
      }
    },
    {
      "cell_type": "code",
      "source": [
        "def apply_unsharp_mask(image):\n",
        "    blurred = cv2.GaussianBlur(image, (5, 5), 0)\n",
        "    unsharp_mask = cv2.addWeighted(image, 1.5, blurred, -0.5, 0)\n",
        "    return unsharp_mask"
      ],
      "metadata": {
        "id": "Z7bTnD-LsoSs"
      },
      "execution_count": 14,
      "outputs": []
    },
    {
      "cell_type": "markdown",
      "source": [
        "## K-Means Clustering & Red Channel\n",
        "K-Means Clustering digunakan untuk segmentasi warna pada citra, pada penelitian ini segmentasi akan dilakukan pada saluran merah (**red channel**) citra. Jumlah kluster warna yang digunakan adalah 2 (**k=2**). Hasil segmentasi berupa **maska biner** (citra dengan nilai piksel biner 0 & 1 (hitam-putih)) untuk menandai area konjungtiva yang akan diambil."
      ],
      "metadata": {
        "id": "RLFw0Oap3Rzn"
      }
    },
    {
      "cell_type": "code",
      "source": [
        "def apply_kmeans_clustering_red(image, k=2):\n",
        "\n",
        "    red_channel = image[:, :, 2]\n",
        "    red_pixels = red_channel.reshape((-1, 1))\n",
        "    red_pixels = np.float32(red_pixels)\n",
        "\n",
        "    criteria = (cv2.TERM_CRITERIA_EPS + cv2.TERM_CRITERIA_MAX_ITER, 100, 0.2)\n",
        "    _, labels, centers = cv2.kmeans(red_pixels, k, None, criteria, 10, cv2.KMEANS_RANDOM_CENTERS)\n",
        "\n",
        "    centers = np.uint8(centers)\n",
        "\n",
        "    segmented_red_channel = centers[labels.flatten()]\n",
        "    segmented_red_channel = segmented_red_channel.reshape(red_channel.shape)\n",
        "\n",
        "    _, binary_mask = cv2.threshold(segmented_red_channel, 0, 255, cv2.THRESH_BINARY + cv2.THRESH_OTSU)\n",
        "\n",
        "    binary_mask = cv2.morphologyEx(binary_mask, cv2.MORPH_OPEN, np.ones((5, 5), np.uint8))\n",
        "    binary_mask = cv2.morphologyEx(binary_mask, cv2.MORPH_CLOSE, np.ones((15, 15), np.uint8))\n",
        "\n",
        "    return binary_mask"
      ],
      "metadata": {
        "id": "DdP-c9TRss4o"
      },
      "execution_count": 15,
      "outputs": []
    },
    {
      "cell_type": "markdown",
      "source": [
        "Mengaplikasikan operasi bitwise AND antara gambar asli (original_image) dan masker biner (binary_mask) untuk mengekstrak piksel dari gambar asli yang sesuai dengan area yang diidentifikasi oleh masker biner."
      ],
      "metadata": {
        "id": "-SpCIyFoWGVH"
      }
    },
    {
      "cell_type": "code",
      "source": [
        "def apply_convolution(original_image, binary_mask):\n",
        "    conjunctiva_pixels = cv2.bitwise_and(original_image, original_image, mask=binary_mask)\n",
        "    return conjunctiva_pixels"
      ],
      "metadata": {
        "id": "_-gw7TohswkI"
      },
      "execution_count": 16,
      "outputs": []
    },
    {
      "cell_type": "markdown",
      "source": [
        "## Segmentation\n",
        "Kode dibawah ini digunakan untuk implementasi keseluruhan fungsi yang telah dibuat sebelumnya. Data yang akan disegmentasi, diambil dari folder **labelling** dan akan disimpan ke folder **segmented**."
      ],
      "metadata": {
        "id": "7fY4QmtIXbiE"
      }
    },
    {
      "cell_type": "code",
      "source": [
        "def process_images(image_directory, output_directory):\n",
        "    for category in os.listdir(image_directory):\n",
        "        category_path = os.path.join(image_directory, category)\n",
        "        if os.path.isdir(category_path):\n",
        "            output_category_path = os.path.join(output_directory, category)\n",
        "            os.makedirs(output_category_path, exist_ok=True)\n",
        "\n",
        "            for file_name in os.listdir(category_path):\n",
        "                if file_name.lower().endswith(('.jpg', '.jpeg', '.png')):\n",
        "                    image_path = os.path.join(category_path, file_name)\n",
        "\n",
        "                    # Read the image\n",
        "                    original_image = cv2.imread(image_path)\n",
        "\n",
        "                    # Step 1: Equalization of the image in RGB\n",
        "                    equalized_image = equalize_rgb_image(original_image)\n",
        "\n",
        "                    # Step 2: Filter Unsharp Masking\n",
        "                    unsharp_mask_image = apply_unsharp_mask(equalized_image)\n",
        "\n",
        "                    # Step 3: Red Channel Mask\n",
        "                    red_channel_mask = apply_kmeans_clustering_red(unsharp_mask_image)\n",
        "\n",
        "                    # Step 4: Convolution Original Image - Red Channel Mask\n",
        "                    conjunctiva_pixels = apply_convolution(original_image, red_channel_mask)\n",
        "\n",
        "                    # Save the segmented image\n",
        "                    output_file_path = os.path.join(output_category_path, file_name)\n",
        "                    cv2.imwrite(output_file_path, conjunctiva_pixels)"
      ],
      "metadata": {
        "id": "KQa5jtPgpF3k"
      },
      "execution_count": 17,
      "outputs": []
    },
    {
      "cell_type": "code",
      "source": [
        "data_segmented = os.path.join(data, 'segmented')\n",
        "os.makedirs(data_segmented, exist_ok=True)"
      ],
      "metadata": {
        "id": "35Irk5PqWrp4"
      },
      "execution_count": 18,
      "outputs": []
    },
    {
      "cell_type": "code",
      "source": [
        "# Specify the directories\n",
        "input_directory = '/content/drive/MyDrive/TA_2024/labelling'\n",
        "output_directory = '/content/drive/MyDrive/TA_2024/segmented'"
      ],
      "metadata": {
        "id": "_uj4t6cAs4kE"
      },
      "execution_count": 19,
      "outputs": []
    },
    {
      "cell_type": "code",
      "source": [
        "# Process the images and save the segmented results\n",
        "# JANGAN RUN ULANG\n",
        "process_images(input_directory, output_directory)"
      ],
      "metadata": {
        "id": "hsaeLUK3s6c5"
      },
      "execution_count": null,
      "outputs": []
    },
    {
      "cell_type": "markdown",
      "source": [
        "# **Image Identification**\n",
        "Pada tahap ini dilakukan proses modelling dengan menggunakan algoritma **Convolutional Neural Network (CNN)**. Data latih yang telah disegmentasi akan digunakan untuk melatih model CNN. Data validasi bertujuan untuk"
      ],
      "metadata": {
        "id": "76yf-qi5Xwz9"
      }
    },
    {
      "cell_type": "code",
      "source": [
        "train_dir = '/content/drive/MyDrive/TA_2024/segmented'\n",
        "validation_dir = '/content/drive/MyDrive/TA_2024/validation'"
      ],
      "metadata": {
        "id": "ft4LHEaQRV1m"
      },
      "execution_count": 2,
      "outputs": []
    },
    {
      "cell_type": "code",
      "source": [
        "import numpy as np\n",
        "import tensorflow as tf\n",
        "\n",
        "np.random.seed(42)\n",
        "tf.random.set_seed(42)"
      ],
      "metadata": {
        "id": "jPey5rQhfiUf"
      },
      "execution_count": 3,
      "outputs": []
    },
    {
      "cell_type": "markdown",
      "source": [
        "## Callbacks"
      ],
      "metadata": {
        "id": "2LWix8Mzlbb7"
      }
    },
    {
      "cell_type": "code",
      "source": [
        "from tensorflow.keras.callbacks import ModelCheckpoint, EarlyStopping, ReduceLROnPlateau"
      ],
      "metadata": {
        "id": "djImPaVblXse"
      },
      "execution_count": 4,
      "outputs": []
    },
    {
      "cell_type": "code",
      "source": [
        "checkpoint_dir = os.path.join(data,'checkpoints')\n",
        "os.makedirs(checkpoint_dir, exist_ok=True)\n",
        "checkpoint_filename = \"model_checkpoint_epoch_{epoch:02d}.h5\"\n",
        "checkpoint_filepath = os.path.join(checkpoint_dir, checkpoint_filename)"
      ],
      "metadata": {
        "id": "PlBgzLGYlh3c"
      },
      "execution_count": 9,
      "outputs": []
    },
    {
      "cell_type": "code",
      "source": [
        "checkpoint_callback = ModelCheckpoint(\n",
        "    filepath=checkpoint_filepath,\n",
        "    monitor='val_loss',\n",
        "    save_best_only=True,\n",
        "    mode='min',\n",
        "    verbose=1\n",
        ")"
      ],
      "metadata": {
        "id": "06rafWT6l0Ju"
      },
      "execution_count": 10,
      "outputs": []
    },
    {
      "cell_type": "code",
      "source": [
        "early_stopping_callback = EarlyStopping(\n",
        "    monitor='val_loss',\n",
        "    patience= 3,\n",
        "    mode='min',\n",
        "    verbose= 1\n",
        ")"
      ],
      "metadata": {
        "id": "G97WjsX8nO0p"
      },
      "execution_count": 11,
      "outputs": []
    },
    {
      "cell_type": "code",
      "source": [
        "reduce_lr_callback = ReduceLROnPlateau(\n",
        "    monitor='val_loss',\n",
        "    factor= 0.1,\n",
        "    patience= 3,\n",
        "    mode='min',\n",
        "    verbose= 1\n",
        ")"
      ],
      "metadata": {
        "id": "2qZchQ4xnSOC"
      },
      "execution_count": 12,
      "outputs": []
    },
    {
      "cell_type": "markdown",
      "source": [
        "## Modelling"
      ],
      "metadata": {
        "id": "QngVqg88ngRU"
      }
    },
    {
      "cell_type": "code",
      "source": [
        "from tensorflow.keras.optimizers import Adam\n",
        "from tensorflow.keras.preprocessing.image import ImageDataGenerator"
      ],
      "metadata": {
        "id": "-JF_anemRCKU"
      },
      "execution_count": 13,
      "outputs": []
    },
    {
      "cell_type": "code",
      "source": [
        "train_datagen = ImageDataGenerator(  rescale= 1./255,\n",
        "                                     horizontal_flip = True,\n",
        "                                     rotation_range= 45,\n",
        "                                     brightness_range=[0.8, 1.8]\n",
        "                                  )\n",
        "\n",
        "validation_datagen = ImageDataGenerator( rescale= 1./255 )\n",
        "\n",
        "train_generator = train_datagen.flow_from_directory(  train_dir,\n",
        "                                                      target_size=(250, 120),\n",
        "                                                      batch_size= 10,\n",
        "                                                      class_mode='binary' )\n",
        "\n",
        "validation_generator = validation_datagen.flow_from_directory(   validation_dir,\n",
        "                                                                 target_size=(250, 120),\n",
        "                                                                 batch_size= 8,\n",
        "                                                                 class_mode='binary' )"
      ],
      "metadata": {
        "colab": {
          "base_uri": "https://localhost:8080/"
        },
        "id": "-Foh_JNmRRxU",
        "outputId": "69f16953-6e94-46dc-bd34-894b1c0689fe"
      },
      "execution_count": 14,
      "outputs": [
        {
          "output_type": "stream",
          "name": "stdout",
          "text": [
            "Found 320 images belonging to 2 classes.\n",
            "Found 80 images belonging to 2 classes.\n"
          ]
        }
      ]
    },
    {
      "cell_type": "code",
      "source": [
        "def create_model():\n",
        "\n",
        "  model = tf.keras.models.Sequential([\n",
        "\n",
        "      tf.keras.layers.Conv2D(32, (3,3), activation='relu', input_shape=(250,120,3)),\n",
        "      tf.keras.layers.MaxPooling2D(2, 2),\n",
        "\n",
        "      tf.keras.layers.Conv2D(64, (3,3), activation='relu'),\n",
        "      tf.keras.layers.MaxPooling2D(2,2),\n",
        "\n",
        "      tf.keras.layers.Conv2D(128, (3,3), activation='relu'),\n",
        "      tf.keras.layers.MaxPooling2D(2,2),\n",
        "\n",
        "      # tf.keras.layers.Conv2D(256, (3,3), activation='relu'), #penambahan layer\n",
        "      # tf.keras.layers.MaxPooling2D(2,2),\n",
        "\n",
        "      tf.keras.layers.Flatten(),\n",
        "      tf.keras.layers.Dense(256, activation='relu'), #penambahan layer\n",
        "      tf.keras.layers.Dense(128, activation='relu'),\n",
        "      tf.keras.layers.Dense(1, activation='sigmoid')\n",
        "  ])\n",
        "\n",
        "  model.compile( loss='binary_crossentropy',\n",
        "                 optimizer=Adam(learning_rate=1e-3),\n",
        "                 metrics=['accuracy'])\n",
        "\n",
        "  return model"
      ],
      "metadata": {
        "id": "EiuGEjqxSIiU"
      },
      "execution_count": 15,
      "outputs": []
    },
    {
      "cell_type": "code",
      "source": [
        "epochs = 35\n",
        "model = create_model()\n",
        "\n",
        "history = model.fit( train_generator,\n",
        "                     steps_per_epoch = 32,\n",
        "                     epochs= epochs,\n",
        "                     validation_data = validation_generator,\n",
        "                     validation_steps = 10,\n",
        "                     callbacks= [checkpoint_callback, reduce_lr_callback] )"
      ],
      "metadata": {
        "colab": {
          "base_uri": "https://localhost:8080/"
        },
        "id": "OqhwEtrMr7gC",
        "outputId": "120bf5f4-bcb5-4e16-e271-2d12364a3477"
      },
      "execution_count": 16,
      "outputs": [
        {
          "output_type": "stream",
          "name": "stdout",
          "text": [
            "Epoch 1/35\n",
            "32/32 [==============================] - ETA: 0s - loss: 0.7063 - accuracy: 0.5625\n",
            "Epoch 1: val_loss improved from inf to 0.69310, saving model to /content/drive/MyDrive/TA_2024/checkpoints/model_checkpoint_epoch_01.h5\n"
          ]
        },
        {
          "output_type": "stream",
          "name": "stderr",
          "text": [
            "/usr/local/lib/python3.10/dist-packages/keras/src/engine/training.py:3103: UserWarning: You are saving your model as an HDF5 file via `model.save()`. This file format is considered legacy. We recommend using instead the native Keras format, e.g. `model.save('my_model.keras')`.\n",
            "  saving_api.save_model(\n"
          ]
        },
        {
          "output_type": "stream",
          "name": "stdout",
          "text": [
            "\b\b\b\b\b\b\b\b\b\b\b\b\b\b\b\b\b\b\b\b\b\b\b\b\b\b\b\b\b\b\b\b\b\b\b\b\b\b\b\b\b\b\b\b\b\b\b\b\b\b\b\b\b\b\b\b\b\b\b\b\b\b\b\b\b\b\b\b\b\b\b\b\b\b\b\b\b\b\b\b\b\b\r32/32 [==============================] - 31s 874ms/step - loss: 0.7063 - accuracy: 0.5625 - val_loss: 0.6931 - val_accuracy: 0.5000 - lr: 0.0010\n",
            "Epoch 2/35\n",
            "32/32 [==============================] - ETA: 0s - loss: 0.6449 - accuracy: 0.7156\n",
            "Epoch 2: val_loss improved from 0.69310 to 0.65287, saving model to /content/drive/MyDrive/TA_2024/checkpoints/model_checkpoint_epoch_02.h5\n",
            "32/32 [==============================] - 28s 871ms/step - loss: 0.6449 - accuracy: 0.7156 - val_loss: 0.6529 - val_accuracy: 0.4875 - lr: 0.0010\n",
            "Epoch 3/35\n",
            "32/32 [==============================] - ETA: 0s - loss: 0.4586 - accuracy: 0.8000\n",
            "Epoch 3: val_loss improved from 0.65287 to 0.55334, saving model to /content/drive/MyDrive/TA_2024/checkpoints/model_checkpoint_epoch_03.h5\n",
            "32/32 [==============================] - 28s 864ms/step - loss: 0.4586 - accuracy: 0.8000 - val_loss: 0.5533 - val_accuracy: 0.7375 - lr: 0.0010\n",
            "Epoch 4/35\n",
            "32/32 [==============================] - ETA: 0s - loss: 0.3346 - accuracy: 0.8687\n",
            "Epoch 4: val_loss did not improve from 0.55334\n",
            "32/32 [==============================] - 27s 832ms/step - loss: 0.3346 - accuracy: 0.8687 - val_loss: 0.5884 - val_accuracy: 0.7750 - lr: 0.0010\n",
            "Epoch 5/35\n",
            "32/32 [==============================] - ETA: 0s - loss: 0.2889 - accuracy: 0.8906\n",
            "Epoch 5: val_loss did not improve from 0.55334\n",
            "32/32 [==============================] - 25s 772ms/step - loss: 0.2889 - accuracy: 0.8906 - val_loss: 0.8299 - val_accuracy: 0.6375 - lr: 0.0010\n",
            "Epoch 6/35\n",
            "32/32 [==============================] - ETA: 0s - loss: 0.2667 - accuracy: 0.8938\n",
            "Epoch 6: val_loss improved from 0.55334 to 0.52376, saving model to /content/drive/MyDrive/TA_2024/checkpoints/model_checkpoint_epoch_06.h5\n",
            "32/32 [==============================] - 26s 793ms/step - loss: 0.2667 - accuracy: 0.8938 - val_loss: 0.5238 - val_accuracy: 0.7750 - lr: 0.0010\n",
            "Epoch 7/35\n",
            "32/32 [==============================] - ETA: 0s - loss: 0.2697 - accuracy: 0.9094\n",
            "Epoch 7: val_loss improved from 0.52376 to 0.51719, saving model to /content/drive/MyDrive/TA_2024/checkpoints/model_checkpoint_epoch_07.h5\n",
            "32/32 [==============================] - 27s 840ms/step - loss: 0.2697 - accuracy: 0.9094 - val_loss: 0.5172 - val_accuracy: 0.7625 - lr: 0.0010\n",
            "Epoch 8/35\n",
            "32/32 [==============================] - ETA: 0s - loss: 0.2439 - accuracy: 0.9094\n",
            "Epoch 8: val_loss did not improve from 0.51719\n",
            "32/32 [==============================] - 26s 812ms/step - loss: 0.2439 - accuracy: 0.9094 - val_loss: 0.6221 - val_accuracy: 0.7250 - lr: 0.0010\n",
            "Epoch 9/35\n",
            "32/32 [==============================] - ETA: 0s - loss: 0.2351 - accuracy: 0.9125\n",
            "Epoch 9: val_loss did not improve from 0.51719\n",
            "32/32 [==============================] - 25s 793ms/step - loss: 0.2351 - accuracy: 0.9125 - val_loss: 0.6266 - val_accuracy: 0.7250 - lr: 0.0010\n",
            "Epoch 10/35\n",
            "32/32 [==============================] - ETA: 0s - loss: 0.2952 - accuracy: 0.8875\n",
            "Epoch 10: val_loss did not improve from 0.51719\n",
            "\n",
            "Epoch 10: ReduceLROnPlateau reducing learning rate to 0.00010000000474974513.\n",
            "32/32 [==============================] - 26s 801ms/step - loss: 0.2952 - accuracy: 0.8875 - val_loss: 0.5474 - val_accuracy: 0.7500 - lr: 0.0010\n",
            "Epoch 11/35\n",
            "32/32 [==============================] - ETA: 0s - loss: 0.2327 - accuracy: 0.9219\n",
            "Epoch 11: val_loss improved from 0.51719 to 0.47184, saving model to /content/drive/MyDrive/TA_2024/checkpoints/model_checkpoint_epoch_11.h5\n",
            "32/32 [==============================] - 26s 809ms/step - loss: 0.2327 - accuracy: 0.9219 - val_loss: 0.4718 - val_accuracy: 0.7875 - lr: 1.0000e-04\n",
            "Epoch 12/35\n",
            "32/32 [==============================] - ETA: 0s - loss: 0.1936 - accuracy: 0.9312\n",
            "Epoch 12: val_loss improved from 0.47184 to 0.46085, saving model to /content/drive/MyDrive/TA_2024/checkpoints/model_checkpoint_epoch_12.h5\n",
            "32/32 [==============================] - 26s 809ms/step - loss: 0.1936 - accuracy: 0.9312 - val_loss: 0.4608 - val_accuracy: 0.7875 - lr: 1.0000e-04\n",
            "Epoch 13/35\n",
            "32/32 [==============================] - ETA: 0s - loss: 0.1882 - accuracy: 0.9438\n",
            "Epoch 13: val_loss improved from 0.46085 to 0.46009, saving model to /content/drive/MyDrive/TA_2024/checkpoints/model_checkpoint_epoch_13.h5\n",
            "32/32 [==============================] - 27s 844ms/step - loss: 0.1882 - accuracy: 0.9438 - val_loss: 0.4601 - val_accuracy: 0.7750 - lr: 1.0000e-04\n",
            "Epoch 14/35\n",
            "32/32 [==============================] - ETA: 0s - loss: 0.1681 - accuracy: 0.9469\n",
            "Epoch 14: val_loss did not improve from 0.46009\n",
            "32/32 [==============================] - 26s 800ms/step - loss: 0.1681 - accuracy: 0.9469 - val_loss: 0.4622 - val_accuracy: 0.7750 - lr: 1.0000e-04\n",
            "Epoch 15/35\n",
            "32/32 [==============================] - ETA: 0s - loss: 0.1798 - accuracy: 0.9500\n",
            "Epoch 15: val_loss improved from 0.46009 to 0.45393, saving model to /content/drive/MyDrive/TA_2024/checkpoints/model_checkpoint_epoch_15.h5\n",
            "32/32 [==============================] - 26s 819ms/step - loss: 0.1798 - accuracy: 0.9500 - val_loss: 0.4539 - val_accuracy: 0.7750 - lr: 1.0000e-04\n",
            "Epoch 16/35\n",
            "32/32 [==============================] - ETA: 0s - loss: 0.1546 - accuracy: 0.9375\n",
            "Epoch 16: val_loss improved from 0.45393 to 0.43036, saving model to /content/drive/MyDrive/TA_2024/checkpoints/model_checkpoint_epoch_16.h5\n",
            "32/32 [==============================] - 27s 840ms/step - loss: 0.1546 - accuracy: 0.9375 - val_loss: 0.4304 - val_accuracy: 0.7875 - lr: 1.0000e-04\n",
            "Epoch 17/35\n",
            "32/32 [==============================] - ETA: 0s - loss: 0.1620 - accuracy: 0.9500\n",
            "Epoch 17: val_loss did not improve from 0.43036\n",
            "32/32 [==============================] - 27s 834ms/step - loss: 0.1620 - accuracy: 0.9500 - val_loss: 0.4604 - val_accuracy: 0.7750 - lr: 1.0000e-04\n",
            "Epoch 18/35\n",
            "32/32 [==============================] - ETA: 0s - loss: 0.1707 - accuracy: 0.9344\n",
            "Epoch 18: val_loss did not improve from 0.43036\n",
            "32/32 [==============================] - 26s 803ms/step - loss: 0.1707 - accuracy: 0.9344 - val_loss: 0.4763 - val_accuracy: 0.7875 - lr: 1.0000e-04\n",
            "Epoch 19/35\n",
            "32/32 [==============================] - ETA: 0s - loss: 0.1565 - accuracy: 0.9469\n",
            "Epoch 19: val_loss did not improve from 0.43036\n",
            "\n",
            "Epoch 19: ReduceLROnPlateau reducing learning rate to 1.0000000474974514e-05.\n",
            "32/32 [==============================] - 26s 816ms/step - loss: 0.1565 - accuracy: 0.9469 - val_loss: 0.4483 - val_accuracy: 0.7875 - lr: 1.0000e-04\n",
            "Epoch 20/35\n",
            "32/32 [==============================] - ETA: 0s - loss: 0.1689 - accuracy: 0.9219\n",
            "Epoch 20: val_loss did not improve from 0.43036\n",
            "32/32 [==============================] - 25s 791ms/step - loss: 0.1689 - accuracy: 0.9219 - val_loss: 0.4500 - val_accuracy: 0.8000 - lr: 1.0000e-05\n",
            "Epoch 21/35\n",
            "32/32 [==============================] - ETA: 0s - loss: 0.1654 - accuracy: 0.9406\n",
            "Epoch 21: val_loss did not improve from 0.43036\n",
            "32/32 [==============================] - 26s 801ms/step - loss: 0.1654 - accuracy: 0.9406 - val_loss: 0.4511 - val_accuracy: 0.8000 - lr: 1.0000e-05\n",
            "Epoch 22/35\n",
            "32/32 [==============================] - ETA: 0s - loss: 0.1693 - accuracy: 0.9312\n",
            "Epoch 22: val_loss did not improve from 0.43036\n",
            "\n",
            "Epoch 22: ReduceLROnPlateau reducing learning rate to 1.0000000656873453e-06.\n",
            "32/32 [==============================] - 26s 825ms/step - loss: 0.1693 - accuracy: 0.9312 - val_loss: 0.4502 - val_accuracy: 0.7875 - lr: 1.0000e-05\n",
            "Epoch 23/35\n",
            "32/32 [==============================] - ETA: 0s - loss: 0.1618 - accuracy: 0.9469\n",
            "Epoch 23: val_loss did not improve from 0.43036\n",
            "32/32 [==============================] - 26s 804ms/step - loss: 0.1618 - accuracy: 0.9469 - val_loss: 0.4508 - val_accuracy: 0.8000 - lr: 1.0000e-06\n",
            "Epoch 24/35\n",
            "32/32 [==============================] - ETA: 0s - loss: 0.1361 - accuracy: 0.9406\n",
            "Epoch 24: val_loss did not improve from 0.43036\n",
            "32/32 [==============================] - 30s 941ms/step - loss: 0.1361 - accuracy: 0.9406 - val_loss: 0.4516 - val_accuracy: 0.8000 - lr: 1.0000e-06\n",
            "Epoch 25/35\n",
            "32/32 [==============================] - ETA: 0s - loss: 0.1579 - accuracy: 0.9375\n",
            "Epoch 25: val_loss did not improve from 0.43036\n",
            "\n",
            "Epoch 25: ReduceLROnPlateau reducing learning rate to 1.0000001111620805e-07.\n",
            "32/32 [==============================] - 26s 818ms/step - loss: 0.1579 - accuracy: 0.9375 - val_loss: 0.4518 - val_accuracy: 0.8000 - lr: 1.0000e-06\n",
            "Epoch 26/35\n",
            "32/32 [==============================] - ETA: 0s - loss: 0.1450 - accuracy: 0.9438\n",
            "Epoch 26: val_loss did not improve from 0.43036\n",
            "32/32 [==============================] - 26s 806ms/step - loss: 0.1450 - accuracy: 0.9438 - val_loss: 0.4518 - val_accuracy: 0.8000 - lr: 1.0000e-07\n",
            "Epoch 27/35\n",
            "32/32 [==============================] - ETA: 0s - loss: 0.1361 - accuracy: 0.9625\n",
            "Epoch 27: val_loss did not improve from 0.43036\n",
            "32/32 [==============================] - 26s 818ms/step - loss: 0.1361 - accuracy: 0.9625 - val_loss: 0.4520 - val_accuracy: 0.7875 - lr: 1.0000e-07\n",
            "Epoch 28/35\n",
            "32/32 [==============================] - ETA: 0s - loss: 0.1356 - accuracy: 0.9563\n",
            "Epoch 28: val_loss did not improve from 0.43036\n",
            "\n",
            "Epoch 28: ReduceLROnPlateau reducing learning rate to 1.000000082740371e-08.\n",
            "32/32 [==============================] - 25s 790ms/step - loss: 0.1356 - accuracy: 0.9563 - val_loss: 0.4520 - val_accuracy: 0.7875 - lr: 1.0000e-07\n",
            "Epoch 29/35\n",
            "32/32 [==============================] - ETA: 0s - loss: 0.1532 - accuracy: 0.9469\n",
            "Epoch 29: val_loss did not improve from 0.43036\n",
            "32/32 [==============================] - 26s 800ms/step - loss: 0.1532 - accuracy: 0.9469 - val_loss: 0.4520 - val_accuracy: 0.7875 - lr: 1.0000e-08\n",
            "Epoch 30/35\n",
            "32/32 [==============================] - ETA: 0s - loss: 0.1886 - accuracy: 0.9250\n",
            "Epoch 30: val_loss did not improve from 0.43036\n",
            "32/32 [==============================] - 26s 795ms/step - loss: 0.1886 - accuracy: 0.9250 - val_loss: 0.4520 - val_accuracy: 0.7875 - lr: 1.0000e-08\n",
            "Epoch 31/35\n",
            "32/32 [==============================] - ETA: 0s - loss: 0.1873 - accuracy: 0.9219\n",
            "Epoch 31: val_loss did not improve from 0.43036\n",
            "\n",
            "Epoch 31: ReduceLROnPlateau reducing learning rate to 1.000000082740371e-09.\n",
            "32/32 [==============================] - 25s 757ms/step - loss: 0.1873 - accuracy: 0.9219 - val_loss: 0.4520 - val_accuracy: 0.7875 - lr: 1.0000e-08\n",
            "Epoch 32/35\n",
            "32/32 [==============================] - ETA: 0s - loss: 0.1626 - accuracy: 0.9344\n",
            "Epoch 32: val_loss did not improve from 0.43036\n",
            "32/32 [==============================] - 26s 789ms/step - loss: 0.1626 - accuracy: 0.9344 - val_loss: 0.4520 - val_accuracy: 0.7875 - lr: 1.0000e-09\n",
            "Epoch 33/35\n",
            "32/32 [==============================] - ETA: 0s - loss: 0.1769 - accuracy: 0.9281\n",
            "Epoch 33: val_loss did not improve from 0.43036\n",
            "32/32 [==============================] - 26s 820ms/step - loss: 0.1769 - accuracy: 0.9281 - val_loss: 0.4520 - val_accuracy: 0.7875 - lr: 1.0000e-09\n",
            "Epoch 34/35\n",
            "32/32 [==============================] - ETA: 0s - loss: 0.1456 - accuracy: 0.9406\n",
            "Epoch 34: val_loss did not improve from 0.43036\n",
            "\n",
            "Epoch 34: ReduceLROnPlateau reducing learning rate to 1.000000082740371e-10.\n",
            "32/32 [==============================] - 26s 807ms/step - loss: 0.1456 - accuracy: 0.9406 - val_loss: 0.4520 - val_accuracy: 0.7875 - lr: 1.0000e-09\n",
            "Epoch 35/35\n",
            "32/32 [==============================] - ETA: 0s - loss: 0.1743 - accuracy: 0.9312\n",
            "Epoch 35: val_loss did not improve from 0.43036\n",
            "32/32 [==============================] - 26s 801ms/step - loss: 0.1743 - accuracy: 0.9312 - val_loss: 0.4520 - val_accuracy: 0.7875 - lr: 1.0000e-10\n"
          ]
        }
      ]
    },
    {
      "cell_type": "code",
      "source": [
        "import matplotlib.pyplot as plt\n",
        "\n",
        "def plot_loss_acc(history):\n",
        "  acc = history.history['accuracy']\n",
        "  val_acc = history.history['val_accuracy']\n",
        "  loss = history.history['loss']\n",
        "  val_loss = history.history['val_loss']\n",
        "\n",
        "  epochs = range(len(acc))\n",
        "\n",
        "  plt.plot(epochs, acc, 'b', label='Training accuracy')\n",
        "  plt.plot(epochs, val_acc, 'orange', label='Validation accuracy')\n",
        "  plt.title('Training and validation accuracy')\n",
        "  plt.legend()\n",
        "\n",
        "  plt.figure()\n",
        "\n",
        "  plt.plot(epochs, loss, 'b', label='Training Loss')\n",
        "  plt.plot(epochs, val_loss, 'orange', label='Validation Loss')\n",
        "  plt.title('Training and validation loss')\n",
        "  plt.legend()\n",
        "\n",
        "  plt.show()"
      ],
      "metadata": {
        "id": "NDY4Iky1Sdvh"
      },
      "execution_count": 17,
      "outputs": []
    },
    {
      "cell_type": "code",
      "source": [
        "plot_loss_acc(history)"
      ],
      "metadata": {
        "colab": {
          "base_uri": "https://localhost:8080/",
          "height": 887
        },
        "id": "bwNph6UdT3mW",
        "outputId": "0909bcc9-a7a8-40bd-fc1b-0b4ddaeb080a"
      },
      "execution_count": 19,
      "outputs": [
        {
          "output_type": "display_data",
          "data": {
            "text/plain": [
              "<Figure size 640x480 with 1 Axes>"
            ],
            "image/png": "[encoded data removed]"
          },
          "metadata": {}
        },
        {
          "output_type": "display_data",
          "data": {
            "text/plain": [
              "<Figure size 640x480 with 1 Axes>"
            ],
            "image/png": "[encoded data removed]"
          },
          "metadata": {}
        }
      ]
    },
    {
      "cell_type": "markdown",
      "source": [
        "# **Testing**"
      ],
      "metadata": {
        "id": "drOpHV4zoIa4"
      }
    },
    {
      "cell_type": "code",
      "source": [
        "from tensorflow.keras.models import load_model\n",
        "\n",
        "test_dir = '/content/drive/MyDrive/TA_2024/testing'\n",
        "\n",
        "# Path ke file model .h5 yang telah disimpan\n",
        "saved_model_path = '/content/drive/MyDrive/TA_2024/checkpoints/model_checkpoint_epoch_16.h5'\n",
        "\n",
        "# Memuat model dari file .h5\n",
        "loaded_model = load_model(saved_model_path)\n",
        "\n",
        "# Menggunakan ImageDataGenerator untuk mengonversi gambar dari direktori testing\n",
        "test_datagen = ImageDataGenerator(rescale=1./255)\n",
        "\n",
        "test_generator = test_datagen.flow_from_directory(\n",
        "    test_dir,\n",
        "    target_size=(250, 120),\n",
        "    batch_size=10,\n",
        "    class_mode='binary')\n",
        "\n",
        "# Evaluasi model yang telah dimuat pada dataset pengujian\n",
        "test_loss, test_accuracy = loaded_model.evaluate(test_generator)\n",
        "\n",
        "print(f'Test accuracy: {test_accuracy}')\n",
        "print(f'Test loss: {test_loss}')"
      ],
      "metadata": {
        "colab": {
          "base_uri": "https://localhost:8080/"
        },
        "id": "3vHYoLO9oH4F",
        "outputId": "768a5526-e338-4878-fa06-07b7c1d6584c"
      },
      "execution_count": 24,
      "outputs": [
        {
          "output_type": "stream",
          "name": "stdout",
          "text": [
            "Found 40 images belonging to 2 classes.\n",
            "4/4 [==============================] - 6s 1s/step - loss: 0.3593 - accuracy: 0.8500\n",
            "Test accuracy: 0.8500000238418579\n",
            "Test loss: 0.35928311944007874\n"
          ]
        }
      ]
    },
    {
      "cell_type": "code",
      "source": [
        "import numpy as np\n",
        "\n",
        "# Assuming your testing dataset is in a directory called 'test_dir'\n",
        "test_datagen = ImageDataGenerator(rescale=1./255)\n",
        "\n",
        "test_generator = test_datagen.flow_from_directory(\n",
        "    test_dir,\n",
        "    target_size=(250, 120),\n",
        "    batch_size=10,\n",
        "    class_mode='binary',\n",
        "    shuffle=False)\n",
        "\n",
        "# Get predictions for the test dataset\n",
        "predictions = loaded_model.predict(test_generator)\n",
        "\n",
        "# Convert predicted probabilities to class labels (0 or 1)\n",
        "predicted_labels = np.round(predictions)\n",
        "\n",
        "# Get true labels from the generator\n",
        "true_labels = test_generator.classes\n",
        "\n",
        "# Get the mapping from class indices to class names\n",
        "class_names = list(test_generator.class_indices.keys())\n",
        "\n",
        "# Convert numeric labels to class names for true labels\n",
        "true_class_names = [class_names[label] for label in true_labels]\n",
        "\n",
        "# Convert numeric labels to class names for predicted labels\n",
        "predicted_class_names = [class_names[int(label)] for label in predicted_labels]\n",
        "\n",
        "# Now you can use true_class_names and predicted_class_names for analysis or printing\n",
        "for i in range(len(true_class_names)):\n",
        "    print(f\"Actual: {true_class_names[i]}, Predicted: {predicted_class_names[i]}\")"
      ],
      "metadata": {
        "colab": {
          "base_uri": "https://localhost:8080/"
        },
        "id": "eqljZ3V_oRrR",
        "outputId": "1ea98d7e-93c1-4ffe-b1cb-879ae80f06ee"
      },
      "execution_count": 25,
      "outputs": [
        {
          "output_type": "stream",
          "name": "stdout",
          "text": [
            "Found 40 images belonging to 2 classes.\n",
            "4/4 [==============================] - 5s 1s/step\n",
            "Actual: anemia, Predicted: anemia\n",
            "Actual: anemia, Predicted: non-anemia\n",
            "Actual: anemia, Predicted: non-anemia\n",
            "Actual: anemia, Predicted: anemia\n",
            "Actual: anemia, Predicted: anemia\n",
            "Actual: anemia, Predicted: anemia\n",
            "Actual: anemia, Predicted: anemia\n",
            "Actual: anemia, Predicted: anemia\n",
            "Actual: anemia, Predicted: anemia\n",
            "Actual: anemia, Predicted: anemia\n",
            "Actual: anemia, Predicted: anemia\n",
            "Actual: anemia, Predicted: anemia\n",
            "Actual: anemia, Predicted: anemia\n",
            "Actual: anemia, Predicted: anemia\n",
            "Actual: anemia, Predicted: anemia\n",
            "Actual: anemia, Predicted: anemia\n",
            "Actual: anemia, Predicted: anemia\n",
            "Actual: anemia, Predicted: anemia\n",
            "Actual: anemia, Predicted: anemia\n",
            "Actual: anemia, Predicted: anemia\n",
            "Actual: non-anemia, Predicted: non-anemia\n",
            "Actual: non-anemia, Predicted: non-anemia\n",
            "Actual: non-anemia, Predicted: anemia\n",
            "Actual: non-anemia, Predicted: non-anemia\n",
            "Actual: non-anemia, Predicted: non-anemia\n",
            "Actual: non-anemia, Predicted: anemia\n",
            "Actual: non-anemia, Predicted: non-anemia\n",
            "Actual: non-anemia, Predicted: non-anemia\n",
            "Actual: non-anemia, Predicted: non-anemia\n",
            "Actual: non-anemia, Predicted: non-anemia\n",
            "Actual: non-anemia, Predicted: non-anemia\n",
            "Actual: non-anemia, Predicted: non-anemia\n",
            "Actual: non-anemia, Predicted: non-anemia\n",
            "Actual: non-anemia, Predicted: non-anemia\n",
            "Actual: non-anemia, Predicted: anemia\n",
            "Actual: non-anemia, Predicted: anemia\n",
            "Actual: non-anemia, Predicted: non-anemia\n",
            "Actual: non-anemia, Predicted: non-anemia\n",
            "Actual: non-anemia, Predicted: non-anemia\n",
            "Actual: non-anemia, Predicted: non-anemia\n"
          ]
        },
        {
          "output_type": "stream",
          "name": "stderr",
          "text": [
            "<ipython-input-25-72175131574d>:29: DeprecationWarning: Conversion of an array with ndim > 0 to a scalar is deprecated, and will error in future. Ensure you extract a single element from your array before performing this operation. (Deprecated NumPy 1.25.)\n",
            "  predicted_class_names = [class_names[int(label)] for label in predicted_labels]\n"
          ]
        }
      ]
    },
    {
      "cell_type": "code",
      "source": [
        "import seaborn as sns\n",
        "import matplotlib.pyplot as plt\n",
        "from sklearn.metrics import confusion_matrix\n",
        "from sklearn.metrics import ConfusionMatrixDisplay\n",
        "\n",
        "# Assuming true_labels and predicted_labels are your true and predicted labels\n",
        "conf_matrix = confusion_matrix(true_labels, predicted_labels)\n",
        "\n",
        "# Create a seaborn heatmap\n",
        "plt.figure(figsize=(8, 6))\n",
        "sns.set(font_scale=1.2)  # Adjust the font size for better readability\n",
        "sns.heatmap(conf_matrix, annot=True, fmt='d', cmap='Blues', cbar=False,\n",
        "            xticklabels=['Predicted Negative', 'Predicted Positive'],\n",
        "            yticklabels=['Actual Negative', 'Actual Positive'])\n",
        "plt.xlabel('Predicted')\n",
        "plt.ylabel('Actual')\n",
        "plt.title('Confusion Matrix')\n",
        "plt.show()"
      ],
      "metadata": {
        "colab": {
          "base_uri": "https://localhost:8080/",
          "height": 578
        },
        "id": "fkrHue4coWT3",
        "outputId": "1f8bd30f-dfa8-489d-a6c4-e5bb69047882"
      },
      "execution_count": 26,
      "outputs": [
        {
          "output_type": "display_data",
          "data": {
            "text/plain": [
              "<Figure size 800x600 with 1 Axes>"
            ],
            "image/png": "[encoded data removed]"
          },
          "metadata": {}
        }
      ]
    },
    {
      "cell_type": "code",
      "source": [
        "import numpy as np\n",
        "\n",
        "from google.colab import files\n",
        "from tensorflow.keras.utils import load_img, img_to_array\n",
        "\n",
        "uploaded=files.upload()\n",
        "\n",
        "for fn in uploaded.keys():\n",
        "\n",
        "  # predicting images\n",
        "  path='/content/' + fn\n",
        "  img=load_img(path, target_size=(250, 120))\n",
        "\n",
        "  x=img_to_array(img)\n",
        "  x /= 255\n",
        "  x=np.expand_dims(x, axis=0)\n",
        "  images = np.vstack([x])\n",
        "\n",
        "  classes = loaded_model.predict(images, batch_size=10)\n",
        "\n",
        "  print(classes)\n",
        "\n",
        "  if classes[0] < 0.5:\n",
        "    print(fn + \" is a anemia\")\n",
        "  else:\n",
        "    print(fn + \" is a non-anemia\")"
      ],
      "metadata": {
        "colab": {
          "base_uri": "https://localhost:8080/",
          "height": 125
        },
        "id": "Ys9orJ2WqeUt",
        "outputId": "6aacff4e-de05-45c2-edbf-8f8953fd1703"
      },
      "execution_count": null,
      "outputs": [
        {
          "output_type": "display_data",
          "data": {
            "text/plain": [
              "<IPython.core.display.HTML object>"
            ],
            "text/html": [
              "\n",
              "     <input type=\"file\" id=\"files-64f6c5e8-b2e5-4ab6-b20c-2a95280222b0\" name=\"files[]\" multiple disabled\n",
              "        style=\"border:none\" />\n",
              "     <output id=\"result-64f6c5e8-b2e5-4ab6-b20c-2a95280222b0\">\n",
              "      Upload widget is only available when the cell has been executed in the\n",
              "      current browser session. Please rerun this cell to enable.\n",
              "      </output>\n",
              "      <script>// Copyright 2017 Google LLC\n",
              "//\n",
              "// Licensed under the Apache License, Version 2.0 (the \"License\");\n",
              "// you may not use this file except in compliance with the License.\n",
              "// You may obtain a copy of the License at\n",
              "//\n",
              "//      http://www.apache.org/licenses/LICENSE-2.0\n",
              "//\n",
              "// Unless required by applicable law or agreed to in writing, software\n",
              "// distributed under the License is distributed on an \"AS IS\" BASIS,\n",
              "// WITHOUT WARRANTIES OR CONDITIONS OF ANY KIND, either express or implied.\n",
              "// See the License for the specific language governing permissions and\n",
              "// limitations under the License.\n",
              "\n",
              "/**\n",
              " * @fileoverview Helpers for google.colab Python module.\n",
              " */\n",
              "(function(scope) {\n",
              "function span(text, styleAttributes = {}) {\n",
              "  const element = document.createElement('span');\n",
              "  element.textContent = text;\n",
              "  for (const key of Object.keys(styleAttributes)) {\n",
              "    element.style[key] = styleAttributes[key];\n",
              "  }\n",
              "  return element;\n",
              "}\n",
              "\n",
              "// Max number of bytes which will be uploaded at a time.\n",
              "const MAX_PAYLOAD_SIZE = 100 * 1024;\n",
              "\n",
              "function _uploadFiles(inputId, outputId) {\n",
              "  const steps = uploadFilesStep(inputId, outputId);\n",
              "  const outputElement = document.getElementById(outputId);\n",
              "  // Cache steps on the outputElement to make it available for the next call\n",
              "  // to uploadFilesContinue from Python.\n",
              "  outputElement.steps = steps;\n",
              "\n",
              "  return _uploadFilesContinue(outputId);\n",
              "}\n",
              "\n",
              "// This is roughly an async generator (not supported in the browser yet),\n",
              "// where there are multiple asynchronous steps and the Python side is going\n",
              "// to poll for completion of each step.\n",
              "// This uses a Promise to block the python side on completion of each step,\n",
              "// then passes the result of the previous step as the input to the next step.\n",
              "function _uploadFilesContinue(outputId) {\n",
              "  const outputElement = document.getElementById(outputId);\n",
              "  const steps = outputElement.steps;\n",
              "\n",
              "  const next = steps.next(outputElement.lastPromiseValue);\n",
              "  return Promise.resolve(next.value.promise).then((value) => {\n",
              "    // Cache the last promise value to make it available to the next\n",
              "    // step of the generator.\n",
              "    outputElement.lastPromiseValue = value;\n",
              "    return next.value.response;\n",
              "  });\n",
              "}\n",
              "\n",
              "/**\n",
              " * Generator function which is called between each async step of the upload\n",
              " * process.\n",
              " * @param {string} inputId Element ID of the input file picker element.\n",
              " * @param {string} outputId Element ID of the output display.\n",
              " * @return {!Iterable<!Object>} Iterable of next steps.\n",
              " */\n",
              "function* uploadFilesStep(inputId, outputId) {\n",
              "  const inputElement = document.getElementById(inputId);\n",
              "  inputElement.disabled = false;\n",
              "\n",
              "  const outputElement = document.getElementById(outputId);\n",
              "  outputElement.innerHTML = '';\n",
              "\n",
              "  const pickedPromise = new Promise((resolve) => {\n",
              "    inputElement.addEventListener('change', (e) => {\n",
              "      resolve(e.target.files);\n",
              "    });\n",
              "  });\n",
              "\n",
              "  const cancel = document.createElement('button');\n",
              "  inputElement.parentElement.appendChild(cancel);\n",
              "  cancel.textContent = 'Cancel upload';\n",
              "  const cancelPromise = new Promise((resolve) => {\n",
              "    cancel.onclick = () => {\n",
              "      resolve(null);\n",
              "    };\n",
              "  });\n",
              "\n",
              "  // Wait for the user to pick the files.\n",
              "  const files = yield {\n",
              "    promise: Promise.race([pickedPromise, cancelPromise]),\n",
              "    response: {\n",
              "      action: 'starting',\n",
              "    }\n",
              "  };\n",
              "\n",
              "  cancel.remove();\n",
              "\n",
              "  // Disable the input element since further picks are not allowed.\n",
              "  inputElement.disabled = true;\n",
              "\n",
              "  if (!files) {\n",
              "    return {\n",
              "      response: {\n",
              "        action: 'complete',\n",
              "      }\n",
              "    };\n",
              "  }\n",
              "\n",
              "  for (const file of files) {\n",
              "    const li = document.createElement('li');\n",
              "    li.append(span(file.name, {fontWeight: 'bold'}));\n",
              "    li.append(span(\n",
              "        `(${file.type || 'n/a'}) - ${file.size} bytes, ` +\n",
              "        `last modified: ${\n",
              "            file.lastModifiedDate ? file.lastModifiedDate.toLocaleDateString() :\n",
              "                                    'n/a'} - `));\n",
              "    const percent = span('0% done');\n",
              "    li.appendChild(percent);\n",
              "\n",
              "    outputElement.appendChild(li);\n",
              "\n",
              "    const fileDataPromise = new Promise((resolve) => {\n",
              "      const reader = new FileReader();\n",
              "      reader.onload = (e) => {\n",
              "        resolve(e.target.result);\n",
              "      };\n",
              "      reader.readAsArrayBuffer(file);\n",
              "    });\n",
              "    // Wait for the data to be ready.\n",
              "    let fileData = yield {\n",
              "      promise: fileDataPromise,\n",
              "      response: {\n",
              "        action: 'continue',\n",
              "      }\n",
              "    };\n",
              "\n",
              "    // Use a chunked sending to avoid message size limits. See b/62115660.\n",
              "    let position = 0;\n",
              "    do {\n",
              "      const length = Math.min(fileData.byteLength - position, MAX_PAYLOAD_SIZE);\n",
              "      const chunk = new Uint8Array(fileData, position, length);\n",
              "      position += length;\n",
              "\n",
              "      const base64 = btoa(String.fromCharCode.apply(null, chunk));\n",
              "      yield {\n",
              "        response: {\n",
              "          action: 'append',\n",
              "          file: file.name,\n",
              "          data: base64,\n",
              "        },\n",
              "      };\n",
              "\n",
              "      let percentDone = fileData.byteLength === 0 ?\n",
              "          100 :\n",
              "          Math.round((position / fileData.byteLength) * 100);\n",
              "      percent.textContent = `${percentDone}% done`;\n",
              "\n",
              "    } while (position < fileData.byteLength);\n",
              "  }\n",
              "\n",
              "  // All done.\n",
              "  yield {\n",
              "    response: {\n",
              "      action: 'complete',\n",
              "    }\n",
              "  };\n",
              "}\n",
              "\n",
              "scope.google = scope.google || {};\n",
              "scope.google.colab = scope.google.colab || {};\n",
              "scope.google.colab._files = {\n",
              "  _uploadFiles,\n",
              "  _uploadFilesContinue,\n",
              "};\n",
              "})(self);\n",
              "</script> "
            ]
          },
          "metadata": {}
        },
        {
          "output_type": "stream",
          "name": "stdout",
          "text": [
            "Saving 447.png to 447.png\n",
            "1/1 [==============================] - 0s 39ms/step\n",
            "[[0.83121073]]\n",
            "447.png is a non-anemia\n"
          ]
        }
      ]
    },
    {
      "cell_type": "code",
      "source": [],
      "metadata": {
        "id": "uiuCGREqndlj"
      },
      "execution_count": null,
      "outputs": []
    }
  ]
}
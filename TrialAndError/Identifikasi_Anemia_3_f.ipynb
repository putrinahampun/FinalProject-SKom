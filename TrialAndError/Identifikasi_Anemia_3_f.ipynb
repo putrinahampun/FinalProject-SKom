{
  "cells": [
    {
      "cell_type": "markdown",
      "metadata": {
        "id": "view-in-github",
        "colab_type": "text"
      },
      "source": [
        "<a href=\"https://colab.research.google.com/github/putrinahampun/FinalProject-SKom/blob/main/TrialAndError/Identifikasi_Anemia_3_f.ipynb\" target=\"_parent\"><img src=\"https://colab.research.google.com/assets/colab-badge.svg\" alt=\"Open In Colab\"/></a>"
      ]
    },
    {
      "cell_type": "markdown",
      "metadata": {
        "id": "VGBpAadvBJ9u"
      },
      "source": [
        "# 🩸 **IDENTIFIKASI ANEMIA MELALUI CITRA KONJUNGTIVA MATA MENGGUNAKAN K-MEANS CLUSTERING DAN CONVOLUTIONAL NEURAL NETWORK** 🩸\n",
        "\n",
        "📑 **Rumusan Masalah:**\n",
        "Pemeriksaan anemia merupakan tindakan penting untuk mencegah resiko komplikasi dan dampak lainnya dari anemia. Pemeriksaan umumnya dilakukan secara invasif yang membutuhkan waktu dan biaya yang mahal. Teknis pemeriksaan juga menimbulkan rasa sakit sehingga banyak masyarakat yang enggan untuk melakukan pemeriksaan. Alternatif lainnya dapat menggunakan pemeriksaan secara non-invasif, yakni melalui pengamatan terhadap kepucatan warna konjungtiva mata. Namun, pengamatan manusia dapat bersifat subjektif sehingga diperlukan sebuah sistem untuk identifikasi anemia melalui warna citra konjungtiva mata untuk meminimalisir kesalahan persepsi terhadap warna konjungtiva mata penderita anemia.\n",
        "\n",
        "\n",
        "🎯 **Tujuan Penelitian:**\n",
        "Untuk mengidentifikasi penyakit anemia melalui citra konjungtiva mata dan memperoleh rekomendasi penanganan yang tepat, menggunakan metode **K-Means Clustering dan Convolutional Neural Network**.\n",
        "\n",
        "\n",
        "📁 **Dataset**\n",
        "- Data latih dan validasi diperoleh dari sumber dataset terbuka bernama: *Eyes-defy-anemia* berjumlah 400 gambar.\n",
        "- Data Uji diperoleh dari pengambilan secara langsung dari Klinik Bidan E.Br.Gultom, A.Md, S.Keb dan dari beberapa tempat pada daerah Kab. Tapanuli Utara.\n",
        "\n",
        "Link Dataset: https://drive.google.com/drive/folders/1ytbf4USY2WLScqK_9FwT7AO0Kr1O5HRW?usp=drive_link\n",
        "\n",
        "\n"
      ]
    },
    {
      "cell_type": "markdown",
      "metadata": {
        "id": "rjCh_5hkprSY"
      },
      "source": [
        "# **Data Acquisition**\n",
        "Data berjumlah 400 gambar konjungtiva mata yang telah dikumpulkan, akan disimpan kedalam satu folder pada google drive. Untuk menggunakan data tersebut pada google colab, maka diperlukan proses **Load Data** . Dataset akan dibagi kedalam 2 kelompok data, yaitu data latih (train) dan data validasi (validation) menggunakan proses **Splitting Data**."
      ]
    },
    {
      "cell_type": "markdown",
      "metadata": {
        "id": "cewINvI3CNtc"
      },
      "source": [
        "## Load Data\n",
        "Google drive akan dihubungkan dengan workspace yang digunakan pada google colab, dengan menggunakan modul *google.colab*. Dengan menghubungkan keduanya, seluruh folder pada drive dapat diakses."
      ]
    },
    {
      "cell_type": "code",
      "execution_count": 1,
      "metadata": {
        "colab": {
          "base_uri": "https://localhost:8080/"
        },
        "id": "-5ZbNqUzCLpJ",
        "outputId": "35d39b09-74de-4e07-d527-2dddff6ce2b0"
      },
      "outputs": [
        {
          "output_type": "stream",
          "name": "stdout",
          "text": [
            "Mounted at /content/drive\n"
          ]
        }
      ],
      "source": [
        "from google.colab import drive\n",
        "\n",
        "# Mount Google Drive\n",
        "drive.mount('/content/drive')"
      ]
    },
    {
      "cell_type": "markdown",
      "metadata": {
        "id": "ib_BrbV5xGnE"
      },
      "source": [
        "Dataset disimpan pada folder dengan nama **TA_2024**. Didalam folder tersebut, terdapat folder **dataset** yang menyimpan 400 data gambar yang telah dikumpulkan."
      ]
    },
    {
      "cell_type": "code",
      "execution_count": 2,
      "metadata": {
        "id": "N3q0k4rWD77T"
      },
      "outputs": [],
      "source": [
        "data = '/content/drive/MyDrive/TA_2024'\n",
        "dataset = '/content/drive/MyDrive/TA_2024/dataset'"
      ]
    },
    {
      "cell_type": "markdown",
      "metadata": {
        "id": "vK7jr8seBba_"
      },
      "source": [
        "## Splitting Data\n",
        "Dataset yang dikumpulkan akan dibagi kedalam dua kelompok data, yaitu data latih dan data validasi. Jumlah **data latih** sebanyak **80%** dari keseluruhan data, sementara **data validasi** sebanyak **20%** dari keseluruhan data."
      ]
    },
    {
      "cell_type": "code",
      "execution_count": null,
      "metadata": {
        "id": "BsWzXY60A_GZ"
      },
      "outputs": [],
      "source": [
        "import os\n",
        "import random\n",
        "import shutil"
      ]
    },
    {
      "cell_type": "code",
      "execution_count": null,
      "metadata": {
        "id": "my1ODH83Dx3g"
      },
      "outputs": [],
      "source": [
        "train_ratio = 0.8\n",
        "validation_ration = 0.2"
      ]
    },
    {
      "cell_type": "markdown",
      "metadata": {
        "id": "XYDIsyufyBcs"
      },
      "source": [
        "Kode berikut menggunakan library os untuk membentuk folder baru dengan nama **train dan validation** di dalam folder **TA_2024** untuk menyimpan data hasil splitting."
      ]
    },
    {
      "cell_type": "code",
      "execution_count": null,
      "metadata": {
        "id": "j0-iZujYD4FN"
      },
      "outputs": [],
      "source": [
        "base_dir = data\n",
        "train = os.path.join(base_dir,'train')\n",
        "os.makedirs(train, exist_ok=True)\n",
        "\n",
        "validation = os.path.join(base_dir,'validation')\n",
        "os.makedirs(validation, exist_ok=True)"
      ]
    },
    {
      "cell_type": "markdown",
      "metadata": {
        "id": "1UnONNSoyRmz"
      },
      "source": [
        "Fungsi dibawah ini digunakan untuk melakukan proses splitting. Data yang akan dibagi akan diacak, kemudian dibagi kedalam kelompok train dan validation."
      ]
    },
    {
      "cell_type": "code",
      "execution_count": null,
      "metadata": {
        "id": "lABIf3VIHUq3"
      },
      "outputs": [],
      "source": [
        "def split_and_move_images(source_dir, target_train_dir, target_validation_dir, train_ratio):\n",
        "  files = os.listdir(source_dir)\n",
        "  random.shuffle(files)\n",
        "  split_index = int(len(files) * train_ratio)\n",
        "  train_files = files[:split_index]\n",
        "  validation_files = files[split_index:]\n",
        "\n",
        "  for filename in train_files:\n",
        "    source_path = os.path.join(source_dir, filename)\n",
        "    target_path = os.path.join(target_train_dir)\n",
        "    shutil.copy(source_path, target_path)\n",
        "\n",
        "  for filename in validation_files:\n",
        "    source_path = os.path.join(source_dir, filename)\n",
        "    target_path = os.path.join(target_validation_dir)\n",
        "    shutil.copy(source_path, target_path)"
      ]
    },
    {
      "cell_type": "code",
      "execution_count": null,
      "metadata": {
        "id": "HfgIF7FlL5i0"
      },
      "outputs": [],
      "source": [
        "train = '/content/drive/MyDrive/TA_2024/train'\n",
        "validation = '/content/drive/MyDrive/TA_2024/validation'"
      ]
    },
    {
      "cell_type": "code",
      "execution_count": null,
      "metadata": {
        "id": "7UEJ-CMwEVxI"
      },
      "outputs": [],
      "source": [
        "# JANGAN RUN ULANG\n",
        "split_and_move_images(dataset, train, validation, train_ratio)"
      ]
    },
    {
      "cell_type": "markdown",
      "metadata": {
        "id": "xYD4k0crqMft"
      },
      "source": [
        "# **Image Pre-processing**\n",
        "Proses ini merupakan proses penyiapan data latih sebelum digunakan untuk segmentasi dan pemodelan. Data latih akan mengalami proses **cropping** untuk memperoleh citra konjungtiva saja. Data yang telah di cropping kemudian akan mengalami proses **resizing** untuk mengubah ukuran gambar sehingga memudahkan proses pemodelan. Tahap akhir adalah proses **labelling** untuk membagi data kedalam kelas **anemia dan non-anemia**"
      ]
    },
    {
      "cell_type": "markdown",
      "metadata": {
        "id": "rt05WlF3JFRD"
      },
      "source": [
        "## Cropping & Resizing\n",
        "Data train akan melalui proses cropping dan disimpan kedalam folder **cropping**. Data hasil cropping akan digunakan untuk proses resizing dengan mengubah ukuran asli gambar kedalam ukuran tertentu, yaitu: **250 x 120** piksel."
      ]
    },
    {
      "cell_type": "code",
      "execution_count": null,
      "metadata": {
        "id": "NFWG-j4NI-wE"
      },
      "outputs": [],
      "source": [
        "base_dir = data\n",
        "cropping = os.path.join(base_dir,'cropping')\n",
        "os.makedirs(cropping, exist_ok=True)\n",
        "\n",
        "resizing = os.path.join(base_dir,'resizing')\n",
        "os.makedirs(resizing, exist_ok=True)"
      ]
    },
    {
      "cell_type": "markdown",
      "metadata": {
        "id": "38Zy8k7RgnyD"
      },
      "source": [
        "Proses resizing akna dilakukan dengan library *open-cv* pada python."
      ]
    },
    {
      "cell_type": "code",
      "execution_count": null,
      "metadata": {
        "colab": {
          "base_uri": "https://localhost:8080/"
        },
        "id": "X0cFGMRCPYOy",
        "outputId": "bb9d92e8-6f96-4707-86e0-fb456ba8064a"
      },
      "outputs": [
        {
          "name": "stdout",
          "output_type": "stream",
          "text": [
            "Requirement already satisfied: opencv-python in /usr/local/lib/python3.10/dist-packages (4.8.0.76)\n",
            "Requirement already satisfied: numpy>=1.21.2 in /usr/local/lib/python3.10/dist-packages (from opencv-python) (1.25.2)\n"
          ]
        }
      ],
      "source": [
        "!pip install opencv-python"
      ]
    },
    {
      "cell_type": "markdown",
      "metadata": {
        "id": "LfqvGuETz-Up"
      },
      "source": [
        "Kode dibawah digunakan untuk melakukan resizing pada salah satu gambar konjungtiva."
      ]
    },
    {
      "cell_type": "code",
      "execution_count": null,
      "metadata": {
        "colab": {
          "base_uri": "https://localhost:8080/",
          "height": 191
        },
        "id": "c0mb9PsuhEi4",
        "outputId": "11f0d774-d8d6-4e34-9ea7-1b086a34217f"
      },
      "outputs": [
        {
          "data": {
            "image/png": "[encoded data removed]",
            "text/plain": [
              "<Figure size 640x480 with 2 Axes>"
            ]
          },
          "metadata": {},
          "output_type": "display_data"
        }
      ],
      "source": [
        "# CONTOH KODE RESIZING UNTUK SATU GAMBAR\n",
        "\n",
        "import cv2\n",
        "import numpy as np\n",
        "from matplotlib import pyplot as plt\n",
        "\n",
        "# Load gambar (gantilah dengan path gambar Anda)\n",
        "\n",
        "img = cv2.imread('/content/non-anemia (58).jpg')\n",
        "\n",
        "# Atur ukuran baru\n",
        "new_size = (250,120)\n",
        "\n",
        "# Hitung height dan width dari gambar\n",
        "height, width = img.shape[:2]\n",
        "\n",
        "# Hitung skala\n",
        "scale_x = new_size[0] / width\n",
        "scale_y = new_size[1] / height\n",
        "\n",
        "# Hitung new_height dan new_width\n",
        "new_height = int(height * scale_y)\n",
        "new_width = int(width * scale_x)\n",
        "\n",
        "# Resize gambar\n",
        "img_resized = cv2.resize(img, (new_width, new_height))\n",
        "\n",
        "# Tampilkan gambar asli dan gambar yang sudah diresize\n",
        "plt.subplot(1, 2, 1)\n",
        "plt.imshow(cv2.cvtColor(img, cv2.COLOR_BGR2RGB))\n",
        "plt.title('Original Image')\n",
        "\n",
        "plt.subplot(1, 2, 2)\n",
        "plt.imshow(cv2.cvtColor(img_resized, cv2.COLOR_BGR2RGB))\n",
        "plt.title('Resized Image')\n",
        "\n",
        "plt.show()"
      ]
    },
    {
      "cell_type": "markdown",
      "metadata": {
        "id": "aablXVrRh60U"
      },
      "source": [
        "Kode berikut digunakan untuk proses resizing keseluruhan data pada folder cropping. Hasil resizing akan disimpan kedalam folder dengan nama **resizing**."
      ]
    },
    {
      "cell_type": "code",
      "execution_count": null,
      "metadata": {
        "colab": {
          "base_uri": "https://localhost:8080/"
        },
        "id": "007SjRXzhqrO",
        "outputId": "f43b632e-da60-4d5c-df37-2edf4de5debe"
      },
      "outputs": [
        {
          "name": "stdout",
          "output_type": "stream",
          "text": [
            "Resize selesai dan hasil disimpan di /content/drive/MyDrive/TA_2024/resizing\n"
          ]
        }
      ],
      "source": [
        "# CONTOH KODE RESIZING UNTUK BANYAK GAMBAR\n",
        "# JANGAN RUN ULANG\n",
        "import cv2\n",
        "import os\n",
        "\n",
        "# Path ke folder dengan gambar-gambar\n",
        "input_folder_path = '/content/drive/MyDrive/TA_2024/cropping'\n",
        "# Path ke folder untuk menyimpan hasil resize\n",
        "output_folder_path = '/content/drive/MyDrive/TA_2024/resizing'\n",
        "\n",
        "# Loop melalui setiap file di folder input\n",
        "for filename in os.listdir(input_folder_path):\n",
        "    if filename.endswith(('.jpg', '.jpeg', '.png')):  # Hanya proses file gambar\n",
        "        # Load gambar\n",
        "        img_path = os.path.join(input_folder_path, filename)\n",
        "        img = cv2.imread(img_path)\n",
        "\n",
        "        # Atur ukuran baru\n",
        "        new_size = (250, 120)\n",
        "\n",
        "        # Hitung height dan width dari gambar\n",
        "        height, width = img.shape[:2]\n",
        "\n",
        "        # Hitung skala\n",
        "        scale_x = new_size[0] / width\n",
        "        scale_y = new_size[1] / height\n",
        "\n",
        "        # Hitung new_height dan new_width\n",
        "        new_height = int(height * scale_y)\n",
        "        new_width = int(width * scale_x)\n",
        "\n",
        "        # Resize gambar\n",
        "        img_resized = cv2.resize(img, (new_width, new_height))\n",
        "\n",
        "        # Simpan hasil resize ke folder output\n",
        "        output_path = os.path.join(output_folder_path, f\"resized_{filename}\")\n",
        "        cv2.imwrite(output_path, img_resized)\n",
        "\n",
        "print(\"Resize selesai dan hasil disimpan di\", output_folder_path)"
      ]
    },
    {
      "cell_type": "markdown",
      "metadata": {
        "id": "5_GcEiLRltAT"
      },
      "source": [
        "Kode dibawah untuk resizing data validasi."
      ]
    },
    {
      "cell_type": "code",
      "execution_count": null,
      "metadata": {
        "colab": {
          "base_uri": "https://localhost:8080/"
        },
        "id": "vI9R9odCizcv",
        "outputId": "5222a2e5-4ad9-4432-8cf4-1c85ec290e15"
      },
      "outputs": [
        {
          "name": "stdout",
          "output_type": "stream",
          "text": [
            "Resize selesai dan hasil disimpan di /content/drive/MyDrive/TA_2024/validation\n"
          ]
        }
      ],
      "source": [
        "# RESIZING UNTUK DATA VALIDATION\n",
        "# JANGAN RUN ULANG\n",
        "import cv2\n",
        "import os\n",
        "\n",
        "# Path ke folder dengan gambar-gambar\n",
        "input_folder_path = '/content/drive/MyDrive/TA_2024/validation_r'\n",
        "# Path ke folder untuk menyimpan hasil resize\n",
        "output_folder_path = '/content/drive/MyDrive/TA_2024/validation'\n",
        "\n",
        "# Loop melalui setiap file di folder input\n",
        "for filename in os.listdir(input_folder_path):\n",
        "    if filename.endswith(('.jpg', '.jpeg', '.png')):  # Hanya proses file gambar\n",
        "        # Load gambar\n",
        "        img_path = os.path.join(input_folder_path, filename)\n",
        "        img = cv2.imread(img_path)\n",
        "\n",
        "        # Atur ukuran baru\n",
        "        new_size = (250, 120)\n",
        "\n",
        "        # Hitung height dan width dari gambar\n",
        "        height, width = img.shape[:2]\n",
        "\n",
        "        # Hitung skala\n",
        "        scale_x = new_size[0] / width\n",
        "        scale_y = new_size[1] / height\n",
        "\n",
        "        # Hitung new_height dan new_width\n",
        "        new_height = int(height * scale_y)\n",
        "        new_width = int(width * scale_x)\n",
        "\n",
        "        # Resize gambar\n",
        "        img_resized = cv2.resize(img, (new_width, new_height))\n",
        "\n",
        "        # Simpan hasil resize ke folder output\n",
        "        output_path = os.path.join(output_folder_path, f\"resized_{filename}\")\n",
        "        cv2.imwrite(output_path, img_resized)\n",
        "\n",
        "print(\"Resize selesai dan hasil disimpan di\", output_folder_path)\n"
      ]
    },
    {
      "cell_type": "markdown",
      "metadata": {
        "id": "D_-aPQkYjEAu"
      },
      "source": [
        "## Labelling\n",
        "Tahap ini akan menggunakan library *os* untuk membagi data kedalam dua kelas, yaitu **anemia dan non-anemia**. Folder anemia dan non-anemia akan dibentuk dalam folder **labelling**."
      ]
    },
    {
      "cell_type": "code",
      "execution_count": null,
      "metadata": {
        "id": "lyJAj8u_iUx8"
      },
      "outputs": [],
      "source": [
        "base_dir = data\n",
        "labelling = os.path.join(base_dir,'labelling')\n",
        "os.makedirs(labelling, exist_ok=True)\n",
        "\n",
        "anemia = os.path.join(labelling,'anemia')\n",
        "os.makedirs(anemia, exist_ok=True)\n",
        "\n",
        "non_anemia = os.path.join(labelling,'non_anemia')\n",
        "os.makedirs(non_anemia, exist_ok=True)"
      ]
    },
    {
      "cell_type": "code",
      "execution_count": null,
      "metadata": {
        "id": "X9q8MuwSl0qu"
      },
      "outputs": [],
      "source": [
        "def labelling(source_dir, target_anemia_dir, target_nonanemia_dir, ratio):\n",
        "  files = os.listdir(source_dir)\n",
        "  split_index = int(len(files) * ratio)\n",
        "  anemia_files = files[:split_index]\n",
        "  non_anemia_files = files[split_index:]\n",
        "\n",
        "  for filename in anemia_files:\n",
        "    source_path = os.path.join(source_dir, filename)\n",
        "    target_path = os.path.join(target_anemia_dir)\n",
        "    shutil.copy(source_path, target_path)\n",
        "\n",
        "  for filename in non_anemia_files:\n",
        "    source_path = os.path.join(source_dir, filename)\n",
        "    target_path = os.path.join(target_nonanemia_dir)\n",
        "    shutil.copy(source_path, target_path)"
      ]
    },
    {
      "cell_type": "code",
      "execution_count": null,
      "metadata": {
        "id": "cshLNBR5Y-Yz"
      },
      "outputs": [],
      "source": [
        "# JANGAN RUN ULANG\n",
        "ratio = 0.5\n",
        "labelling(resizing, anemia, non_anemia, ratio)"
      ]
    },
    {
      "cell_type": "markdown",
      "metadata": {
        "id": "umpDn1u7quxa"
      },
      "source": [
        "# **Image Segmentation**\n",
        "Sebelum dilakukan proses segmentasi dengan algoritma **K-Means Clustering**, dilakukan dua teknik pemrosesan citra, yaitu **Equalization dan Unsharp Masking Filter**. Hasil kedua proses akan digunakan untuk mempermudah K-Means dalam melakukan segmnetasi. Hasil segmentasi berupa area piksel yang memiliki warna channel merah (red channel), untuk memperoleh objek konjungtiva mata, yang memiliki warna dasar merah, pada citra."
      ]
    },
    {
      "cell_type": "code",
      "execution_count": 3,
      "metadata": {
        "id": "Q4f6ba9RsV21"
      },
      "outputs": [],
      "source": [
        "import os\n",
        "import cv2\n",
        "import numpy as np\n",
        "from google.colab import files"
      ]
    },
    {
      "cell_type": "markdown",
      "metadata": {
        "id": "h_v_Bs0_2LUp"
      },
      "source": [
        "## Equalization\n",
        "Pada teknik ini, digunakan fungsi **equalizeHist()** untuk meningkatkan distribusi intensitas piksel dalam gambar. Fungsi bekerja terhadap nilai intensitas gambar sehingga format citra perlu diubah. Format asli gambar **RGB (Red, Green, Blue)** akan diubah kedalam format HSV **(Hue, Saturation,Value (*Intensity*))**  \n"
      ]
    },
    {
      "cell_type": "code",
      "execution_count": null,
      "metadata": {
        "id": "3Jym0sk6scUx"
      },
      "outputs": [],
      "source": [
        "def equalize_rgb_image(image):\n",
        "    hsi_image = cv2.cvtColor(image, cv2.COLOR_BGR2HSV)\n",
        "    hsi_image[:, :, 2] = cv2.equalizeHist(hsi_image[:, :, 2])\n",
        "    equalized_image = cv2.cvtColor(hsi_image, cv2.COLOR_HSV2BGR)\n",
        "    return equalized_image"
      ]
    },
    {
      "cell_type": "markdown",
      "metadata": {
        "id": "67NBCBzt28Wu"
      },
      "source": [
        "## Unsharp Masking Filter\n",
        "Unsharp Masking Filter merupakan salah satu teknik pengolahan gambar yang bertujuan untuk meningkatkan ketajaman tepi dan memperjelas struktur detail pada gambar. Teknik ini menggunakan **filter low-pass** pada gaussian blur melalui fungsi **GaussianBlur()**."
      ]
    },
    {
      "cell_type": "code",
      "execution_count": null,
      "metadata": {
        "id": "Z7bTnD-LsoSs"
      },
      "outputs": [],
      "source": [
        "def apply_unsharp_mask(image):\n",
        "    blurred = cv2.GaussianBlur(image, (5, 5), 0)\n",
        "    unsharp_mask = cv2.addWeighted(image, 1.5, blurred, -0.5, 0)\n",
        "    return unsharp_mask"
      ]
    },
    {
      "cell_type": "markdown",
      "metadata": {
        "id": "RLFw0Oap3Rzn"
      },
      "source": [
        "## K-Means Clustering & Red Channel\n",
        "K-Means Clustering digunakan untuk segmentasi warna pada citra, pada penelitian ini segmentasi akan dilakukan pada saluran merah (**red channel**) citra. Jumlah kluster warna yang digunakan adalah 2 (**k=2**). Hasil segmentasi berupa **maska biner** (citra dengan nilai piksel biner 0 & 1 (hitam-putih)) untuk menandai area konjungtiva yang akan diambil."
      ]
    },
    {
      "cell_type": "code",
      "execution_count": null,
      "metadata": {
        "id": "DdP-c9TRss4o"
      },
      "outputs": [],
      "source": [
        "def apply_kmeans_clustering_red(image, k=2):\n",
        "\n",
        "    red_channel = image[:, :, 2]\n",
        "    red_pixels = red_channel.reshape((-1, 1))\n",
        "    red_pixels = np.float32(red_pixels)\n",
        "\n",
        "    criteria = (cv2.TERM_CRITERIA_EPS + cv2.TERM_CRITERIA_MAX_ITER, 100, 0.2)\n",
        "    _, labels, centers = cv2.kmeans(red_pixels, k, None, criteria, 10, cv2.KMEANS_RANDOM_CENTERS)\n",
        "\n",
        "    centers = np.uint8(centers)\n",
        "\n",
        "    segmented_red_channel = centers[labels.flatten()]\n",
        "    segmented_red_channel = segmented_red_channel.reshape(red_channel.shape)\n",
        "\n",
        "    _, binary_mask = cv2.threshold(segmented_red_channel, 0, 255, cv2.THRESH_BINARY + cv2.THRESH_OTSU)\n",
        "\n",
        "    binary_mask = cv2.morphologyEx(binary_mask, cv2.MORPH_OPEN, np.ones((5, 5), np.uint8))\n",
        "    binary_mask = cv2.morphologyEx(binary_mask, cv2.MORPH_CLOSE, np.ones((15, 15), np.uint8))\n",
        "\n",
        "    return binary_mask"
      ]
    },
    {
      "cell_type": "markdown",
      "metadata": {
        "id": "-SpCIyFoWGVH"
      },
      "source": [
        "Mengaplikasikan operasi bitwise AND antara gambar asli (original_image) dan masker biner (binary_mask) untuk mengekstrak piksel dari gambar asli yang sesuai dengan area yang diidentifikasi oleh masker biner."
      ]
    },
    {
      "cell_type": "code",
      "execution_count": null,
      "metadata": {
        "id": "_-gw7TohswkI"
      },
      "outputs": [],
      "source": [
        "def apply_convolution(original_image, binary_mask):\n",
        "    conjunctiva_pixels = cv2.bitwise_and(original_image, original_image, mask=binary_mask)\n",
        "    return conjunctiva_pixels"
      ]
    },
    {
      "cell_type": "markdown",
      "metadata": {
        "id": "7fY4QmtIXbiE"
      },
      "source": [
        "## Segmentation\n",
        "Kode dibawah ini digunakan untuk implementasi keseluruhan fungsi yang telah dibuat sebelumnya. Data yang akan disegmentasi, diambil dari folder **labelling** dan akan disimpan ke folder **segmented**."
      ]
    },
    {
      "cell_type": "code",
      "execution_count": null,
      "metadata": {
        "id": "KQa5jtPgpF3k"
      },
      "outputs": [],
      "source": [
        "def process_images(image_directory, output_directory):\n",
        "    for category in os.listdir(image_directory):\n",
        "        category_path = os.path.join(image_directory, category)\n",
        "        if os.path.isdir(category_path):\n",
        "            output_category_path = os.path.join(output_directory, category)\n",
        "            os.makedirs(output_category_path, exist_ok=True)\n",
        "\n",
        "            for file_name in os.listdir(category_path):\n",
        "                if file_name.lower().endswith(('.jpg', '.jpeg', '.png')):\n",
        "                    image_path = os.path.join(category_path, file_name)\n",
        "\n",
        "                    # Read the image\n",
        "                    original_image = cv2.imread(image_path)\n",
        "\n",
        "                    # Step 1: Equalization of the image in RGB\n",
        "                    equalized_image = equalize_rgb_image(original_image)\n",
        "\n",
        "                    # Step 2: Filter Unsharp Masking\n",
        "                    unsharp_mask_image = apply_unsharp_mask(equalized_image)\n",
        "\n",
        "                    # Step 3: Red Channel Mask\n",
        "                    red_channel_mask = apply_kmeans_clustering_red(unsharp_mask_image)\n",
        "\n",
        "                    # Step 4: Convolution Original Image - Red Channel Mask\n",
        "                    conjunctiva_pixels = apply_convolution(original_image, red_channel_mask)\n",
        "\n",
        "                    # Save the segmented image\n",
        "                    output_file_path = os.path.join(output_category_path, file_name)\n",
        "                    cv2.imwrite(output_file_path, conjunctiva_pixels)"
      ]
    },
    {
      "cell_type": "code",
      "execution_count": null,
      "metadata": {
        "id": "35Irk5PqWrp4"
      },
      "outputs": [],
      "source": [
        "data_segmented = os.path.join(data, 'segmented')\n",
        "os.makedirs(data_segmented, exist_ok=True)"
      ]
    },
    {
      "cell_type": "code",
      "execution_count": null,
      "metadata": {
        "id": "_uj4t6cAs4kE"
      },
      "outputs": [],
      "source": [
        "# Specify the directories\n",
        "input_directory = '/content/drive/MyDrive/TA_2024/labelling'\n",
        "output_directory = '/content/drive/MyDrive/TA_2024/segmented'"
      ]
    },
    {
      "cell_type": "code",
      "execution_count": null,
      "metadata": {
        "id": "hsaeLUK3s6c5"
      },
      "outputs": [],
      "source": [
        "# Process the images and save the segmented results\n",
        "# JANGAN RUN ULANG\n",
        "process_images(input_directory, output_directory)"
      ]
    },
    {
      "cell_type": "markdown",
      "metadata": {
        "id": "76yf-qi5Xwz9"
      },
      "source": [
        "# **Image Identification**\n",
        "Pada tahap ini dilakukan proses modelling dengan menggunakan algoritma **Convolutional Neural Network (CNN)**. Data latih yang telah disegmentasi akan digunakan untuk melatih model CNN, sementara data validasi bertujuan untuk melakukan validasi terhadap prediksi yang dilakukan oleh model. Proses modelling memanfaatkan modul tensorflow."
      ]
    },
    {
      "cell_type": "code",
      "execution_count": 4,
      "metadata": {
        "id": "ft4LHEaQRV1m"
      },
      "outputs": [],
      "source": [
        "train_dir = '/content/drive/MyDrive/TA_2024/segmented'\n",
        "validation_dir = '/content/drive/MyDrive/TA_2024/validation'"
      ]
    },
    {
      "cell_type": "code",
      "execution_count": 5,
      "metadata": {
        "id": "jPey5rQhfiUf"
      },
      "outputs": [],
      "source": [
        "import numpy as np\n",
        "import tensorflow as tf\n",
        "\n",
        "np.random.seed(42)\n",
        "tf.random.set_seed(42)"
      ]
    },
    {
      "cell_type": "markdown",
      "metadata": {
        "id": "2LWix8Mzlbb7"
      },
      "source": [
        "## Callbacks"
      ]
    },
    {
      "cell_type": "code",
      "execution_count": null,
      "metadata": {
        "id": "djImPaVblXse"
      },
      "outputs": [],
      "source": [
        "# from tensorflow.keras.callbacks import ModelCheckpoint, EarlyStopping, ReduceLROnPlateau"
      ]
    },
    {
      "cell_type": "code",
      "execution_count": null,
      "metadata": {
        "id": "PlBgzLGYlh3c"
      },
      "outputs": [],
      "source": [
        "# checkpoint_dir = os.path.join(data,'checkpoints')\n",
        "# os.makedirs(checkpoint_dir, exist_ok=True)\n",
        "# checkpoint_filename = \"model_checkpoint_epoch_{epoch:02d}.h5\"\n",
        "# checkpoint_filepath = os.path.join(checkpoint_dir, checkpoint_filename)"
      ]
    },
    {
      "cell_type": "code",
      "execution_count": 6,
      "metadata": {
        "id": "ohLxJ82vlqFC"
      },
      "outputs": [],
      "source": [
        "# mycallback\n",
        "class myCallback(tf.keras.callbacks.Callback):\n",
        "  def on_epoch_end(self, epoch, logs={}):\n",
        "    accuracy= 0.94\n",
        "    if(logs.get('accuracy')>accuracy and logs.get('val_accuracy')>=accuracy):\n",
        "      print(\"\\nTarget reached %2.2f%%. Stop Training!!\" %(accuracy*100))\n",
        "      self.model.stop_training = True\n",
        "\n",
        "callbacks = myCallback()"
      ]
    },
    {
      "cell_type": "code",
      "execution_count": null,
      "metadata": {
        "id": "06rafWT6l0Ju"
      },
      "outputs": [],
      "source": [
        "# checkpoint_callback = ModelCheckpoint(\n",
        "#     filepath=checkpoint_filepath,\n",
        "#     monitor='val_loss',\n",
        "#     save_best_only=True,\n",
        "#     mode='min',\n",
        "#     verbose=1\n",
        "# )"
      ]
    },
    {
      "cell_type": "code",
      "execution_count": null,
      "metadata": {
        "id": "G97WjsX8nO0p"
      },
      "outputs": [],
      "source": [
        "# early_stopping_callback = EarlyStopping(\n",
        "#     monitor='val_loss',\n",
        "#     patience= 3,\n",
        "#     mode='min',\n",
        "#     verbose= 1\n",
        "# )"
      ]
    },
    {
      "cell_type": "code",
      "execution_count": null,
      "metadata": {
        "id": "2qZchQ4xnSOC"
      },
      "outputs": [],
      "source": [
        "# reduce_lr_callback = ReduceLROnPlateau(\n",
        "#     monitor='val_loss',\n",
        "#     factor= 0.1,\n",
        "#     patience= 3,\n",
        "#     mode='min',\n",
        "#     verbose= 1\n",
        "# )"
      ]
    },
    {
      "cell_type": "markdown",
      "metadata": {
        "id": "QngVqg88ngRU"
      },
      "source": [
        "## Modelling"
      ]
    },
    {
      "cell_type": "code",
      "execution_count": 7,
      "metadata": {
        "id": "-JF_anemRCKU"
      },
      "outputs": [],
      "source": [
        "from tensorflow.keras.optimizers import Adam\n",
        "from tensorflow.keras.preprocessing.image import ImageDataGenerator"
      ]
    },
    {
      "cell_type": "code",
      "execution_count": 131,
      "metadata": {
        "colab": {
          "base_uri": "https://localhost:8080/"
        },
        "id": "-Foh_JNmRRxU",
        "outputId": "84853a10-da9f-4a6e-dc56-547a76005f29"
      },
      "outputs": [
        {
          "output_type": "stream",
          "name": "stdout",
          "text": [
            "Found 320 images belonging to 2 classes.\n",
            "Found 80 images belonging to 2 classes.\n"
          ]
        }
      ],
      "source": [
        "train_datagen = ImageDataGenerator(  rescale= 1./255,\n",
        "                                     horizontal_flip = True,\n",
        "                                     rotation_range = 45,\n",
        "                                     brightness_range=[0.8, 1.3])\n",
        "\n",
        "validation_datagen = ImageDataGenerator( rescale= 1./255 )\n",
        "\n",
        "train_generator = train_datagen.flow_from_directory(  train_dir,\n",
        "                                                      target_size=(250, 120),\n",
        "                                                      batch_size= 10,\n",
        "                                                      class_mode='binary' )\n",
        "\n",
        "validation_generator = validation_datagen.flow_from_directory(   validation_dir,\n",
        "                                                                 target_size=(250, 120),\n",
        "                                                                 batch_size= 10,\n",
        "                                                                 class_mode='binary' )"
      ]
    },
    {
      "cell_type": "code",
      "execution_count": 183,
      "metadata": {
        "id": "EiuGEjqxSIiU"
      },
      "outputs": [],
      "source": [
        "def create_model():\n",
        "\n",
        "  model = tf.keras.models.Sequential([\n",
        "\n",
        "      tf.keras.layers.Conv2D(32, (3,3), activation='relu', input_shape=(250,120,3)),\n",
        "      tf.keras.layers.MaxPooling2D(2, 2),\n",
        "\n",
        "      tf.keras.layers.Conv2D(64, (3,3), activation='relu'),\n",
        "      tf.keras.layers.MaxPooling2D(2,2),\n",
        "\n",
        "      tf.keras.layers.Conv2D(128, (3,3), activation='relu'),\n",
        "      tf.keras.layers.MaxPooling2D(2,2),\n",
        "\n",
        "      tf.keras.layers.Conv2D(256, (3,3), activation='relu'),\n",
        "      tf.keras.layers.MaxPooling2D(2,2),\n",
        "\n",
        "      tf.keras.layers.Conv2D(512, (3,3), activation='relu'),\n",
        "      tf.keras.layers.MaxPooling2D(2,2),\n",
        "\n",
        "      tf.keras.layers.Dropout(0.6),\n",
        "      tf.keras.layers.Flatten(),\n",
        "      tf.keras.layers.Dense(256, activation='relu'),\n",
        "      tf.keras.layers.Dense(1, activation='sigmoid')\n",
        "  ])\n",
        "\n",
        "  model.compile( loss='binary_crossentropy',\n",
        "                 optimizer=Adam(learning_rate=0.001),\n",
        "                 metrics=['accuracy'])\n",
        "\n",
        "  return model"
      ]
    },
    {
      "cell_type": "code",
      "execution_count": 184,
      "metadata": {
        "colab": {
          "base_uri": "https://localhost:8080/"
        },
        "id": "UaMkkwbaEW2h",
        "outputId": "5f61b0d4-b99c-4691-b96d-e5c1cd9a5af8"
      },
      "outputs": [
        {
          "output_type": "stream",
          "name": "stdout",
          "text": [
            "Epoch 1/50\n",
            "32/32 [==============================] - 28s 797ms/step - loss: 0.6954 - accuracy: 0.5500 - val_loss: 0.7259 - val_accuracy: 0.5000\n",
            "Epoch 2/50\n",
            "32/32 [==============================] - 25s 774ms/step - loss: 0.6492 - accuracy: 0.5063 - val_loss: 0.6132 - val_accuracy: 0.8500\n",
            "Epoch 3/50\n",
            "32/32 [==============================] - 26s 809ms/step - loss: 0.6015 - accuracy: 0.6781 - val_loss: 0.6532 - val_accuracy: 0.6500\n",
            "Epoch 4/50\n",
            "32/32 [==============================] - 25s 772ms/step - loss: 0.4649 - accuracy: 0.8281 - val_loss: 0.4534 - val_accuracy: 0.8125\n",
            "Epoch 5/50\n",
            "32/32 [==============================] - 25s 763ms/step - loss: 0.4022 - accuracy: 0.8469 - val_loss: 0.4658 - val_accuracy: 0.7750\n",
            "Epoch 6/50\n",
            "32/32 [==============================] - 25s 777ms/step - loss: 0.3298 - accuracy: 0.8562 - val_loss: 0.9007 - val_accuracy: 0.6750\n",
            "Epoch 7/50\n",
            "32/32 [==============================] - 24s 745ms/step - loss: 0.2845 - accuracy: 0.8719 - val_loss: 0.4432 - val_accuracy: 0.8000\n",
            "Epoch 8/50\n",
            "32/32 [==============================] - 25s 772ms/step - loss: 0.2746 - accuracy: 0.9031 - val_loss: 1.0510 - val_accuracy: 0.7250\n",
            "Epoch 9/50\n",
            "32/32 [==============================] - 25s 793ms/step - loss: 0.1845 - accuracy: 0.9281 - val_loss: 1.3407 - val_accuracy: 0.7375\n",
            "Epoch 10/50\n",
            "32/32 [==============================] - 26s 825ms/step - loss: 0.1251 - accuracy: 0.9531 - val_loss: 0.9276 - val_accuracy: 0.7750\n",
            "Epoch 11/50\n",
            "32/32 [==============================] - 25s 783ms/step - loss: 0.2715 - accuracy: 0.9000 - val_loss: 0.3792 - val_accuracy: 0.8250\n",
            "Epoch 12/50\n",
            "32/32 [==============================] - 25s 775ms/step - loss: 0.1766 - accuracy: 0.9500 - val_loss: 0.5051 - val_accuracy: 0.8250\n",
            "Epoch 13/50\n",
            "32/32 [==============================] - 25s 782ms/step - loss: 0.1445 - accuracy: 0.9563 - val_loss: 1.3103 - val_accuracy: 0.6250\n",
            "Epoch 14/50\n",
            "32/32 [==============================] - 25s 775ms/step - loss: 0.3308 - accuracy: 0.9000 - val_loss: 0.8729 - val_accuracy: 0.5500\n",
            "Epoch 15/50\n",
            "32/32 [==============================] - 26s 813ms/step - loss: 0.3485 - accuracy: 0.8656 - val_loss: 0.3455 - val_accuracy: 0.8625\n",
            "Epoch 16/50\n",
            "32/32 [==============================] - 24s 744ms/step - loss: 0.2495 - accuracy: 0.9031 - val_loss: 0.2953 - val_accuracy: 0.8625\n",
            "Epoch 17/50\n",
            "32/32 [==============================] - 25s 790ms/step - loss: 0.1990 - accuracy: 0.9312 - val_loss: 0.3779 - val_accuracy: 0.8250\n",
            "Epoch 18/50\n",
            "32/32 [==============================] - 24s 745ms/step - loss: 0.1682 - accuracy: 0.9375 - val_loss: 0.5767 - val_accuracy: 0.7750\n",
            "Epoch 19/50\n",
            "32/32 [==============================] - 25s 765ms/step - loss: 0.2002 - accuracy: 0.9375 - val_loss: 0.9207 - val_accuracy: 0.6750\n",
            "Epoch 20/50\n",
            "32/32 [==============================] - 26s 821ms/step - loss: 0.1412 - accuracy: 0.9563 - val_loss: 0.4499 - val_accuracy: 0.8125\n",
            "Epoch 21/50\n",
            "32/32 [==============================] - 25s 772ms/step - loss: 0.1133 - accuracy: 0.9563 - val_loss: 2.6132 - val_accuracy: 0.5750\n",
            "Epoch 22/50\n",
            "32/32 [==============================] - 24s 748ms/step - loss: 0.1679 - accuracy: 0.9406 - val_loss: 0.3346 - val_accuracy: 0.8250\n",
            "Epoch 23/50\n",
            "32/32 [==============================] - 25s 766ms/step - loss: 0.1829 - accuracy: 0.9344 - val_loss: 0.4128 - val_accuracy: 0.8000\n",
            "Epoch 24/50\n",
            "32/32 [==============================] - 25s 771ms/step - loss: 0.1692 - accuracy: 0.9281 - val_loss: 0.4230 - val_accuracy: 0.8125\n",
            "Epoch 25/50\n",
            "32/32 [==============================] - 25s 780ms/step - loss: 0.1332 - accuracy: 0.9500 - val_loss: 1.0301 - val_accuracy: 0.6875\n",
            "Epoch 26/50\n",
            "32/32 [==============================] - 24s 750ms/step - loss: 0.1584 - accuracy: 0.9344 - val_loss: 0.7983 - val_accuracy: 0.7125\n",
            "Epoch 27/50\n",
            "32/32 [==============================] - 25s 779ms/step - loss: 0.1204 - accuracy: 0.9625 - val_loss: 0.6465 - val_accuracy: 0.7750\n",
            "Epoch 28/50\n",
            "32/32 [==============================] - 25s 765ms/step - loss: 0.1607 - accuracy: 0.9312 - val_loss: 0.7473 - val_accuracy: 0.7375\n",
            "Epoch 29/50\n",
            "32/32 [==============================] - 25s 769ms/step - loss: 0.2157 - accuracy: 0.9094 - val_loss: 0.2814 - val_accuracy: 0.8500\n",
            "Epoch 30/50\n",
            "32/32 [==============================] - 24s 761ms/step - loss: 0.1266 - accuracy: 0.9469 - val_loss: 0.5454 - val_accuracy: 0.8000\n",
            "Epoch 31/50\n",
            "32/32 [==============================] - ETA: 0s - loss: 0.1258 - accuracy: 0.9594\n",
            "Target reached 94.00%. Stop Training!!\n",
            "32/32 [==============================] - 25s 776ms/step - loss: 0.1258 - accuracy: 0.9594 - val_loss: 0.2014 - val_accuracy: 0.9500\n"
          ]
        }
      ],
      "source": [
        "epochs = 50\n",
        "model = create_model()\n",
        "\n",
        "history = model.fit( train_generator,\n",
        "                     steps_per_epoch = 32,\n",
        "                     epochs= epochs,\n",
        "                     validation_data = validation_generator,\n",
        "                     validation_steps = 8,\n",
        "                     callbacks= callbacks )"
      ]
    },
    {
      "cell_type": "code",
      "execution_count": 185,
      "metadata": {
        "id": "NDY4Iky1Sdvh"
      },
      "outputs": [],
      "source": [
        "import matplotlib.pyplot as plt\n",
        "\n",
        "def plot_loss_acc(history):\n",
        "  acc = history.history['accuracy']\n",
        "  val_acc = history.history['val_accuracy']\n",
        "  loss = history.history['loss']\n",
        "  val_loss = history.history['val_loss']\n",
        "\n",
        "  epochs = range(len(acc))\n",
        "\n",
        "\n",
        "  plt.plot(epochs, acc, 'b', label='Training accuracy')\n",
        "  plt.plot(epochs, val_acc, 'orange', label='Validation accuracy')\n",
        "  plt.title('Training and validation accuracy')\n",
        "  plt.legend()\n",
        "\n",
        "  plt.figure()\n",
        "\n",
        "  plt.plot(epochs, loss, 'b', label='Training Loss')\n",
        "  plt.plot(epochs, val_loss, 'orange', label='Validation Loss')\n",
        "  plt.title('Training and validation loss')\n",
        "  plt.legend()\n",
        "\n",
        "  plt.show()"
      ]
    },
    {
      "cell_type": "code",
      "execution_count": 186,
      "metadata": {
        "colab": {
          "base_uri": "https://localhost:8080/",
          "height": 905
        },
        "id": "bwNph6UdT3mW",
        "outputId": "2d7afe7f-2e5c-4784-919a-651c47792548"
      },
      "outputs": [
        {
          "output_type": "display_data",
          "data": {
            "text/plain": [
              "<Figure size 640x480 with 1 Axes>"
            ],
            "image/png": "[encoded data removed]"
          },
          "metadata": {}
        },
        {
          "output_type": "display_data",
          "data": {
            "text/plain": [
              "<Figure size 640x480 with 1 Axes>"
            ],
            "image/png": "[encoded data removed]"
          },
          "metadata": {}
        }
      ],
      "source": [
        "plot_loss_acc(history)"
      ]
    },
    {
      "cell_type": "markdown",
      "metadata": {
        "id": "BPIYESnEvKT6"
      },
      "source": [
        "save the model"
      ]
    },
    {
      "cell_type": "code",
      "execution_count": 161,
      "metadata": {
        "colab": {
          "base_uri": "https://localhost:8080/"
        },
        "id": "wEUAXXaCe464",
        "outputId": "aaa5f3ed-ebf3-41d0-e692-8c505583ac9e"
      },
      "outputs": [
        {
          "output_type": "stream",
          "name": "stderr",
          "text": [
            "/usr/local/lib/python3.10/dist-packages/keras/src/engine/training.py:3103: UserWarning: You are saving your model as an HDF5 file via `model.save()`. This file format is considered legacy. We recommend using instead the native Keras format, e.g. `model.save('my_model.keras')`.\n",
            "  saving_api.save_model(\n"
          ]
        }
      ],
      "source": [
        "from keras.models import save_model\n",
        "\n",
        "# Simpan model ke dalam file .h5\n",
        "model.save('/content/drive/MyDrive/TA_2024/best_model_so_far/model_bagus8_90.h5')\n",
        "\n",
        "# Contoh: '/content/drive/MyDrive/NamaFolder/' adalah path ke folder di Google Drive tempat Anda ingin menyimpan model.\n"
      ]
    },
    {
      "cell_type": "markdown",
      "metadata": {
        "id": "drOpHV4zoIa4"
      },
      "source": [
        "# **Testing**"
      ]
    },
    {
      "cell_type": "code",
      "execution_count": 187,
      "metadata": {
        "id": "u-S4qRPODlcY"
      },
      "outputs": [],
      "source": [
        "from tensorflow.keras.models import load_model\n",
        "\n",
        "test_dir = '/content/drive/MyDrive/TA_2024/testing'"
      ]
    },
    {
      "cell_type": "code",
      "execution_count": 163,
      "metadata": {
        "id": "ANQrDvH-Diub"
      },
      "outputs": [],
      "source": [
        "# Path ke file model .h5 yang telah disimpan\n",
        "saved_model_path = '/content/drive/MyDrive/TA_2024/best_model_so_far/model_bagus8_90.h5'\n",
        "\n",
        "# Memuat model dari file .h5\n",
        "loaded_model = load_model(saved_model_path)"
      ]
    },
    {
      "cell_type": "code",
      "execution_count": 188,
      "metadata": {
        "colab": {
          "base_uri": "https://localhost:8080/"
        },
        "id": "3vHYoLO9oH4F",
        "outputId": "a301d74f-e25d-4143-952b-f26c4192037b"
      },
      "outputs": [
        {
          "output_type": "stream",
          "name": "stdout",
          "text": [
            "Found 40 images belonging to 2 classes.\n"
          ]
        }
      ],
      "source": [
        "# Menggunakan ImageDataGenerator untuk mengonversi gambar dari direktori testing\n",
        "test_datagen = ImageDataGenerator(rescale=1./255)\n",
        "\n",
        "test_generator = test_datagen.flow_from_directory(\n",
        "    test_dir,\n",
        "    target_size=(250, 120),\n",
        "    batch_size=10,\n",
        "    class_mode='binary')"
      ]
    },
    {
      "cell_type": "code",
      "execution_count": 165,
      "metadata": {
        "colab": {
          "base_uri": "https://localhost:8080/"
        },
        "id": "O0KdWMJ0fxBO",
        "outputId": "e228f922-5416-466e-fe0f-809c926c73ad"
      },
      "outputs": [
        {
          "output_type": "stream",
          "name": "stdout",
          "text": [
            "4/4 [==============================] - 6s 1s/step - loss: 0.1977 - accuracy: 0.9000\n",
            "Test accuracy: 0.8999999761581421\n",
            "Test loss: 0.1976758986711502\n"
          ]
        }
      ],
      "source": [
        "# Evaluasi model yang telah dimuat pada dataset pengujian\n",
        "test_loss, test_accuracy = loaded_model.evaluate(test_generator)\n",
        "\n",
        "print(f'Test accuracy: {test_accuracy}')\n",
        "print(f'Test loss: {test_loss}')"
      ]
    },
    {
      "cell_type": "code",
      "execution_count": 189,
      "metadata": {
        "colab": {
          "base_uri": "https://localhost:8080/"
        },
        "id": "sZosBJEsDQDS",
        "outputId": "770ce66f-a88c-4a39-b8ac-3387fa8b87cb"
      },
      "outputs": [
        {
          "output_type": "stream",
          "name": "stdout",
          "text": [
            "4/4 [==============================] - 5s 1s/step - loss: 0.1266 - accuracy: 0.9750\n"
          ]
        },
        {
          "output_type": "execute_result",
          "data": {
            "text/plain": [
              "[0.12657156586647034, 0.9750000238418579]"
            ]
          },
          "metadata": {},
          "execution_count": 189
        }
      ],
      "source": [
        "model.evaluate(test_generator, batch_size=10)"
      ]
    },
    {
      "cell_type": "code",
      "execution_count": 166,
      "metadata": {
        "id": "BxDEdBd7wS3F",
        "colab": {
          "base_uri": "https://localhost:8080/"
        },
        "outputId": "67ba621b-b4dd-463b-f9cf-1bfbf2774e53"
      },
      "outputs": [
        {
          "output_type": "stream",
          "name": "stdout",
          "text": [
            "Found 40 images belonging to 2 classes.\n",
            "4/4 [==============================] - 5s 1s/step\n",
            "Actual: anemia, Predicted: anemia\n",
            "Actual: anemia, Predicted: anemia\n",
            "Actual: anemia, Predicted: non-anemia\n",
            "Actual: anemia, Predicted: anemia\n",
            "Actual: anemia, Predicted: anemia\n",
            "Actual: anemia, Predicted: anemia\n",
            "Actual: anemia, Predicted: anemia\n",
            "Actual: anemia, Predicted: anemia\n",
            "Actual: anemia, Predicted: anemia\n",
            "Actual: anemia, Predicted: anemia\n",
            "Actual: anemia, Predicted: anemia\n",
            "Actual: anemia, Predicted: anemia\n",
            "Actual: anemia, Predicted: anemia\n",
            "Actual: anemia, Predicted: anemia\n",
            "Actual: anemia, Predicted: anemia\n",
            "Actual: anemia, Predicted: anemia\n",
            "Actual: anemia, Predicted: anemia\n",
            "Actual: anemia, Predicted: anemia\n",
            "Actual: anemia, Predicted: anemia\n",
            "Actual: anemia, Predicted: anemia\n",
            "Actual: non-anemia, Predicted: non-anemia\n",
            "Actual: non-anemia, Predicted: non-anemia\n",
            "Actual: non-anemia, Predicted: anemia\n",
            "Actual: non-anemia, Predicted: non-anemia\n",
            "Actual: non-anemia, Predicted: non-anemia\n",
            "Actual: non-anemia, Predicted: anemia\n",
            "Actual: non-anemia, Predicted: non-anemia\n",
            "Actual: non-anemia, Predicted: non-anemia\n",
            "Actual: non-anemia, Predicted: non-anemia\n",
            "Actual: non-anemia, Predicted: non-anemia\n",
            "Actual: non-anemia, Predicted: non-anemia\n",
            "Actual: non-anemia, Predicted: non-anemia\n",
            "Actual: non-anemia, Predicted: non-anemia\n",
            "Actual: non-anemia, Predicted: non-anemia\n",
            "Actual: non-anemia, Predicted: non-anemia\n",
            "Actual: non-anemia, Predicted: non-anemia\n",
            "Actual: non-anemia, Predicted: non-anemia\n",
            "Actual: non-anemia, Predicted: non-anemia\n",
            "Actual: non-anemia, Predicted: non-anemia\n",
            "Actual: non-anemia, Predicted: anemia\n"
          ]
        },
        {
          "output_type": "stream",
          "name": "stderr",
          "text": [
            "<ipython-input-166-72175131574d>:29: DeprecationWarning: Conversion of an array with ndim > 0 to a scalar is deprecated, and will error in future. Ensure you extract a single element from your array before performing this operation. (Deprecated NumPy 1.25.)\n",
            "  predicted_class_names = [class_names[int(label)] for label in predicted_labels]\n"
          ]
        }
      ],
      "source": [
        "import numpy as np\n",
        "\n",
        "# Assuming your testing dataset is in a directory called 'test_dir'\n",
        "test_datagen = ImageDataGenerator(rescale=1./255)\n",
        "\n",
        "test_generator = test_datagen.flow_from_directory(\n",
        "    test_dir,\n",
        "    target_size=(250, 120),\n",
        "    batch_size=10,\n",
        "    class_mode='binary',\n",
        "    shuffle=False)\n",
        "\n",
        "# Get predictions for the test dataset\n",
        "predictions = loaded_model.predict(test_generator)\n",
        "\n",
        "# Convert predicted probabilities to class labels (0 or 1)\n",
        "predicted_labels = np.round(predictions)\n",
        "\n",
        "# Get true labels from the generator\n",
        "true_labels = test_generator.classes\n",
        "\n",
        "# Get the mapping from class indices to class names\n",
        "class_names = list(test_generator.class_indices.keys())\n",
        "\n",
        "# Convert numeric labels to class names for true labels\n",
        "true_class_names = [class_names[label] for label in true_labels]\n",
        "\n",
        "# Convert numeric labels to class names for predicted labels\n",
        "predicted_class_names = [class_names[int(label)] for label in predicted_labels]\n",
        "\n",
        "# Now you can use true_class_names and predicted_class_names for analysis or printing\n",
        "for i in range(len(true_class_names)):\n",
        "    print(f\"Actual: {true_class_names[i]}, Predicted: {predicted_class_names[i]}\")"
      ]
    },
    {
      "cell_type": "code",
      "execution_count": 167,
      "metadata": {
        "colab": {
          "base_uri": "https://localhost:8080/",
          "height": 578
        },
        "id": "mpHr1bLMHMmI",
        "outputId": "398ab352-ac74-4a38-f089-0dfa5b99abe9"
      },
      "outputs": [
        {
          "output_type": "display_data",
          "data": {
            "text/plain": [
              "<Figure size 800x600 with 1 Axes>"
            ],
            "image/png": "[encoded data removed]"
          },
          "metadata": {}
        }
      ],
      "source": [
        "import seaborn as sns\n",
        "import matplotlib.pyplot as plt\n",
        "from sklearn.metrics import confusion_matrix\n",
        "from sklearn.metrics import ConfusionMatrixDisplay\n",
        "\n",
        "# Assuming true_labels and predicted_labels are your true and predicted labels\n",
        "conf_matrix = confusion_matrix(true_labels, predicted_labels)\n",
        "\n",
        "# Create a seaborn heatmap\n",
        "plt.figure(figsize=(8, 6))\n",
        "sns.set(font_scale=1.2)  # Adjust the font size for better readability\n",
        "sns.heatmap(conf_matrix, annot=True, fmt='d', cmap='Blues', cbar=False,\n",
        "            xticklabels=['Predicted Negative', 'Predicted Positive'],\n",
        "            yticklabels=['Actual Negative', 'Actual Positive'])\n",
        "plt.xlabel('Predicted')\n",
        "plt.ylabel('Actual')\n",
        "plt.title('Confusion Matrix')\n",
        "plt.show()"
      ]
    },
    {
      "cell_type": "code",
      "execution_count": null,
      "metadata": {
        "colab": {
          "base_uri": "https://localhost:8080/",
          "height": 125
        },
        "id": "Ys9orJ2WqeUt",
        "outputId": "d3004a13-9048-47ac-e9cb-cc7f9beba3fd"
      },
      "outputs": [
        {
          "data": {
            "text/html": [
              "\n",
              "     <input type=\"file\" id=\"files-3637cb39-9e66-440c-a72d-bd7b8001b390\" name=\"files[]\" multiple disabled\n",
              "        style=\"border:none\" />\n",
              "     <output id=\"result-3637cb39-9e66-440c-a72d-bd7b8001b390\">\n",
              "      Upload widget is only available when the cell has been executed in the\n",
              "      current browser session. Please rerun this cell to enable.\n",
              "      </output>\n",
              "      <script>// Copyright 2017 Google LLC\n",
              "//\n",
              "// Licensed under the Apache License, Version 2.0 (the \"License\");\n",
              "// you may not use this file except in compliance with the License.\n",
              "// You may obtain a copy of the License at\n",
              "//\n",
              "//      http://www.apache.org/licenses/LICENSE-2.0\n",
              "//\n",
              "// Unless required by applicable law or agreed to in writing, software\n",
              "// distributed under the License is distributed on an \"AS IS\" BASIS,\n",
              "// WITHOUT WARRANTIES OR CONDITIONS OF ANY KIND, either express or implied.\n",
              "// See the License for the specific language governing permissions and\n",
              "// limitations under the License.\n",
              "\n",
              "/**\n",
              " * @fileoverview Helpers for google.colab Python module.\n",
              " */\n",
              "(function(scope) {\n",
              "function span(text, styleAttributes = {}) {\n",
              "  const element = document.createElement('span');\n",
              "  element.textContent = text;\n",
              "  for (const key of Object.keys(styleAttributes)) {\n",
              "    element.style[key] = styleAttributes[key];\n",
              "  }\n",
              "  return element;\n",
              "}\n",
              "\n",
              "// Max number of bytes which will be uploaded at a time.\n",
              "const MAX_PAYLOAD_SIZE = 100 * 1024;\n",
              "\n",
              "function _uploadFiles(inputId, outputId) {\n",
              "  const steps = uploadFilesStep(inputId, outputId);\n",
              "  const outputElement = document.getElementById(outputId);\n",
              "  // Cache steps on the outputElement to make it available for the next call\n",
              "  // to uploadFilesContinue from Python.\n",
              "  outputElement.steps = steps;\n",
              "\n",
              "  return _uploadFilesContinue(outputId);\n",
              "}\n",
              "\n",
              "// This is roughly an async generator (not supported in the browser yet),\n",
              "// where there are multiple asynchronous steps and the Python side is going\n",
              "// to poll for completion of each step.\n",
              "// This uses a Promise to block the python side on completion of each step,\n",
              "// then passes the result of the previous step as the input to the next step.\n",
              "function _uploadFilesContinue(outputId) {\n",
              "  const outputElement = document.getElementById(outputId);\n",
              "  const steps = outputElement.steps;\n",
              "\n",
              "  const next = steps.next(outputElement.lastPromiseValue);\n",
              "  return Promise.resolve(next.value.promise).then((value) => {\n",
              "    // Cache the last promise value to make it available to the next\n",
              "    // step of the generator.\n",
              "    outputElement.lastPromiseValue = value;\n",
              "    return next.value.response;\n",
              "  });\n",
              "}\n",
              "\n",
              "/**\n",
              " * Generator function which is called between each async step of the upload\n",
              " * process.\n",
              " * @param {string} inputId Element ID of the input file picker element.\n",
              " * @param {string} outputId Element ID of the output display.\n",
              " * @return {!Iterable<!Object>} Iterable of next steps.\n",
              " */\n",
              "function* uploadFilesStep(inputId, outputId) {\n",
              "  const inputElement = document.getElementById(inputId);\n",
              "  inputElement.disabled = false;\n",
              "\n",
              "  const outputElement = document.getElementById(outputId);\n",
              "  outputElement.innerHTML = '';\n",
              "\n",
              "  const pickedPromise = new Promise((resolve) => {\n",
              "    inputElement.addEventListener('change', (e) => {\n",
              "      resolve(e.target.files);\n",
              "    });\n",
              "  });\n",
              "\n",
              "  const cancel = document.createElement('button');\n",
              "  inputElement.parentElement.appendChild(cancel);\n",
              "  cancel.textContent = 'Cancel upload';\n",
              "  const cancelPromise = new Promise((resolve) => {\n",
              "    cancel.onclick = () => {\n",
              "      resolve(null);\n",
              "    };\n",
              "  });\n",
              "\n",
              "  // Wait for the user to pick the files.\n",
              "  const files = yield {\n",
              "    promise: Promise.race([pickedPromise, cancelPromise]),\n",
              "    response: {\n",
              "      action: 'starting',\n",
              "    }\n",
              "  };\n",
              "\n",
              "  cancel.remove();\n",
              "\n",
              "  // Disable the input element since further picks are not allowed.\n",
              "  inputElement.disabled = true;\n",
              "\n",
              "  if (!files) {\n",
              "    return {\n",
              "      response: {\n",
              "        action: 'complete',\n",
              "      }\n",
              "    };\n",
              "  }\n",
              "\n",
              "  for (const file of files) {\n",
              "    const li = document.createElement('li');\n",
              "    li.append(span(file.name, {fontWeight: 'bold'}));\n",
              "    li.append(span(\n",
              "        `(${file.type || 'n/a'}) - ${file.size} bytes, ` +\n",
              "        `last modified: ${\n",
              "            file.lastModifiedDate ? file.lastModifiedDate.toLocaleDateString() :\n",
              "                                    'n/a'} - `));\n",
              "    const percent = span('0% done');\n",
              "    li.appendChild(percent);\n",
              "\n",
              "    outputElement.appendChild(li);\n",
              "\n",
              "    const fileDataPromise = new Promise((resolve) => {\n",
              "      const reader = new FileReader();\n",
              "      reader.onload = (e) => {\n",
              "        resolve(e.target.result);\n",
              "      };\n",
              "      reader.readAsArrayBuffer(file);\n",
              "    });\n",
              "    // Wait for the data to be ready.\n",
              "    let fileData = yield {\n",
              "      promise: fileDataPromise,\n",
              "      response: {\n",
              "        action: 'continue',\n",
              "      }\n",
              "    };\n",
              "\n",
              "    // Use a chunked sending to avoid message size limits. See b/62115660.\n",
              "    let position = 0;\n",
              "    do {\n",
              "      const length = Math.min(fileData.byteLength - position, MAX_PAYLOAD_SIZE);\n",
              "      const chunk = new Uint8Array(fileData, position, length);\n",
              "      position += length;\n",
              "\n",
              "      const base64 = btoa(String.fromCharCode.apply(null, chunk));\n",
              "      yield {\n",
              "        response: {\n",
              "          action: 'append',\n",
              "          file: file.name,\n",
              "          data: base64,\n",
              "        },\n",
              "      };\n",
              "\n",
              "      let percentDone = fileData.byteLength === 0 ?\n",
              "          100 :\n",
              "          Math.round((position / fileData.byteLength) * 100);\n",
              "      percent.textContent = `${percentDone}% done`;\n",
              "\n",
              "    } while (position < fileData.byteLength);\n",
              "  }\n",
              "\n",
              "  // All done.\n",
              "  yield {\n",
              "    response: {\n",
              "      action: 'complete',\n",
              "    }\n",
              "  };\n",
              "}\n",
              "\n",
              "scope.google = scope.google || {};\n",
              "scope.google.colab = scope.google.colab || {};\n",
              "scope.google.colab._files = {\n",
              "  _uploadFiles,\n",
              "  _uploadFilesContinue,\n",
              "};\n",
              "})(self);\n",
              "</script> "
            ],
            "text/plain": [
              "<IPython.core.display.HTML object>"
            ]
          },
          "metadata": {},
          "output_type": "display_data"
        },
        {
          "name": "stdout",
          "output_type": "stream",
          "text": [
            "Saving 528.png to 528.png\n",
            "1/1 [==============================] - 0s 85ms/step\n",
            "[[0.8827432]]\n",
            "528.png is a non-anemia\n"
          ]
        }
      ],
      "source": [
        "import numpy as np\n",
        "\n",
        "from google.colab import files\n",
        "from tensorflow.keras.utils import load_img, img_to_array\n",
        "\n",
        "uploaded=files.upload()\n",
        "\n",
        "for fn in uploaded.keys():\n",
        "\n",
        "  # predicting images\n",
        "  path='/content/' + fn\n",
        "  img=load_img(path, target_size=(250, 120))\n",
        "\n",
        "  x=img_to_array(img)\n",
        "  x /= 255\n",
        "  x=np.expand_dims(x, axis=0)\n",
        "  images = np.vstack([x])\n",
        "\n",
        "  classes = loaded_model.predict(images, batch_size=10)\n",
        "\n",
        "  print(classes)\n",
        "\n",
        "  if classes[0] < 0.5:\n",
        "    print(fn + \" is a anemia\")\n",
        "  else:\n",
        "    print(fn + \" is a non-anemia\")"
      ]
    },
    {
      "cell_type": "code",
      "execution_count": null,
      "metadata": {
        "id": "7obYmTHcG23g"
      },
      "outputs": [],
      "source": [
        "# PENGUBAHAN MODEL DARI H5 KE TFLITE\n",
        "# JANGAN RUN ULANG\n",
        "from tensorflow.keras.models import load_model\n",
        "\n",
        "# Gantilah 'nama_model.h5' dengan nama file model H5 Anda\n",
        "model_path = '/content/drive/MyDrive/TA_2024/best_model_so_far/model_95%_file.h5'\n",
        "model = load_model(model_path)\n",
        "\n",
        "import tensorflow as tf\n",
        "\n",
        "# Inisialisasi konverter\n",
        "converter = tf.lite.TFLiteConverter.from_keras_model(model)\n",
        "\n",
        "# Konversi model ke format TFLite\n",
        "tflite_model = converter.convert()\n",
        "\n",
        "# Gantilah 'nama_model.tflite' dengan nama file yang diinginkan\n",
        "tflite_file_path = '/content/drive/MyDrive/TA_2024/best_model_so_far/model_95%.tflite'\n",
        "with open(tflite_file_path, 'wb') as f:\n",
        "    f.write(tflite_model)"
      ]
    }
  ],
  "metadata": {
    "colab": {
      "collapsed_sections": [
        "cewINvI3CNtc",
        "vK7jr8seBba_",
        "rt05WlF3JFRD",
        "D_-aPQkYjEAu",
        "umpDn1u7quxa",
        "h_v_Bs0_2LUp",
        "67NBCBzt28Wu",
        "RLFw0Oap3Rzn",
        "7fY4QmtIXbiE"
      ],
      "provenance": [],
      "authorship_tag": "ABX9TyPck8G1p9Wej6u6Kef+xDNu",
      "include_colab_link": true
    },
    "kernelspec": {
      "display_name": "Python 3",
      "name": "python3"
    },
    "language_info": {
      "name": "python"
    }
  },
  "nbformat": 4,
  "nbformat_minor": 0
}